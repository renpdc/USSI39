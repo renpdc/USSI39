{
 "cells": [
  {
   "cell_type": "markdown",
   "metadata": {},
   "source": [
    "## Télécharger un fichier distant\n"
   ]
  },
  {
   "cell_type": "code",
   "execution_count": 11,
   "metadata": {},
   "outputs": [
    {
     "data": {
      "text/plain": [
       "6896"
      ]
     },
     "execution_count": 11,
     "metadata": {},
     "output_type": "execute_result"
    }
   ],
   "source": [
    "import requests\n",
    "\n",
    "url = 'https://www.linguee.fr/mp3/EN_UK/b5/b5c0b187fe309af0f4d35982fd961d7e-300.mp3'\n",
    "r = requests.get(url, allow_redirects=True)\n",
    "\n",
    "localPath = \"./../data/audio/dbg.mp3\"\n",
    "open(localPath, 'wb').write(r.content)"
   ]
  },
  {
   "cell_type": "markdown",
   "metadata": {},
   "source": [
    "## Afficher un player audio\n"
   ]
  },
  {
   "cell_type": "markdown",
   "metadata": {},
   "source": [
    "Fichier local"
   ]
  },
  {
   "cell_type": "code",
   "execution_count": 12,
   "metadata": {},
   "outputs": [
    {
     "data": {
      "text/html": [
       "\n",
       "                <audio  controls=\"controls\" >\n",
       "                    <source src=\"data:audio/mpeg;base64,//tQxAADSPyw7iSEcMFVmqEIxIw4YBI83EA5M5HTdtwuozptJj82PsCGx8u/eCHOm5pTSufTSn+8TnK/+VFiADiBspE4hPvqAYHRW9Nby+cnInIZ+k+X1v6wt/8uhIBwPgoQwNEjkYUMIL9ZtNEDtTQoBjkaOSAErufojmTu5omEvHIpCmAV4WyFFYafk/HM0SuL9AQiuECDPJuSguIQJD4nP94gX+fcD4W/v5mGZenyhxUM8fyiHIcifaHcAqzSApJJRZCU70w1dCMsRDHUx//7UsQOgwyYzRAHmGdJaSOjSPMMqKLNTcz0JQl3j1pIkcYOaolLljG56DJSOsRGtM6kgscTFAMrl2/eXEAdxt5eYOmkpPyw/Pqrhi3iF72EO//qLXUt6zLdTjPzzlQFB+HUf0NLXNLJyA9mtli5ldyEYgxtHR0LOkjkHsOHjPw3Z5CM8f4p7fz0I9syMzta3REhxETf7ca/cidyPrZOYh23JNvHWlAsIBRzUk6Ty6dqkWFOF6NNiwLQcTTQWDqSUhEMkmcHLiGpRCUMc4q6UosA//tSxA0ADCz3HKYYZYldJeVwkww9VNAkYb1HrLsoecq5TIGfczpHsn2qdSa6Vm+E2zgqbqlrqZyq/cmcwNzVmJPrf6WlJGlPbuRs8oPoJwf///XP19hGD3Wd/jtABAptyaUUB82MLOYp7sq1QUfr7EmM7G/Q4QQSUK5F+yvHrWPsILhAjr9KZk5I6KZG3so7VgVHtw9lJZeEbkcg8SvMtBMntLm+k5kWvLvxgYXUKczj6/UyAQAMFhYDfV2lIxrBAMiQhaXSrJSOjnX+cnKVXY//+1LEDoBL+TclJ5hlwWwc5ODDDGg8d00KlrntTa6FbeBDgAbdaVXqLFnaznOsv8NAZ6L3fOEYjIHHPKOT67oXka5Hp0Ut0rJBwG86BSgSkPzZ9XyG05Y8AAhFBQMiYPZY0GTWamxPuTJ0vGFAjpQmImLdFjlaE8+EeWhpvUMqnZ5emhkv2mlPKmdMjq8H0BwhjJgi6BCB5hE+0HAQJLtKqWKxGMg6CSUx4CxH91n2DD0MpgHCUzI74Sum7ZIaWoW5nVKiGn5hc2DZZFScoHJeo//7UsQPAAwpLyYmGGdJkiLlZMMMsaFWyubCPndydPdLR0prp/K1i6DP7mcrP661XKVaQVUiE/78M4XobyNkTl2Yhje2hWlI8qezLU11u0y3tO7ytUvXOomAgAFlCmJAsLCaMfYg7VKOF3EDtY1RzysRVSVFgzzniRY2TgcLPsOExtq55ERvcmvcz1+E3m+1N0IWGB10EK3kSKHp5KmjEch+QixxfntTnvgvt/9YUc6Q9nDDy4+N/Vv22kB36gAwYm6vxOAuAw2TRTImejSiipAq//tSxAoADMVzMSekYQFzoWpykDAHORHEBqeWOTiePacMotcK0ewWHSNFr70iqJfJkQ5kfSXfWPKVBIYMUTJsubyVkp8aO4NCgspDM4nCP4ZtmjtfXOZ/uXzd5c7MtCx7UxcY4pD6R4AcdrTmqazAFwbh+9okLcLFWqwnd4noTuERM39Cdxcd4m5ohoW8RCQu33j8T3QuE5micRXhSXPb79kTzS+REQGeaRCDm5Z3X72drhv+L/vuT7LW3Ph08hho+SZXmgAAYk20Wk47h2nG/vr/+1LEBoAMFSlruYaCEXkwbzce0gtoAsIfhzZFYz59nL5ZYuR/9ugA9DmS01JKEurWg+FTJzuivT8vJ+l1Kr/0nW1X0Pk4vlH6LIf5FmutjlX/SZ/Z6KKJw+mktJz4JgNVzvsuRFn3f0gAMyPRuOSYSjOuagYDMkXdxPTS/xRh19a7WcjLTjIJbZmTKz4cCu+4S4DqBMi2Rfb49ix9X/zheoO/1fb9yx3/+3yaxJnqdAl////GWg6k12TTO/////mTlM8kH83RAGh4BWAJTiBqlP/7UsQFAAu1B2Nc9AAxaa5vdGEa/vnQoZ4tt0tWeu6XJtWHWp6bkOVF088wOeK2SxlX/0/c/BNzPSXd1CTq8f///9tElDxw9LSnh+Km//k4ibFRoXE4wzHf9fINaGwXcHgsTAZcAE9PUAXNHNI560r+gyQLw6z9H3iEey0RkMabdf7rjAFioeiWM5coRifTq9v1+sy/6aSgg4lEvKbGHekqPXzbnIQzN//J/ufKEDCSKwJykMq562nxjucw2AqrCtRJKAC7a5rJPrJfvDFZoDIg//tSxAcAC81bg6GUVfGHp63qmIAHcUNmkG9wSn0yooBbKtkYXGR+cSEP/VFUeQ5FRrbkKczMv77hAaBxQVJUqjlSjr394wcLhAo9BAWFzJf/2/+7Ohxz0YWZjuLIqOMNd7qAs4BgXtciZEU7wiBZGRcVQsuVZ/93HhYbNj3VIm7kRAXUOQb31EL82XE/8//8aR9Rv8MSY8////Nnly/ff8wk3HVR7ux5osMZbcao1f/953/iI+39y4WVa9GCFiD7vlirKn///pUEbVElrbC5S4r/+1LEBIALqX1ieYKACXEtL+uMUAYOFGI4KXFB7Wsb1zW4jT0/YiLOCHZ8BXEw+qsWURHw+P1FFHcqEyizZlo9Bc6slHGsjeIt8jftp1HTnV93J31ZFJZW+MHEdltflzev//Ox3/+NqFcAPl4lRtJ3kCuJonfQVWu+6Wwoktzr3Oo86szcxyioccqW6JbrHDBQiIzffdGIln/lGKRcqOpAHOzut70QcRVR3OFg4fcXOv1///7tmVhcVDCEZrj1j7Q8MNQl0pUApHiTK0pOulqS4f/7UsQFgAvdW4FEjEmxeK9xdGGVPqUMnjQ5crRcw1ZLysEdkcnukwRyhxAlfyUuQ6mYGwCYAUK5FIEAgwrol6t7gkAyox03DA0KdmVqymECThGJPBO6Mm7eHdrp/+Up3zEFgIMpsdWVIhARNKNp2RO/wBa78tMbJrTcGQiYyHblwSEikpTJIRDYfV/0siMRZlFRJRxifXVXOo86uT9TN/p9dkIgiOCQ8VOIzHKLGY4mrv45E/t/9q1EhwgOtOrPPVTi4qd/KCcARBbbcvU69p9B//tSxAUCCzkBdueUcdFtL+6M8wj7flU1bmx54F7MlIt8XR+4wwuhh62pdIqE0J/1ZuysscERM5vVizsWy2T61hHM50M0ObI7hgBwwQDYIEQPAuNSEUNWOIs//AxcVDY1BcMgNaAC22rcrhudNDY2BkhRyy8qzTkwHO2/1/kNgjc/2yWSwcUDEG/5UrZNDCHAi9aKcrnKhymI7fMOJSVHGMjGXVqodVc5UcWs63VWdflBIIIn3///zKuyWZTgYQYCAAAgCZXgVXYuQKYKYbtfUlL/+1LECIAKKRd7NJKAMcalsXcM0AJCjZFcnoOFVslzJOYiCAx3/7FX3RHD4nf+IrlVGsq+7lWzLb/5RcWGGBgGFqP6GKIlFQViYDf/9QMgFoKkjR1yyAACg2nHLHJu99vd+OL2Z3pauiOdrGdjyY2l5tSRuO4QfMqaRgNRKhyg7rzFB+Lpe1JeyE6uPVhPQ4xlP0da1MhWXCCOIazMooK6dJN0NaTJkwpFEuzYkBGw3OrUtI0XT28LycLxJJovrqPgmfX/7omUAIAQJIRUbkEg4v/7UsQFAAuZO424I4ARfDKw6xBwAtt+/GY2EBkinDkFgGpy97XOIbzGG4nEAxzmMMYAg16nP/6nt7f5AHAPweCMb/z/uYevcxtH/mXny5pMbjQfKncyq9uWLOVEsmI4lvmWKGAib/+hQAUIVsqW8WyWzAdrYxVDh3QNE8UymNaEpudZcjoc9XHh0aio338SA9fQ/z3xKE4OQFDKf/Mbqb37ZxzbNvU008hmuram05+fv4RC4Hw8D48eL/////+lUOjY0RTRqiIggAgMFF5Owa30//tSxAUAC5lzj7iFAhF+rfK3DKJDWT3DZ4HA2uGsGJOvhyPNjrP3c4eZ55lipCRCxzjH4AwLBP/5u8wflk6dF7JMPKky/+rdTTiRqMMyf363d6L46040jIyhq1+pv///RFMGQoJ1b6wGAQUlHKoE9t7e5pRsCkHZOxthbR73gXYkYemtnnCycASqSzz3HxCKoqeZ4qluf8xkMM6sd02PWee7nUNq/7Z7+6HFSZUci6t6Ix+e/C9NISY4fEJn///Qww8//qUfIbUABCTDao5CiNL/+1LEBIALqQt9WJaAEXclr6sScAO1wAlEW0cJGWQNNCXDQk60KLhfenJAkBj78vD2HaPPopoNBXx7Hmot0PWigOMbX6v9AvGKQ5iAb/9eu9M69Zgh1tXV6HqMThLGpuluKjcvC/6hYKpAAggTzikFgrDrgAVUbkwbEMBVpI8VCf3CYOhtkJyluUGwPBUOiKGPLEBHEsBII2v41Eu/VH/44QPRGWVN/2EgqTAeFBZmlBuWHWG3/ZZ57VJg+OHpw2NR9v/IPoskAAAABLKiEbrFQv/7UsQFAAuxOX24lQARQR+uq5BQBiEtwF2tmQkII4amJpdL1JdrRNFnbcgCSGR1TfFcVhBgMMd38YhaIW6P/5GIgud6t/qaal/mm//qqEI+LGEYLBu0396VX3EUPxDEIyIi7v//1hxRIAFKiUEiZBguMWxMCl0ZXSWSR4RsdLspXIUPkZ03Qp0Zbox///rRimf8hm/0IrkVyJ7LJYTih3IjNejj700A+9+CKgJ/+ldJdg4kFnOUiG5pAKX9KCQqXrVspATxVlliOHR5ZZbFFDWW//tSxAwACg13e0MMqfFDLfA0MosWfKyumUxR9Sf/8QGiQoDr17l2MvbFik//5VSlpqoqirL/Qte05HRf///9yOx1RnYXIDgJ7GKfCILgguNSyS+xu6tSNXJmcmWUF1GJqRlZUBoam2jjChqTCRTL8vZPqxpjeVDioa/7qrDjP0/+z3pI/QqCCout6m/lslH///+yHbYG09FVpn1HbQqqAERHUFIVKKFqJyaBTo1mJ08lPJIFKynytKKzjPZPcqWgpEKzqv/2RCoU+/K3/YkYzar/+1LEGQAJpP1e55hHIUKfbvQwj15Vcja9PkYhgoYpjsJTrUt+8Abbo8BCRQoAGfQAE23LZbY03KTZRsV2GqhrqR5bH9lE3/vHUst2AiQsoTnyM40QgtchOXypOcJmFeIUKhk5/VEqAiQkB1GJuYa/ijUKDoWfFBUGgowUcbf8XFoAlJKSRuNAF0TDVQWex0oeUN/ebXgtELdO0mE8u05N4RUr8hGhsa+5wjRD4km+WoOjK5un9sRH67/2QjVPaQjf///9aqf3R3iynundguHn8//7UsQoAApNWW+hjFP5SqvttDCLU/+B4KNkbllliTcxKCjWo4NGjGTKx+V+HDmlz1Qyps5/fPCoxkM3TZhObIpx4X/6M0qdpDmUyj0oQh37IhiElV0on//7W9Lq1dK6ibqXvoTQxGB8Q1cJFRpttuMgpMEqOrZzGqlNYZX66kSrtucImW/lrLEp1MOhrPK7pp9nruTr+5WeXbslDWre+yQgwWUTEG365kNjBjmimKxrGOHAI2KWuHml3hIaVOOWyEAoCRzXnu7bjEXDthow/fzQ//tSxDOACfz3Y6MMS9FQn+t0YYl4eGudhqsP0tpEdK3/sqX9HRX+9OYKZmXeVcTcrWqiKu9TKOWGAv+rMmhUe5yGOc8OjVJAd5ABihwFwHNWDAmNfKnI9CAUGNYx5FZAFQdiqOPfOftqe57l2Ty6uZcMdyaZOWez9slsv5cfLKwhJE8kBrifC6mFSL//7UcCGw9GI3mfBSRsDhuDBI6Rogk/v9BRUqTLbjAIIGFEjSkQgDmRMBir5JlKp0Ns4QMUNDcUIugZZ5IUQ/9wRUS5R+n/+1LEP4AKMWNboYR9CTmtKzQQjvhYU1K2bMZHKIVCpf8y4ilr68wQ+nVGMMFwYiMEkLeoZ9NKu2VySSwAF4+puRnHTZNnsUldm860qLpTyEbAHjgbNEIxbZGm+wlkX/zAiOU0TNtKOeMnMyzQbSFL//r5Nbz3fM2kx3RocO7LBsGQeUc+Yxl7NtxywAlHmPzfpxLLou6r6QsycnsPL3nc/W+Tg26TF+/lkggOxn5fBSM7MRZZIm9jsxNP+UrD/+dHjZM3i/lmZP8asPRVmLFgLf/7UsRNgAnxgVuhhFfJOq4rNDCPoXfb/SoqVpwttugAlOWzh6ErEXtWX6zyH+fDv94xocK5n+ShHqRUPuX1q12qCdLldWVrVJb6sZWdiEVVJkX/1/VzoZbMXnXaYy9WS4J0jsbWRQo3XbxBIcYTT/AEklNyVGIXGq4kutVC82g58h2Hn9BIeYy7g7vupk/rRCu3/sHjhRp+w+uCvSxGJq+nydb11f/////T/hatjR8vxQTyA4bSNCmAnbu//QvKGSycR1lcYrSob2vD/yyelxc1//tSxFwACilxVaGAXAlLBOnwEIwB7VJZ8PAh6yH+TuzkcprtsREQi5LaLMlxqVWUN3OOaBxlF28KtdTj/+du8sNUvU+Y458uJK9opoT65ruBI4TIoCAtaXNpmbiYqZSEzRTysFOquac44+/ezKQGy9I+HqzqQ+tvbre/P0JnbtLMhVqktzzoiJ69/N+ECCjQ6tmzlkiUzDIZDT1IyTYSVbUSK2TTeytFtAQGQ6QmDyFrdXQm4hImMLQQLisl4Cv1fshGoEZXvFJrFP8xrG7/887/+1LEaAAJ7PdGoYR6SUAgqGSAjKDkUwq0IJVVq963fv7ClWMSlhhRlxXsUlY4iRrx8kK2mUdegBApFdJutKMB0B5VpNOiR2UluvvORnGPBUzmLwayazIwJWn7HmgoSz6kjH/PNSL+NwwZ/s3+yqRhVgIVLqRrVI16pNjWPAI2BI8Hf+VcNrBqosoAhW0iokQAqDvTJVSPIacSd7Aos4p9YGLFCWcU2cM61oSlnfEmbqJEkdNI5SrQw++ytK65S8hPHPzDAVxcPkTICREgYVaMK//7UsR2AApRBU+hhGhhR5+ndMMMeH51//0AlQkAC9LEqznsO63UWs5JpRQMQ3hZhqRjEesM3QTLTyPUyJ2QquqrSIiAggGENxjcOx0jI7vG+qaGbeahapIw6lxhFZ3kNXkrl/q/91MBF8HUYzEnymPOYDNmbcrWpIMArIWywmlB6mO3kUf50ramxkWwFxIT+bNxclPzlL5ns2ZYXIrmOo0AUDFn21TytKqE8dn12/svWjSAB4BaIOURKJJgCsjZcCuwSrscKQkg4eK27SqR1upk//tSxIGACWzDLUYYYsE2GmTM8wxgpQlBSQWwRcg5O71odKRldiJzMy1OQUaKjhVTRE+lxkqRrSh/0I0rfp6//96lACeA8SSn4XYckVOUUk0i4tGEZxM64rfNamaHS2QhhovOG3mZ5JJmbHqTdc44nJTV6hAwTSp5pwsTTJ808JpoOn1zFDre31+v1B6W+gAApJSSayIADpzAfzYtGlJ6pdLQGCreZETt6qse2tYXEZqbSwGJJU4xidTfdCeMio+3Dv/+89oAgUAARbXoyLENjxL/+1LEkwIJNNMip6RlATOYJAjDDKCtMWRxaX3XFmSZnGOQIasnUcMyB0AKZUWsLJivIgMN5gcGfaBGip43eNKrLFQOVOigjaVG3uasEnrsFptN7a5xlo3Sn197O7G3twAps/aU7w8dcCuOcHh6UcKtDd3MdpdtZuUSpg0VFIQo4ZDOKDCZMjJILqjQGTNqlmwbeGYogKHbGBUKQaGAUu0ZF3PQ4qMo16tCfM++K2Cr6WIANcAAKsQJ3KgcAkWy2ftCUx165E4ktsSf6cPrMRPlqf/7UsSlgAmIuR6nmGNA2w/ldPAMgRAzOVVUWR6kEiWenMs3ZTEoBDQsIyY0CJJDGhMSpgqATJkAhObDqQCeDpUbLAz3raJ6TJ6yrFZH+5gsSPWlbHEy0L8NwWJjHM3szpUxJYSejYOJDiXOc6/lY/r1X/BjxlXnKhdhJqFoiUyVswWcY7DWlbOftYGFRjUsNTpRczhqbVaMz/qDFGaDxFrJZZ6HXJGuEoVvEsJ6tYatErloU9IKxKIsVh8kACNGaXk5j1QA9TABRC6VInslQyzH//tSxMICSqSFGMwkY4FKD6KJhKBQNYbAR7NmtXjeqs2zMzWxtqQZl+rtQFqV2ZrROsMvsAjVSwtXYVSbVBVUmMK1ASomNswE8OsnYlOhUBB2IoKgqo8JRh7prLBUY5R4sepqFJEIRoPjA2QE5pCsmkuoukWKlipwuUIwBHlljkrWWWVWUEDgOBcVFRUV/xYGRUVEYQb/irMWFhYWFxUVFSL/FhbFRUVZ8YLC1UxBTUUzLjk4LjJVVVVVVVVVVVVVVVVVVVVVVVVVVVVVVVVVVVX/+1LEzAJMEH0MzDDAgZEd4EjzDbBVVVVVVVVVVVVVVVVVVVVVVVVVVVVVVVVVVVVVVVVVVVVVVVVVVVVVVVVVVVVVVVVVVVVVVUxBTUUzLjk4LjJVVVVVVVVVVVVVVVVVVVVVVVVVVVVVVVVVVVVVVVVVVVVVVVVVVVVVVVVVVVVVVVVVVVVVVVVVVVVVVVVVVVVVVVVVVVVVVVVVVVVVVVVVVVVVVVVVVVVVVVVVVVVVVVVVVVVVVVVVVVVVVVVVVVVVVVVVVVVVVVVVVVVVVf/7UsTHg8yhAugHpGjBIYzJwJSMeFVVVVVVVVVVVVVVVVVVVVVVVVVVVVVVVVVVVVVVVVVVVVVVVVVVVVVVVVVVVVVVVVVVVVVVVVVVVVVVVVVVVVVVVVVVVVVVVVVVVVVVVVVVVVVVVVVVVVVVVVVVVVVVVVVVVVVVVVVVVVVVVVVVVVVVVVVVVVVVVVVVVVVVVVVVVVVVVVVVVVVVVVVVVVVVVVVVVVVVVVVVVVVVVVVVVVVVVVVVVVVVVVVVVVVVVVVVVVVVVVVVVVVVVVVV//tSxM6DwAABpAAAACAAADSAAAAEVVVVVVVVVVVVVVVVVVVVVVVVVVVVVVVVVVVVVVVVVVVVVVVVVVVVVVVVVVVVVVVVVVVVVVVVVVVVVVVVVVVVVVVVVVVVVVVVVVVVVVVVVVVVVVVVVVVVVVVVVVVVVVVVVVVVVVVVVVVVVVVVVVVVVVVVVVVVVVVVVVVVVVVVVVVVVVVVVVVVVVVVVVVVVVVVVVVVVVVVVVVVVVVVVVVVVVVVVVVVVVVVVVVVVVVVVVVVVVVVVVVVVVVVVVU=\" type=\"audio/mpeg\" />\n",
       "                    Your browser does not support the audio element.\n",
       "                </audio>\n",
       "              "
      ],
      "text/plain": [
       "<IPython.lib.display.Audio object>"
      ]
     },
     "execution_count": 12,
     "metadata": {},
     "output_type": "execute_result"
    }
   ],
   "source": [
    "from IPython import display\n",
    "d1 = display.Audio(filename=localPath)\n",
    "d1"
   ]
  },
  {
   "cell_type": "markdown",
   "metadata": {},
   "source": [
    "Fichier distant"
   ]
  },
  {
   "cell_type": "code",
   "execution_count": 13,
   "metadata": {},
   "outputs": [
    {
     "data": {
      "text/html": [
       "\n",
       "                <audio  controls=\"controls\" >\n",
       "                    <source src=\"https://www.linguee.fr/mp3/EN_US/b5/b5c0b187fe309af0f4d35982fd961d7e-300.mp3\" type=\"audio/mpeg\" />\n",
       "                    Your browser does not support the audio element.\n",
       "                </audio>\n",
       "              "
      ],
      "text/plain": [
       "<IPython.lib.display.Audio object>"
      ]
     },
     "execution_count": 13,
     "metadata": {},
     "output_type": "execute_result"
    }
   ],
   "source": [
    "audio_url = \"https://www.linguee.fr/mp3/EN_US/b5/b5c0b187fe309af0f4d35982fd961d7e-300.mp3\"\n",
    "d2 = display.Audio(url=audio_url)\n",
    "d2"
   ]
  },
  {
   "cell_type": "markdown",
   "metadata": {},
   "source": [
    "## afficher plusieurs widgets"
   ]
  },
  {
   "cell_type": "code",
   "execution_count": 14,
   "metadata": {},
   "outputs": [],
   "source": [
    "import ipywidgets as widgets"
   ]
  },
  {
   "cell_type": "code",
   "execution_count": 15,
   "metadata": {},
   "outputs": [
    {
     "data": {
      "text/html": [
       "\n",
       "                <audio  controls=\"controls\" >\n",
       "                    <source src=\"https://www.linguee.fr/mp3/EN_UK/b5/b5c0b187fe309af0f4d35982fd961d7e-300.mp3\" type=\"audio/mpeg\" />\n",
       "                    Your browser does not support the audio element.\n",
       "                </audio>\n",
       "              "
      ],
      "text/plain": [
       "<IPython.lib.display.Audio object>"
      ]
     },
     "metadata": {},
     "output_type": "display_data"
    },
    {
     "data": {
      "text/html": [
       "\n",
       "                <audio  controls=\"controls\" >\n",
       "                    <source src=\"https://www.ldoceonline.com/media/english/ameProns/love1.mp3\" type=\"audio/mpeg\" />\n",
       "                    Your browser does not support the audio element.\n",
       "                </audio>\n",
       "              "
      ],
      "text/plain": [
       "<IPython.lib.display.Audio object>"
      ]
     },
     "metadata": {},
     "output_type": "display_data"
    },
    {
     "data": {
      "text/html": [
       "\n",
       "                <audio  controls=\"controls\" >\n",
       "                    <source src=\"https://dictionary.cambridge.org/media/english/us_pron/l/lov/love_/love.mp3\" type=\"audio/mpeg\" />\n",
       "                    Your browser does not support the audio element.\n",
       "                </audio>\n",
       "              "
      ],
      "text/plain": [
       "<IPython.lib.display.Audio object>"
      ]
     },
     "metadata": {},
     "output_type": "display_data"
    },
    {
     "data": {
      "application/vnd.jupyter.widget-view+json": {
       "model_id": "d5a695fe943a4c879a170d3da07ee1d8",
       "version_major": 2,
       "version_minor": 0
      },
      "text/plain": [
       "HBox(children=(Output(), Output(), Output()))"
      ]
     },
     "metadata": {},
     "output_type": "display_data"
    }
   ],
   "source": [
    "audio_widgets = []\n",
    "\n",
    "listUrl = []\n",
    "\n",
    "listUrl.append(\"https://www.linguee.fr/mp3/EN_UK/b5/b5c0b187fe309af0f4d35982fd961d7e-300.mp3\")\n",
    "listUrl.append(\"https://www.ldoceonline.com/media/english/ameProns/love1.mp3\")\n",
    "listUrl.append(\"https://dictionary.cambridge.org/media/english/us_pron/l/lov/love_/love.mp3\")\n",
    "\n",
    "for urlCur in listUrl:\n",
    "    out = widgets.Output()\n",
    "    with out:\n",
    "        \n",
    "        display.display(display.Audio(url=urlCur))\n",
    "\n",
    "\n",
    "    audio_widgets.append(out)\n",
    "\n",
    "\n",
    "widgets.HBox(audio_widgets)"
   ]
  },
  {
   "cell_type": "markdown",
   "metadata": {},
   "source": [
    "## Librosa"
   ]
  },
  {
   "cell_type": "markdown",
   "metadata": {},
   "source": [
    "Pour utiliser que librosa puisse lire des mp3 il lui faut par exemple ffmpeg.\n",
    "\n",
    "Sur sa machine windows, le plus simple est de télécharger un build :https://www.gyan.dev/ffmpeg/builds/\n"
   ]
  },
  {
   "cell_type": "code",
   "execution_count": 16,
   "metadata": {},
   "outputs": [],
   "source": [
    "# et d'ajouter le path\n",
    "!set PATH=\"C:\\Users\\mnauge\\Documents\\Work\\myTools\\ffmpeg_full_build\\bin\""
   ]
  },
  {
   "cell_type": "markdown",
   "metadata": {},
   "source": [
    "Sur une machine distante linux, il est possible d'utiliser le code suivant :\n"
   ]
  },
  {
   "cell_type": "code",
   "execution_count": 17,
   "metadata": {},
   "outputs": [
    {
     "data": {
      "text/plain": [
       "\"\\nexist = !which ffmpeg\\nif not exist:\\n  !curl https://johnvansickle.com/ffmpeg/releases/ffmpeg-release-amd64-static.tar.xz -o ffmpeg.tar.xz      && tar -xf ffmpeg.tar.xz && rm ffmpeg.tar.xz\\n  ffmdir = !find . -iname ffmpeg-*-static\\n  path = %env PATH\\n  path = path + ':' + ffmdir[0]\\n  %env PATH $path\\n\\n!which ffmpeg\\n\""
      ]
     },
     "execution_count": 17,
     "metadata": {},
     "output_type": "execute_result"
    }
   ],
   "source": [
    "# Download latest FFmpeg static build.  \n",
    "\"\"\"\n",
    "exist = !which ffmpeg\n",
    "if not exist:\n",
    "  !curl https://johnvansickle.com/ffmpeg/releases/ffmpeg-release-amd64-static.tar.xz -o ffmpeg.tar.xz \\\n",
    "     && tar -xf ffmpeg.tar.xz && rm ffmpeg.tar.xz\n",
    "  ffmdir = !find . -iname ffmpeg-*-static\n",
    "  path = %env PATH\n",
    "  path = path + ':' + ffmdir[0]\n",
    "  %env PATH $path\n",
    "\n",
    "!which ffmpeg\n",
    "\"\"\""
   ]
  },
  {
   "cell_type": "code",
   "execution_count": 18,
   "metadata": {},
   "outputs": [],
   "source": [
    "import numpy as np\n",
    "import matplotlib.pyplot as plt\n",
    "\n",
    "import librosa\n",
    "import librosa.display"
   ]
  },
  {
   "cell_type": "code",
   "execution_count": 19,
   "metadata": {},
   "outputs": [
    {
     "ename": "NoBackendError",
     "evalue": "",
     "output_type": "error",
     "traceback": [
      "\u001b[1;31m---------------------------------------------------------------------------\u001b[0m",
      "\u001b[1;31mRuntimeError\u001b[0m                              Traceback (most recent call last)",
      "\u001b[1;32m~\\anaconda3\\lib\\site-packages\\librosa\\core\\audio.py\u001b[0m in \u001b[0;36mload\u001b[1;34m(path, sr, mono, offset, duration, dtype, res_type)\u001b[0m\n\u001b[0;32m    148\u001b[0m     \u001b[1;32mtry\u001b[0m\u001b[1;33m:\u001b[0m\u001b[1;33m\u001b[0m\u001b[1;33m\u001b[0m\u001b[0m\n\u001b[1;32m--> 149\u001b[1;33m         \u001b[1;32mwith\u001b[0m \u001b[0msf\u001b[0m\u001b[1;33m.\u001b[0m\u001b[0mSoundFile\u001b[0m\u001b[1;33m(\u001b[0m\u001b[0mpath\u001b[0m\u001b[1;33m)\u001b[0m \u001b[1;32mas\u001b[0m \u001b[0msf_desc\u001b[0m\u001b[1;33m:\u001b[0m\u001b[1;33m\u001b[0m\u001b[1;33m\u001b[0m\u001b[0m\n\u001b[0m\u001b[0;32m    150\u001b[0m             \u001b[0msr_native\u001b[0m \u001b[1;33m=\u001b[0m \u001b[0msf_desc\u001b[0m\u001b[1;33m.\u001b[0m\u001b[0msamplerate\u001b[0m\u001b[1;33m\u001b[0m\u001b[1;33m\u001b[0m\u001b[0m\n",
      "\u001b[1;32m~\\anaconda3\\lib\\site-packages\\soundfile.py\u001b[0m in \u001b[0;36m__init__\u001b[1;34m(self, file, mode, samplerate, channels, subtype, endian, format, closefd)\u001b[0m\n\u001b[0;32m    628\u001b[0m                                          format, subtype, endian)\n\u001b[1;32m--> 629\u001b[1;33m         \u001b[0mself\u001b[0m\u001b[1;33m.\u001b[0m\u001b[0m_file\u001b[0m \u001b[1;33m=\u001b[0m \u001b[0mself\u001b[0m\u001b[1;33m.\u001b[0m\u001b[0m_open\u001b[0m\u001b[1;33m(\u001b[0m\u001b[0mfile\u001b[0m\u001b[1;33m,\u001b[0m \u001b[0mmode_int\u001b[0m\u001b[1;33m,\u001b[0m \u001b[0mclosefd\u001b[0m\u001b[1;33m)\u001b[0m\u001b[1;33m\u001b[0m\u001b[1;33m\u001b[0m\u001b[0m\n\u001b[0m\u001b[0;32m    630\u001b[0m         \u001b[1;32mif\u001b[0m \u001b[0mset\u001b[0m\u001b[1;33m(\u001b[0m\u001b[0mmode\u001b[0m\u001b[1;33m)\u001b[0m\u001b[1;33m.\u001b[0m\u001b[0missuperset\u001b[0m\u001b[1;33m(\u001b[0m\u001b[1;34m'r+'\u001b[0m\u001b[1;33m)\u001b[0m \u001b[1;32mand\u001b[0m \u001b[0mself\u001b[0m\u001b[1;33m.\u001b[0m\u001b[0mseekable\u001b[0m\u001b[1;33m(\u001b[0m\u001b[1;33m)\u001b[0m\u001b[1;33m:\u001b[0m\u001b[1;33m\u001b[0m\u001b[1;33m\u001b[0m\u001b[0m\n",
      "\u001b[1;32m~\\anaconda3\\lib\\site-packages\\soundfile.py\u001b[0m in \u001b[0;36m_open\u001b[1;34m(self, file, mode_int, closefd)\u001b[0m\n\u001b[0;32m   1183\u001b[0m         _error_check(_snd.sf_error(file_ptr),\n\u001b[1;32m-> 1184\u001b[1;33m                      \"Error opening {0!r}: \".format(self.name))\n\u001b[0m\u001b[0;32m   1185\u001b[0m         \u001b[1;32mif\u001b[0m \u001b[0mmode_int\u001b[0m \u001b[1;33m==\u001b[0m \u001b[0m_snd\u001b[0m\u001b[1;33m.\u001b[0m\u001b[0mSFM_WRITE\u001b[0m\u001b[1;33m:\u001b[0m\u001b[1;33m\u001b[0m\u001b[1;33m\u001b[0m\u001b[0m\n",
      "\u001b[1;32m~\\anaconda3\\lib\\site-packages\\soundfile.py\u001b[0m in \u001b[0;36m_error_check\u001b[1;34m(err, prefix)\u001b[0m\n\u001b[0;32m   1356\u001b[0m         \u001b[0merr_str\u001b[0m \u001b[1;33m=\u001b[0m \u001b[0m_snd\u001b[0m\u001b[1;33m.\u001b[0m\u001b[0msf_error_number\u001b[0m\u001b[1;33m(\u001b[0m\u001b[0merr\u001b[0m\u001b[1;33m)\u001b[0m\u001b[1;33m\u001b[0m\u001b[1;33m\u001b[0m\u001b[0m\n\u001b[1;32m-> 1357\u001b[1;33m         \u001b[1;32mraise\u001b[0m \u001b[0mRuntimeError\u001b[0m\u001b[1;33m(\u001b[0m\u001b[0mprefix\u001b[0m \u001b[1;33m+\u001b[0m \u001b[0m_ffi\u001b[0m\u001b[1;33m.\u001b[0m\u001b[0mstring\u001b[0m\u001b[1;33m(\u001b[0m\u001b[0merr_str\u001b[0m\u001b[1;33m)\u001b[0m\u001b[1;33m.\u001b[0m\u001b[0mdecode\u001b[0m\u001b[1;33m(\u001b[0m\u001b[1;34m'utf-8'\u001b[0m\u001b[1;33m,\u001b[0m \u001b[1;34m'replace'\u001b[0m\u001b[1;33m)\u001b[0m\u001b[1;33m)\u001b[0m\u001b[1;33m\u001b[0m\u001b[1;33m\u001b[0m\u001b[0m\n\u001b[0m\u001b[0;32m   1358\u001b[0m \u001b[1;33m\u001b[0m\u001b[0m\n",
      "\u001b[1;31mRuntimeError\u001b[0m: Error opening './../data/audio/longman_hobo.mp3': File contains data in an unknown format.",
      "\nDuring handling of the above exception, another exception occurred:\n",
      "\u001b[1;31mNoBackendError\u001b[0m                            Traceback (most recent call last)",
      "\u001b[1;32m<ipython-input-19-2367cea8cb1d>\u001b[0m in \u001b[0;36m<module>\u001b[1;34m\u001b[0m\n\u001b[0;32m      1\u001b[0m \u001b[0mpathHobo\u001b[0m \u001b[1;33m=\u001b[0m \u001b[1;34m\"./../data/audio/longman_hobo.mp3\"\u001b[0m\u001b[1;33m\u001b[0m\u001b[1;33m\u001b[0m\u001b[0m\n\u001b[1;32m----> 2\u001b[1;33m \u001b[0my\u001b[0m\u001b[1;33m,\u001b[0m \u001b[0msr\u001b[0m \u001b[1;33m=\u001b[0m \u001b[0mlibrosa\u001b[0m\u001b[1;33m.\u001b[0m\u001b[0mload\u001b[0m\u001b[1;33m(\u001b[0m\u001b[0mpathHobo\u001b[0m\u001b[1;33m)\u001b[0m\u001b[1;33m\u001b[0m\u001b[1;33m\u001b[0m\u001b[0m\n\u001b[0m",
      "\u001b[1;32m~\\anaconda3\\lib\\site-packages\\librosa\\core\\audio.py\u001b[0m in \u001b[0;36mload\u001b[1;34m(path, sr, mono, offset, duration, dtype, res_type)\u001b[0m\n\u001b[0;32m    164\u001b[0m         \u001b[1;32mif\u001b[0m \u001b[0misinstance\u001b[0m\u001b[1;33m(\u001b[0m\u001b[0mpath\u001b[0m\u001b[1;33m,\u001b[0m \u001b[1;33m(\u001b[0m\u001b[0mstr\u001b[0m\u001b[1;33m,\u001b[0m \u001b[0mpathlib\u001b[0m\u001b[1;33m.\u001b[0m\u001b[0mPurePath\u001b[0m\u001b[1;33m)\u001b[0m\u001b[1;33m)\u001b[0m\u001b[1;33m:\u001b[0m\u001b[1;33m\u001b[0m\u001b[1;33m\u001b[0m\u001b[0m\n\u001b[0;32m    165\u001b[0m             \u001b[0mwarnings\u001b[0m\u001b[1;33m.\u001b[0m\u001b[0mwarn\u001b[0m\u001b[1;33m(\u001b[0m\u001b[1;34m\"PySoundFile failed. Trying audioread instead.\"\u001b[0m\u001b[1;33m)\u001b[0m\u001b[1;33m\u001b[0m\u001b[1;33m\u001b[0m\u001b[0m\n\u001b[1;32m--> 166\u001b[1;33m             \u001b[0my\u001b[0m\u001b[1;33m,\u001b[0m \u001b[0msr_native\u001b[0m \u001b[1;33m=\u001b[0m \u001b[0m__audioread_load\u001b[0m\u001b[1;33m(\u001b[0m\u001b[0mpath\u001b[0m\u001b[1;33m,\u001b[0m \u001b[0moffset\u001b[0m\u001b[1;33m,\u001b[0m \u001b[0mduration\u001b[0m\u001b[1;33m,\u001b[0m \u001b[0mdtype\u001b[0m\u001b[1;33m)\u001b[0m\u001b[1;33m\u001b[0m\u001b[1;33m\u001b[0m\u001b[0m\n\u001b[0m\u001b[0;32m    167\u001b[0m         \u001b[1;32melse\u001b[0m\u001b[1;33m:\u001b[0m\u001b[1;33m\u001b[0m\u001b[1;33m\u001b[0m\u001b[0m\n\u001b[0;32m    168\u001b[0m             \u001b[1;32mraise\u001b[0m \u001b[1;33m(\u001b[0m\u001b[0mexc\u001b[0m\u001b[1;33m)\u001b[0m\u001b[1;33m\u001b[0m\u001b[1;33m\u001b[0m\u001b[0m\n",
      "\u001b[1;32m~\\anaconda3\\lib\\site-packages\\librosa\\core\\audio.py\u001b[0m in \u001b[0;36m__audioread_load\u001b[1;34m(path, offset, duration, dtype)\u001b[0m\n\u001b[0;32m    188\u001b[0m \u001b[1;33m\u001b[0m\u001b[0m\n\u001b[0;32m    189\u001b[0m     \u001b[0my\u001b[0m \u001b[1;33m=\u001b[0m \u001b[1;33m[\u001b[0m\u001b[1;33m]\u001b[0m\u001b[1;33m\u001b[0m\u001b[1;33m\u001b[0m\u001b[0m\n\u001b[1;32m--> 190\u001b[1;33m     \u001b[1;32mwith\u001b[0m \u001b[0maudioread\u001b[0m\u001b[1;33m.\u001b[0m\u001b[0maudio_open\u001b[0m\u001b[1;33m(\u001b[0m\u001b[0mpath\u001b[0m\u001b[1;33m)\u001b[0m \u001b[1;32mas\u001b[0m \u001b[0minput_file\u001b[0m\u001b[1;33m:\u001b[0m\u001b[1;33m\u001b[0m\u001b[1;33m\u001b[0m\u001b[0m\n\u001b[0m\u001b[0;32m    191\u001b[0m         \u001b[0msr_native\u001b[0m \u001b[1;33m=\u001b[0m \u001b[0minput_file\u001b[0m\u001b[1;33m.\u001b[0m\u001b[0msamplerate\u001b[0m\u001b[1;33m\u001b[0m\u001b[1;33m\u001b[0m\u001b[0m\n\u001b[0;32m    192\u001b[0m         \u001b[0mn_channels\u001b[0m \u001b[1;33m=\u001b[0m \u001b[0minput_file\u001b[0m\u001b[1;33m.\u001b[0m\u001b[0mchannels\u001b[0m\u001b[1;33m\u001b[0m\u001b[1;33m\u001b[0m\u001b[0m\n",
      "\u001b[1;32m~\\anaconda3\\lib\\site-packages\\audioread\\__init__.py\u001b[0m in \u001b[0;36maudio_open\u001b[1;34m(path, backends)\u001b[0m\n\u001b[0;32m    114\u001b[0m \u001b[1;33m\u001b[0m\u001b[0m\n\u001b[0;32m    115\u001b[0m     \u001b[1;31m# All backends failed!\u001b[0m\u001b[1;33m\u001b[0m\u001b[1;33m\u001b[0m\u001b[1;33m\u001b[0m\u001b[0m\n\u001b[1;32m--> 116\u001b[1;33m     \u001b[1;32mraise\u001b[0m \u001b[0mNoBackendError\u001b[0m\u001b[1;33m(\u001b[0m\u001b[1;33m)\u001b[0m\u001b[1;33m\u001b[0m\u001b[1;33m\u001b[0m\u001b[0m\n\u001b[0m",
      "\u001b[1;31mNoBackendError\u001b[0m: "
     ]
    }
   ],
   "source": [
    "pathHobo = \"./../data/audio/longman_hobo.mp3\"\n",
    "y, sr = librosa.load(pathHobo)"
   ]
  },
  {
   "cell_type": "code",
   "execution_count": 20,
   "metadata": {},
   "outputs": [
    {
     "ename": "NameError",
     "evalue": "name 'y' is not defined",
     "output_type": "error",
     "traceback": [
      "\u001b[1;31m---------------------------------------------------------------------------\u001b[0m",
      "\u001b[1;31mNameError\u001b[0m                                 Traceback (most recent call last)",
      "\u001b[1;32m<ipython-input-20-117760b66f57>\u001b[0m in \u001b[0;36m<module>\u001b[1;34m\u001b[0m\n\u001b[1;32m----> 1\u001b[1;33m \u001b[0mD\u001b[0m \u001b[1;33m=\u001b[0m \u001b[0mlibrosa\u001b[0m\u001b[1;33m.\u001b[0m\u001b[0mstft\u001b[0m\u001b[1;33m(\u001b[0m\u001b[0my\u001b[0m\u001b[1;33m)\u001b[0m  \u001b[1;31m# STFT of y\u001b[0m\u001b[1;33m\u001b[0m\u001b[1;33m\u001b[0m\u001b[0m\n\u001b[0m\u001b[0;32m      2\u001b[0m \u001b[0mS_db\u001b[0m \u001b[1;33m=\u001b[0m \u001b[0mlibrosa\u001b[0m\u001b[1;33m.\u001b[0m\u001b[0mamplitude_to_db\u001b[0m\u001b[1;33m(\u001b[0m\u001b[0mnp\u001b[0m\u001b[1;33m.\u001b[0m\u001b[0mabs\u001b[0m\u001b[1;33m(\u001b[0m\u001b[0mD\u001b[0m\u001b[1;33m)\u001b[0m\u001b[1;33m,\u001b[0m \u001b[0mref\u001b[0m\u001b[1;33m=\u001b[0m\u001b[0mnp\u001b[0m\u001b[1;33m.\u001b[0m\u001b[0mmax\u001b[0m\u001b[1;33m)\u001b[0m\u001b[1;33m\u001b[0m\u001b[1;33m\u001b[0m\u001b[0m\n",
      "\u001b[1;31mNameError\u001b[0m: name 'y' is not defined"
     ]
    }
   ],
   "source": [
    "D = librosa.stft(y)  # STFT of y\n",
    "S_db = librosa.amplitude_to_db(np.abs(D), ref=np.max)"
   ]
  },
  {
   "cell_type": "code",
   "execution_count": 21,
   "metadata": {},
   "outputs": [
    {
     "ename": "NameError",
     "evalue": "name 'S_db' is not defined",
     "output_type": "error",
     "traceback": [
      "\u001b[1;31m---------------------------------------------------------------------------\u001b[0m",
      "\u001b[1;31mNameError\u001b[0m                                 Traceback (most recent call last)",
      "\u001b[1;32m<ipython-input-21-afbffad4cd84>\u001b[0m in \u001b[0;36m<module>\u001b[1;34m\u001b[0m\n\u001b[0;32m      1\u001b[0m \u001b[0mget_ipython\u001b[0m\u001b[1;33m(\u001b[0m\u001b[1;33m)\u001b[0m\u001b[1;33m.\u001b[0m\u001b[0mrun_line_magic\u001b[0m\u001b[1;33m(\u001b[0m\u001b[1;34m'matplotlib'\u001b[0m\u001b[1;33m,\u001b[0m \u001b[1;34m'ipympl'\u001b[0m\u001b[1;33m)\u001b[0m\u001b[1;33m\u001b[0m\u001b[1;33m\u001b[0m\u001b[0m\n\u001b[0;32m      2\u001b[0m \u001b[0mfig\u001b[0m\u001b[1;33m,\u001b[0m \u001b[0max\u001b[0m \u001b[1;33m=\u001b[0m \u001b[0mplt\u001b[0m\u001b[1;33m.\u001b[0m\u001b[0msubplots\u001b[0m\u001b[1;33m(\u001b[0m\u001b[1;33m)\u001b[0m\u001b[1;33m\u001b[0m\u001b[1;33m\u001b[0m\u001b[0m\n\u001b[1;32m----> 3\u001b[1;33m \u001b[0mimg\u001b[0m \u001b[1;33m=\u001b[0m \u001b[0mlibrosa\u001b[0m\u001b[1;33m.\u001b[0m\u001b[0mdisplay\u001b[0m\u001b[1;33m.\u001b[0m\u001b[0mspecshow\u001b[0m\u001b[1;33m(\u001b[0m\u001b[0mS_db\u001b[0m\u001b[1;33m,\u001b[0m \u001b[0mx_axis\u001b[0m\u001b[1;33m=\u001b[0m\u001b[1;34m'time'\u001b[0m\u001b[1;33m,\u001b[0m \u001b[0my_axis\u001b[0m\u001b[1;33m=\u001b[0m\u001b[1;34m'linear'\u001b[0m\u001b[1;33m,\u001b[0m \u001b[0max\u001b[0m\u001b[1;33m=\u001b[0m\u001b[0max\u001b[0m\u001b[1;33m)\u001b[0m\u001b[1;33m\u001b[0m\u001b[1;33m\u001b[0m\u001b[0m\n\u001b[0m\u001b[0;32m      4\u001b[0m \u001b[0max\u001b[0m\u001b[1;33m.\u001b[0m\u001b[0mset\u001b[0m\u001b[1;33m(\u001b[0m\u001b[0mtitle\u001b[0m\u001b[1;33m=\u001b[0m\u001b[1;34m'Now with labeled axes!'\u001b[0m\u001b[1;33m)\u001b[0m\u001b[1;33m\u001b[0m\u001b[1;33m\u001b[0m\u001b[0m\n\u001b[0;32m      5\u001b[0m \u001b[0mfig\u001b[0m\u001b[1;33m.\u001b[0m\u001b[0mcolorbar\u001b[0m\u001b[1;33m(\u001b[0m\u001b[0mimg\u001b[0m\u001b[1;33m,\u001b[0m \u001b[0max\u001b[0m\u001b[1;33m=\u001b[0m\u001b[0max\u001b[0m\u001b[1;33m,\u001b[0m \u001b[0mformat\u001b[0m\u001b[1;33m=\u001b[0m\u001b[1;34m\"%+2.f dB\"\u001b[0m\u001b[1;33m)\u001b[0m\u001b[1;33m\u001b[0m\u001b[1;33m\u001b[0m\u001b[0m\n",
      "\u001b[1;31mNameError\u001b[0m: name 'S_db' is not defined"
     ]
    },
    {
     "data": {
      "application/vnd.jupyter.widget-view+json": {
       "model_id": "f4bdb676e6b64bdbac81a3d6300a9ce9",
       "version_major": 2,
       "version_minor": 0
      },
      "image/png": "[encoded data removed]",
      "text/html": [
       "\n",
       "            <div style=\"display: inline-block;\">\n",
       "                <div class=\"jupyter-widgets widget-label\" style=\"text-align: center;\">\n",
       "                    Figure\n",
       "                </div>\n",
       "                <img src='data:image/png;base64,iVBORw0KGgoAAAANSUhEUgAAAoAAAAHgCAYAAAA10dzkAAAABHNCSVQICAgIfAhkiAAAAAlwSFlzAAAPYQAAD2EBqD+naQAAADh0RVh0U29mdHdhcmUAbWF0cGxvdGxpYiB2ZXJzaW9uMy4yLjIsIGh0dHA6Ly9tYXRwbG90bGliLm9yZy+WH4yJAAAet0lEQVR4nO3df3TV9X348VdIIFG3pBNqBEEKnba0nNERDpRYTlen8aDHHna2Iz3uiDo9pzlth5DZFcqOiuuW0271tLaCtoKebug4+Ou4c5glf2wIwn7AQk9P4Rx7hBmoiZzgMcEfDQKf/eHI95smKCC5wft6PM65f9y3nw953fM2fp58bnKtKIqiCAAA0hg10gMAAFBaAhAAIBkBCACQjAAEAEhGAAIAJCMAAQCSEYAAAMkIQACAZAQgAEAyAhAAIBkBCACQjAAEAEhGAAIAJCMAAQCSEYAAAMkIQACAZAQgAEAyAhAAIBkBCACQjAAEAEhGAAIAJCMAAQCSEYAAAMkIQACAZAQgAEAyAhAAIBkBCACQjAAEAEhGAAIAJCMAAQCSEYAAAMkIQACAZAQgAEAyAhAAIBkBCACQjAAEAEhGAAIAJCMAAQCSEYAAAMkIQACAZAQgAEAyAhAAIBkBCACQjAAEAEhGAAIAJCMAAQCSEYAAAMkIQACAZAQgAEAyAhAAIBkBCACQjAAEAEimbALw+eefj+uvvz4mTJgQFRUV8cwzz7zvOZs3b46GhoaoqamJqVOnxoMPPliCSQEARlbZBOCbb74ZM2bMiB/+8IendPy+ffvi2muvjXnz5kV7e3t885vfjMWLF8eTTz45zJMCAIysiqIoipEe4myrqKiIp59+OhYsWHDSY77xjW/Es88+G3v27Olfa25ujp/97Gexffv2UowJADAiyuYO4Onavn17NDU1DVi75pprYseOHfHOO++M0FQAAMOvaqQHGCldXV1RX18/YK2+vj6OHj0a3d3dMX78+EHn9PX1RV9fX//z48ePx2uvvRZjx46NioqKYZ8ZAPjgiqKIw4cPx4QJE2LUqJz3wtIGYEQMirYT74afLOZaW1tj5cqVwz4XADD89u/fHxMnThzpMUZE2gC8+OKLo6ura8DawYMHo6qqKsaOHTvkOcuXL4+Wlpb+5z09PXHppZfG/v37o7a2dljnBQDOjt7e3pg0aVL89m//9kiPMmLSBuDcuXPjn//5nwesbdq0KWbNmhWjR48e8pzq6uqorq4etF5bWysAAeBDJvOPb5XNG99vvPFG7Nq1K3bt2hUR737My65du6KjoyMi3r17t2jRov7jm5ub4+WXX46WlpbYs2dPrF27NtasWRN33nnniMwPAFAqZXMHcMeOHfGFL3yh//mJt2pvvvnmePTRR6Ozs7M/BiMipkyZEhs3boylS5fGAw88EBMmTIj7778//viP/7jkswMAlFJZfg5gqfT29kZdXV309PR4CxgAPiRcv8voLWAAAE6NAAQASEYAAgAkIwABAJIRgAAAyQhAAIBkBCAAQDICEAAgGQEIAJCMAAQASEYAAgAkIwABAJIRgAAAyQhAAIBkBCAAQDICEAAgGQEIAJCMAAQASEYAAgAkIwABAJIRgAAAyQhAAIBkBCAAQDICEAAgGQEIAJCMAAQASEYAAgAkIwABAJIRgAAAyQhAAIBkBCAAQDICEAAgGQEIAJCMAAQASEYAAgAkIwABAJIRgAAAyQhAAIBkBCAAQDICEAAgGQEIAJCMAAQASEYAAgAkIwABAJIRgAAAyQhAAIBkBCAAQDICEAAgGQEIAJCMAAQASEYAAgAkIwABAJIRgAAAyQhAAIBkBCAAQDICEAAgGQEIAJCMAAQASEYAAgAkIwABAJIRgAAAyQhAAIBkBCAAQDJlFYCrVq2KKVOmRE1NTTQ0NMSWLVve8/h169bFjBkz4vzzz4/x48fHrbfeGocOHSrRtAAAI6NsAnD9+vWxZMmSWLFiRbS3t8e8efNi/vz50dHRMeTxW7dujUWLFsVtt90Wv/jFL2LDhg3xX//1X3H77beXeHIAgNIqmwC877774rbbbovbb789pk2bFt/73vdi0qRJsXr16iGP//d///f42Mc+FosXL44pU6bE5z73ufjyl78cO3bsKPHkAAClVRYBeOTIkdi5c2c0NTUNWG9qaopt27YNeU5jY2McOHAgNm7cGEVRxKuvvhpPPPFEXHfddaUYGQBgxJRFAHZ3d8exY8eivr5+wHp9fX10dXUNeU5jY2OsW7cuFi5cGGPGjImLL744PvKRj8QPfvCDk36dvr6+6O3tHfAAAPiwKYsAPKGiomLA86IoBq2dsHv37li8eHHcddddsXPnznjuuedi37590dzcfNI/v7W1Nerq6vofkyZNOqvzAwCUQkVRFMVID/FBHTlyJM4///zYsGFD/NEf/VH/+h133BG7du2KzZs3Dzrnpptuil//+texYcOG/rWtW7fGvHnz4pVXXonx48cPOqevry/6+vr6n/f29sakSZOip6cnamtrz/KrAgCGQ29vb9TV1aW+fpfFHcAxY8ZEQ0NDtLW1DVhva2uLxsbGIc956623YtSogS+/srIyIt69cziU6urqqK2tHfAAAPiwKYsAjIhoaWmJhx9+ONauXRt79uyJpUuXRkdHR/9busuXL49Fixb1H3/99dfHU089FatXr469e/fGCy+8EIsXL47Zs2fHhAkTRuplAAAMu6qRHuBsWbhwYRw6dCjuvffe6OzsjOnTp8fGjRtj8uTJERHR2dk54DMBb7nlljh8+HD88Ic/jL/4i7+Ij3zkI3HllVfGt7/97ZF6CQAAJVEWPwM4UvwMAQB8+Lh+l9FbwAAAnBoBCACQjAAEAEhGAAIAJCMAAQCSEYAAAMkIQACAZAQgAEAyAhAAIBkBCACQjAAEAEhGAAIAJCMAAQCSEYAAAMkIQACAZAQgAEAyAhAAIBkBCACQjAAEAEhGAAIAJCMAAQCSEYAAAMkIQACAZAQgAEAyAhAAIBkBCACQjAAEAEhGAAIAJCMAAQCSEYAAAMkIQACAZAQgAEAyAhAAIBkBCACQjAAEAEhGAAIAJCMAAQCSEYAAAMkIQACAZAQgAEAyAhAAIBkBCACQjAAEAEhGAAIAJCMAAQCSEYAAAMkIQACAZAQgAEAyAhAAIBkBCACQjAAEAEhGAAIAJCMAAQCSEYAAAMkIQACAZAQgAEAyAhAAIBkBCACQjAAEAEhGAAIAJCMAAQCSEYAAAMkIQACAZMoqAFetWhVTpkyJmpqaaGhoiC1btrzn8X19fbFixYqYPHlyVFdXx8c//vFYu3ZtiaYFABgZVSM9wNmyfv36WLJkSaxatSquuOKKeOihh2L+/Pmxe/fuuPTSS4c854YbbohXX3011qxZE7/7u78bBw8ejKNHj5Z4cgCA0qooiqIY6SHOhjlz5sTMmTNj9erV/WvTpk2LBQsWRGtr66Djn3vuufjSl74Ue/fujQsvvPCMvmZvb2/U1dVFT09P1NbWnvHsAEDpuH6XyVvAR44ciZ07d0ZTU9OA9aampti2bduQ5zz77LMxa9as+M53vhOXXHJJXH755XHnnXfG22+/fdKv09fXF729vQMeAAAfNmXxFnB3d3ccO3Ys6uvrB6zX19dHV1fXkOfs3bs3tm7dGjU1NfH0009Hd3d3fOUrX4nXXnvtpD8H2NraGitXrjzr8wMAlFJZ3AE8oaKiYsDzoigGrZ1w/PjxqKioiHXr1sXs2bPj2muvjfvuuy8effTRk94FXL58efT09PQ/9u/ff9ZfAwDAcCuLO4Djxo2LysrKQXf7Dh48OOiu4Anjx4+PSy65JOrq6vrXpk2bFkVRxIEDB+Kyyy4bdE51dXVUV1ef3eEBAEqsLO4AjhkzJhoaGqKtrW3AeltbWzQ2Ng55zhVXXBGvvPJKvPHGG/1rL774YowaNSomTpw4rPMCAIyksgjAiIiWlpZ4+OGHY+3atbFnz55YunRpdHR0RHNzc0S8+/btokWL+o+/8cYbY+zYsXHrrbfG7t274/nnn4+vf/3r8Wd/9mdx3nnnjdTLAAAYdmXxFnBExMKFC+PQoUNx7733RmdnZ0yfPj02btwYkydPjoiIzs7O6Ojo6D/+t37rt6KtrS3+/M//PGbNmhVjx46NG264Ib71rW+N1EsAACiJsvkcwJHgc4QA4MPH9buM3gIGAODUCEAAgGQEIABAMgIQACAZAQgAkIwABABIRgACACQjAAEAkhGAAADJCEAAgGQEIABAMgIQACAZAQgAkIwABABIRgACACQjAAEAkhGAAADJCEAAgGQEIABAMgIQACAZAQgAkIwABABIRgACACQjAAEAkhGAAADJCEAAgGQEIABAMgIQACAZAQgAkIwABABIRgACACQjAAEAkhGAAADJCEAAgGQEIABAMgIQACAZAQgAkIwABABIRgACACQjAAEAkhGAAADJCEAAgGQEIABAMgIQACAZAQgAkIwABABIRgACACQjAAEAkhGAAADJCEAAgGQEIABAMgIQACAZAQgAkIwABABIRgACACQjAAEAkhGAAADJCEAAgGQEIABAMgIQACAZAQgAkIwABABIRgACACRTVgG4atWqmDJlStTU1ERDQ0Ns2bLllM574YUXoqqqKj7zmc8M84QAACOvbAJw/fr1sWTJklixYkW0t7fHvHnzYv78+dHR0fGe5/X09MSiRYviD//wD0s0KQDAyKooiqIY6SHOhjlz5sTMmTNj9erV/WvTpk2LBQsWRGtr60nP+9KXvhSXXXZZVFZWxjPPPBO7du065a/Z29sbdXV10dPTE7W1tR9ofgCgNFy/y+QO4JEjR2Lnzp3R1NQ0YL2pqSm2bdt20vMeeeSReOmll+Luu+8+pa/T19cXvb29Ax4AAB82ZRGA3d3dcezYsaivrx+wXl9fH11dXUOe88tf/jKWLVsW69ati6qqqlP6Oq2trVFXV9f/mDRp0geeHQCg1MoiAE+oqKgY8LwoikFrERHHjh2LG2+8MVauXBmXX375Kf/5y5cvj56env7H/v37P/DMAACldmq3vs5x48aNi8rKykF3+w4ePDjormBExOHDh2PHjh3R3t4eX/va1yIi4vjx41EURVRVVcWmTZviyiuvHHRedXV1VFdXD8+LAAAokbK4AzhmzJhoaGiItra2AettbW3R2Ng46Pja2tr4+c9/Hrt27ep/NDc3xyc+8YnYtWtXzJkzp1SjAwCUXFncAYyIaGlpiZtuuilmzZoVc+fOjR/96EfR0dERzc3NEfHu27e/+tWv4ic/+UmMGjUqpk+fPuD8iy66KGpqagatAwCUm7IJwIULF8ahQ4fi3nvvjc7Ozpg+fXps3LgxJk+eHBERnZ2d7/uZgAAAGZTN5wCOBJ8jBAAfPq7fZfIzgAAAnDoBCACQjAAEAEhGAAIAJCMAAQCSEYAAAMkIQACAZAQgAEAyAhAAIBkBCACQjAAEAEhGAAIAJCMAAQCSEYAAAMkIQACAZAQgAEAyAhAAIBkBCACQjAAEAEhGAAIAJCMAAQCSEYAAAMkIQACAZAQgAEAyAhAAIBkBCACQjAAEAEhGAAIAJCMAAQCSEYAAAMkIQACAZAQgAEAyAhAAIBkBCACQjAAEAEhGAAIAJCMAAQCSEYAAAMkIQACAZAQgAEAyAhAAIBkBCACQjAAEAEhGAAIAJCMAAQCSEYAAAMkIQACAZAQgAEAyAhAAIBkBCACQjAAEAEhGAAIAJCMAAQCSEYAAAMkIQACAZAQgAEAyAhAAIBkBCACQjAAEAEhGAAIAJCMAAQCSEYAAAMkIQACAZMoqAFetWhVTpkyJmpqaaGhoiC1btpz02Keeeiquvvrq+OhHPxq1tbUxd+7c+OlPf1rCaQEARkbZBOD69etjyZIlsWLFimhvb4958+bF/Pnzo6OjY8jjn3/++bj66qtj48aNsXPnzvjCF74Q119/fbS3t5d4cgCA0qooiqIY6SHOhjlz5sTMmTNj9erV/WvTpk2LBQsWRGtr6yn9GZ/+9Kdj4cKFcdddd53S8b29vVFXVxc9PT1RW1t7RnMDAKXl+l0mdwCPHDkSO3fujKampgHrTU1NsW3btlP6M44fPx6HDx+OCy+88KTH9PX1RW9v74AHAMCHTVkEYHd3dxw7dizq6+sHrNfX10dXV9cp/Rnf/e53480334wbbrjhpMe0trZGXV1d/2PSpEkfaG4AgJFQFgF4QkVFxYDnRVEMWhvK448/Hvfcc0+sX78+LrroopMet3z58ujp6el/7N+//wPPDABQalUjPcDZMG7cuKisrBx0t+/gwYOD7gr+pvXr18dtt90WGzZsiKuuuuo9j62uro7q6uoPPC8AwEgqizuAY8aMiYaGhmhraxuw3tbWFo2NjSc97/HHH49bbrklHnvssbjuuuuGe0wAgHNCWdwBjIhoaWmJm266KWbNmhVz586NH/3oR9HR0RHNzc0R8e7bt7/61a/iJz/5SUS8G3+LFi2K73//+/HZz362/+7heeedF3V1dSP2OgAAhlvZBODChQvj0KFDce+990ZnZ2dMnz49Nm7cGJMnT46IiM7OzgGfCfjQQw/F0aNH46tf/Wp89atf7V+/+eab49FHHy31+AAAJVM2nwM4EnyOEAB8+Lh+l8nPAAIAcOoEIABAMgIQACAZAQgAkIwABABIRgACACQjAAEAkhGAAADJCEAAgGQEIABAMgIQACAZAQgAkIwABABIRgACACQjAAEAkhGAAADJCEAAgGQEIABAMgIQACAZAQgAkIwABABIRgACACQjAAEAkhGAAADJCEAAgGQEIABAMgIQACAZAQgAkIwABABIRgACACQjAAEAkhGAAADJCEAAgGQEIABAMgIQACAZAQgAkIwABABIRgACACQjAAEAkhGAAADJCEAAgGQEIABAMgIQACAZAQgAkIwABABIRgACACQjAAEAkhGAAADJCEAAgGQEIABAMgIQACAZAQgAkIwABABIRgACACQjAAEAkhGAAADJCEAAgGQEIABAMgIQACAZAQgAkIwABABIRgACACQjAAEAkimrAFy1alVMmTIlampqoqGhIbZs2fKex2/evDkaGhqipqYmpk6dGg8++GCJJgUAGDllE4Dr16+PJUuWxIoVK6K9vT3mzZsX8+fPj46OjiGP37dvX1x77bUxb968aG9vj29+85uxePHiePLJJ0s8OQBAaVUURVGM9BBnw5w5c2LmzJmxevXq/rVp06bFggULorW1ddDx3/jGN+LZZ5+NPXv29K81NzfHz372s9i+ffspfc3e3t6oq6uLnp6eqK2t/eAvAgAYdq7fEVUjPcDZcOTIkdi5c2csW7ZswHpTU1Ns27ZtyHO2b98eTU1NA9auueaaWLNmTbzzzjsxevToQef09fVFX19f//Oenp6IePdfJADgw+HEdbtM7oGdkbIIwO7u7jh27FjU19cPWK+vr4+urq4hz+nq6hry+KNHj0Z3d3eMHz9+0Dmtra2xcuXKQeuTJk36ANMDACPh0KFDUVdXN9JjjIiyCMATKioqBjwvimLQ2vsdP9T6CcuXL4+Wlpb+56+//npMnjw5Ojo60v4LdK7o7e2NSZMmxf79+9Pezj9X2Itzi/04d9iLc0dPT09ceumlceGFF470KCOmLAJw3LhxUVlZOehu38GDBwfd5Tvh4osvHvL4qqqqGDt27JDnVFdXR3V19aD1uro638zniNraWntxjrAX5xb7ce6wF+eOUaPK5ndhT1tZvPIxY8ZEQ0NDtLW1DVhva2uLxsbGIc+ZO3fuoOM3bdoUs2bNGvLn/wAAykVZBGBEREtLSzz88MOxdu3a2LNnTyxdujQ6Ojqiubk5It59+3bRokX9xzc3N8fLL78cLS0tsWfPnli7dm2sWbMm7rzzzpF6CQAAJVF5zz333DPSQ5wN06dPj7Fjx8bf/u3fxt///d/H22+/Hf/wD/8QM2bMiIiIf/zHf4yXX345brnlloiI+J3f+Z343Oc+Fw899FD89V//dbS3t8ff/M3fDIjEU1FZWRl/8Ad/EFVVZfFu+oeavTh32Itzi/04d9iLc0f2vSibzwEEAODUlM1bwAAAnBoBCACQjAAEAEhGAAIAJCMA38eqVatiypQpUVNTEw0NDbFly5b3PH7z5s3R0NAQNTU1MXXq1HjwwQdLNGn5O529eOqpp+Lqq6+Oj370o1FbWxtz586Nn/70pyWctryd7vfFCS+88EJUVVXFZz7zmWGeMI/T3Yu+vr5YsWJFTJ48Oaqrq+PjH/94rF27tkTTlr/T3Y9169bFjBkz4vzzz4/x48fHrbfeGocOHSrRtOXp+eefj+uvvz4mTJgQFRUV8cwzz7zvOSmv3QUn9U//9E/F6NGjix//+MfF7t27izvuuKO44IILipdffnnI4/fu3Vucf/75xR133FHs3r27+PGPf1yMHj26eOKJJ0o8efk53b244447im9/+9vFf/7nfxYvvvhisXz58mL06NHFf//3f5d48vJzuntxwuuvv15MnTq1aGpqKmbMmFGiacvbmezFF7/4xWLOnDlFW1tbsW/fvuI//uM/ihdeeKGEU5ev092PLVu2FKNGjSq+//3vF3v37i22bNlSfPrTny4WLFhQ4snLy8aNG4sVK1YUTz75ZBERxdNPP/2ex2e9dgvA9zB79uyiubl5wNonP/nJYtmyZUMe/5d/+ZfFJz/5yQFrX/7yl4vPfvazwzZjFqe7F0P51Kc+VaxcufJsj5bOme7FwoULi7/6q78q7r77bgF4lpzuXvzLv/xLUVdXVxw6dKgU46Vzuvvxd3/3d8XUqVMHrN1///3FxIkTh23GbE4lALNeu70FfBJHjhyJnTt3RlNT04D1pqam2LZt25DnbN++fdDx11xzTezYsSPeeeedYZu13J3JXvym48ePx+HDh1P/j7/PhjPdi0ceeSReeumluPvuu4d7xDTOZC+effbZmDVrVnznO9+JSy65JC6//PK488474+233y7FyGXtTPajsbExDhw4EBs3boyiKOLVV1+NJ554Iq677rpSjMz/yXrtzvnx16egu7s7jh07FvX19QPW6+vro6ura8hzurq6hjz+6NGj0d3dHePHjx+2ecvZmezFb/rud78bb775Ztxwww3DMWIaZ7IXv/zlL2PZsmWxZcuWtJ+4PxzOZC/27t0bW7dujZqamnj66aeju7s7vvKVr8Rrr73m5wA/oDPZj8bGxli3bl0sXLgwfv3rX8fRo0fji1/8YvzgBz8oxcj8n6zXbncA30dFRcWA50VRDFp7v+OHWuf0ne5enPD444/HPffcE+vXr4+LLrpouMZL5VT34tixY3HjjTfGypUr4/LLLy/VeKmczvfF8ePHo6KiItatWxezZ8+Oa6+9Nu6777549NFH3QU8S05nP3bv3h2LFy+Ou+66K3bu3BnPPfdc7Nu3r///YU/pZLx2++v4SYwbNy4qKysH/c3t4MGDg/6mcMLFF1885PFVVVUxduzYYZu13J3JXpywfv36uO2222LDhg1x1VVXDeeYKZzuXhw+fDh27NgR7e3t8bWvfS0i3o2QoiiiqqoqNm3aFFdeeWVJZi83Z/J9MX78+Ljkkkuirq6uf23atGlRFEUcOHAgLrvssmGduZydyX60trbGFVdcEV//+tcjIuL3fu/34oILLoh58+bFt771rbK983SuyXrtdgfwJMaMGRMNDQ3R1tY2YL2trS0aGxuHPGfu3LmDjt+0aVPMmjUrRo8ePWyzlrsz2YuId+/83XLLLfHYY4/5mZqz5HT3ora2Nn7+85/Hrl27+h/Nzc3xiU98Inbt2hVz5swp1ehl50y+L6644op45ZVX4o033uhfe/HFF2PUqFExceLEYZ233J3Jfrz11lsxatTAy3BlZWVE/L87UAy/tNfuEfrlkw+FE7/Sv2bNmmL37t3FkiVLigsuuKD4n//5n6IoimLZsmXFTTfd1H/8iV8lX7p0abF79+5izZo1KX6VvBROdy8ee+yxoqqqqnjggQeKzs7O/sfrr78+Ui+hbJzuXvwmvwV89pzuXhw+fLiYOHFi8Sd/8ifFL37xi2Lz5s3FZZddVtx+++0j9RLKyunuxyOPPFJUVVUVq1atKl566aVi69atxaxZs4rZs2eP1EsoC4cPHy7a29uL9vb2IiKK++67r2hvb+//OB7X7ncJwPfxwAMPFJMnTy7GjBlTzJw5s9i8eXP/P7v55puLz3/+8wOO/7d/+7fi93//94sxY8YUH/vYx4rVq1eXeOLydTp78fnPf76IiEGPm2++ufSDl6HT/b74/wnAs+t092LPnj3FVVddVZx33nnFxIkTi5aWluKtt94q8dTl63T34/777y8+9alPFeedd14xfvz44k//9E+LAwcOlHjq8vKv//qv7/nff9fud1UUhfvMAACZ+BlAAIBkBCAAQDICEAAgGQEIAJCMAAQASEYAAgAkIwABAJIRgAAAyQhAAIBkBCAAQDICEAAgGQEIAJCMAAQASEYAAgAkIwABAJIRgAAAyQhAAIBkBCAAQDICEAAgGQEIAJCMAAQASEYAAgAkIwABAJIRgAAAyQhAAIBkBCAAQDICEAAgGQEIAJCMAAQASEYAAgAkIwABAJL5X7eIPHdrwLQBAAAAAElFTkSuQmCC' width=640.0/>\n",
       "            </div>\n",
       "        "
      ],
      "text/plain": [
       "Canvas(toolbar=Toolbar(toolitems=[('Home', 'Reset original view', 'home', 'home'), ('Back', 'Back to previous …"
      ]
     },
     "metadata": {},
     "output_type": "display_data"
    }
   ],
   "source": [
    "%matplotlib ipympl\n",
    "fig, ax = plt.subplots()\n",
    "img = librosa.display.specshow(S_db, x_axis='time', y_axis='linear', ax=ax)\n",
    "ax.set(title='Now with labeled axes!')\n",
    "fig.colorbar(img, ax=ax, format=\"%+2.f dB\")"
   ]
  },
  {
   "cell_type": "code",
   "execution_count": 22,
   "metadata": {},
   "outputs": [
    {
     "ename": "NameError",
     "evalue": "name 'y' is not defined",
     "output_type": "error",
     "traceback": [
      "\u001b[1;31m---------------------------------------------------------------------------\u001b[0m",
      "\u001b[1;31mNameError\u001b[0m                                 Traceback (most recent call last)",
      "\u001b[1;32m<ipython-input-22-bc154a74c7bb>\u001b[0m in \u001b[0;36m<module>\u001b[1;34m\u001b[0m\n\u001b[0;32m      1\u001b[0m \u001b[0mget_ipython\u001b[0m\u001b[1;33m(\u001b[0m\u001b[1;33m)\u001b[0m\u001b[1;33m.\u001b[0m\u001b[0mrun_line_magic\u001b[0m\u001b[1;33m(\u001b[0m\u001b[1;34m'matplotlib'\u001b[0m\u001b[1;33m,\u001b[0m \u001b[1;34m'ipympl'\u001b[0m\u001b[1;33m)\u001b[0m\u001b[1;33m\u001b[0m\u001b[1;33m\u001b[0m\u001b[0m\n\u001b[0;32m      2\u001b[0m \u001b[0mfig\u001b[0m\u001b[1;33m,\u001b[0m \u001b[0max\u001b[0m \u001b[1;33m=\u001b[0m \u001b[0mplt\u001b[0m\u001b[1;33m.\u001b[0m\u001b[0msubplots\u001b[0m\u001b[1;33m(\u001b[0m\u001b[1;33m)\u001b[0m\u001b[1;33m\u001b[0m\u001b[1;33m\u001b[0m\u001b[0m\n\u001b[1;32m----> 3\u001b[1;33m \u001b[0mlibrosa\u001b[0m\u001b[1;33m.\u001b[0m\u001b[0mdisplay\u001b[0m\u001b[1;33m.\u001b[0m\u001b[0mwaveshow\u001b[0m\u001b[1;33m(\u001b[0m\u001b[0my\u001b[0m\u001b[1;33m,\u001b[0m \u001b[0msr\u001b[0m\u001b[1;33m=\u001b[0m\u001b[0msr\u001b[0m\u001b[1;33m,\u001b[0m \u001b[0max\u001b[0m\u001b[1;33m=\u001b[0m\u001b[0max\u001b[0m\u001b[1;33m)\u001b[0m\u001b[1;33m\u001b[0m\u001b[1;33m\u001b[0m\u001b[0m\n\u001b[0m",
      "\u001b[1;31mNameError\u001b[0m: name 'y' is not defined"
     ]
    },
    {
     "data": {
      "application/vnd.jupyter.widget-view+json": {
       "model_id": "f43b6b48906c440b95c6fa854b99d357",
       "version_major": 2,
       "version_minor": 0
      },
      "image/png": "[encoded data removed]",
      "text/html": [
       "\n",
       "            <div style=\"display: inline-block;\">\n",
       "                <div class=\"jupyter-widgets widget-label\" style=\"text-align: center;\">\n",
       "                    Figure\n",
       "                </div>\n",
       "                <img src='data:image/png;base64,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' width=640.0/>\n",
       "            </div>\n",
       "        "
      ],
      "text/plain": [
       "Canvas(toolbar=Toolbar(toolitems=[('Home', 'Reset original view', 'home', 'home'), ('Back', 'Back to previous …"
      ]
     },
     "metadata": {},
     "output_type": "display_data"
    }
   ],
   "source": [
    "%matplotlib ipympl\n",
    "fig, ax = plt.subplots()\n",
    "librosa.display.waveshow(y, sr=sr, ax=ax)"
   ]
  },
  {
   "cell_type": "code",
   "execution_count": null,
   "metadata": {},
   "outputs": [],
   "source": []
  },
  {
   "cell_type": "code",
   "execution_count": null,
   "metadata": {},
   "outputs": [],
   "source": []
  },
  {
   "cell_type": "code",
   "execution_count": null,
   "metadata": {},
   "outputs": [],
   "source": []
  },
  {
   "cell_type": "code",
   "execution_count": null,
   "metadata": {},
   "outputs": [],
   "source": []
  },
  {
   "cell_type": "code",
   "execution_count": null,
   "metadata": {},
   "outputs": [],
   "source": []
  }
 ],
 "metadata": {
  "kernelspec": {
   "display_name": "Python 3",
   "language": "python",
   "name": "python3"
  },
  "language_info": {
   "codemirror_mode": {
    "name": "ipython",
    "version": 3
   },
   "file_extension": ".py",
   "mimetype": "text/x-python",
   "name": "python",
   "nbconvert_exporter": "python",
   "pygments_lexer": "ipython3",
   "version": "3.6.10"
  }
 },
 "nbformat": 4,
 "nbformat_minor": 4
}
