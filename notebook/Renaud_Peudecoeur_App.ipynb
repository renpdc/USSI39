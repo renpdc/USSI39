{
 "cells": [
  {
   "cell_type": "markdown",
   "metadata": {},
   "source": [
    "# DicoCo\n",
    "\n",
    "*Renaud PEUDECOOEUR*"
   ]
  },
  {
   "cell_type": "code",
   "execution_count": 31,
   "metadata": {},
   "outputs": [],
   "source": [
    "import pandas as pd\n",
    "import numpy as np"
   ]
  },
  {
   "cell_type": "markdown",
   "metadata": {},
   "source": [
    "## Scraping"
   ]
  },
  {
   "cell_type": "markdown",
   "metadata": {},
   "source": [
    "* Cette partie reprend le travail effectué dans le fichier Renaud_Peudecoeur_scrapping en bouclant toutes les étapes réalisées dans ce dernier\n",
    "* Le site utilisé pour récupérer les fichiers audios est celui de Cambridge"
   ]
  },
  {
   "cell_type": "code",
   "execution_count": 32,
   "metadata": {},
   "outputs": [],
   "source": [
    "from requests_html import HTMLSession\n",
    "session = HTMLSession()\n",
    "import re\n",
    "from IPython.display import display, clear_output, HTML, Markdown\n",
    "from bs4 import BeautifulSoup"
   ]
  },
  {
   "cell_type": "code",
   "execution_count": 33,
   "metadata": {},
   "outputs": [],
   "source": [
    "def Scrap(dataframe):\n",
    "    \n",
    "    #Création des variables\n",
    "    site=\"https://dictionary.cambridge.org/fr/dictionnaire/anglais/\"\n",
    "    MotsAnglais = []\n",
    "    MotsAmericains = []\n",
    "    \n",
    "    for mot in dataframe[\"motVedette\"] :\n",
    "        \n",
    "        # Utilisation des fonctions de Scrap vues en cours pour récupérer l'HTML de cambrigde\n",
    "        lien = site + mot\n",
    "        response = session.get(lien)\n",
    "        html_doc = response.content\n",
    "        \n",
    "        # Utilisation des fonctions de Parisng vues en cours pour visualiser les balises des .mp3\n",
    "        soup = BeautifulSoup(response.text,'html.parser')\n",
    "        souplettesBody = soup.find('body')\n",
    "        soupletteAside = souplettesBody.findAll('amp-audio')\n",
    "        \n",
    "        # Récupération des fichiers mp3 après analyses du HTML (voir fichier Renaud_Peudecoeur_scrapping pour détails des étapes)\n",
    "        baliseUK = soupletteAside[0].find('source')\n",
    "        baliseUS = soupletteAside[1].find('source')\n",
    "        \n",
    "        rechercher = soup.findAll(\"div\", {\"class\" : \"pos-header dpos-h\"})\n",
    "        mp3UK = baliseUK['src']\n",
    "        mp3US = baliseUS['src']\n",
    "        base_url='https://dictionary.cambridge.org'\n",
    "        AudiUK = base_url+mp3UK\n",
    "        AudiUS = base_url+mp3US\n",
    "        \n",
    "        # Ajout des .mp3 dans une liste pour affichage Widget\n",
    "        MotsAnglais.append(AudiUK)\n",
    "        MotsAmericains.append(AudiUS)\n",
    "    \n",
    "    # Ajout dans dataframe\n",
    "    dataframe['lienUK']=pd.Series(MotsAnglais).values\n",
    "    dataframe['lienUS']=pd.Series(MotsAmericains).values\n",
    "    \n",
    "    return dataframe"
   ]
  },
  {
   "cell_type": "markdown",
   "metadata": {},
   "source": [
    "## Audio "
   ]
  },
  {
   "cell_type": "code",
   "execution_count": 34,
   "metadata": {},
   "outputs": [],
   "source": [
    "from IPython import display as audioD\n",
    "import IPython.display as ipd"
   ]
  },
  {
   "cell_type": "code",
   "execution_count": 35,
   "metadata": {},
   "outputs": [],
   "source": [
    "def Audio(df):\n",
    "    clear_output()\n",
    "    listeWid = widgets.Output()\n",
    "    lU = widgets.Output()\n",
    "    sU = widgets.Output()\n",
    "\n",
    "    for numLigne in range(len(df)):\n",
    "        labelUK = widgets.Label(\"UK\")\n",
    "        itemsUK = audioD.Audio(url = df[\"lienUK\"][numLigne])\n",
    "        spectroUK = df[\"lienUK\"][numLigne]\n",
    "    \n",
    "        labelUS = widgets.Label(\"US\")\n",
    "        itemsUS = audioD.Audio(url = df[\"lienUS\"][numLigne])\n",
    "        audioUK = widgets.Output()\n",
    "        audioUK.append_display_data(itemsUK)\n",
    "        audioUS = widgets.Output()\n",
    "        audioUS.append_display_data(itemsUS)\n",
    "        spectroUS = df[\"lienUS\"][numLigne]\n",
    "        \n",
    "        lU = widgets.HBox([labelUK,audioUK,labelUS,audioUS])\n",
    "\n",
    "        # Les mots\n",
    "        labelMot = widgets.Label(df[\"motVedette\"][numLigne])\n",
    "        labelPron = widgets.Label(str(df[\"pron\"][numLigne]))\n",
    "        label = widgets.HBox([labelMot, labelPron])\n",
    "\n",
    "        listeWid.append_display_data(widgets.VBox([label,lU,sU]))\n",
    "                        \n",
    "    return listeWid"
   ]
  },
  {
   "cell_type": "markdown",
   "metadata": {},
   "source": [
    "## Buchanan"
   ]
  },
  {
   "cell_type": "markdown",
   "metadata": {},
   "source": [
    "### Colonne motVedette"
   ]
  },
  {
   "cell_type": "code",
   "execution_count": 36,
   "metadata": {},
   "outputs": [],
   "source": [
    "cheminDuFichierCSV = \"./../data/dictionary/1757_Buchanan-J.csv\" \n",
    "dfDicoBuch = pd.read_csv(cheminDuFichierCSV, delimiter=\";\", encoding=\"utf8\")"
   ]
  },
  {
   "cell_type": "code",
   "execution_count": 37,
   "metadata": {},
   "outputs": [],
   "source": [
    "#dfDicoBuch"
   ]
  },
  {
   "cell_type": "code",
   "execution_count": 38,
   "metadata": {},
   "outputs": [],
   "source": [
    "cheminDuFichierCSV = \"./../data/dictionary/Buchanan_PronChar_counts.csv\" \n",
    "dfDicoPron = pd.read_csv(cheminDuFichierCSV, delimiter=\";\", encoding=\"utf8\")"
   ]
  },
  {
   "cell_type": "code",
   "execution_count": 39,
   "metadata": {},
   "outputs": [],
   "source": [
    "#dfDicoPron"
   ]
  },
  {
   "cell_type": "code",
   "execution_count": 40,
   "metadata": {},
   "outputs": [],
   "source": [
    "dfDicoPron = dfDicoPron.replace(np.nan, '', regex=True)"
   ]
  },
  {
   "cell_type": "code",
   "execution_count": 41,
   "metadata": {},
   "outputs": [],
   "source": [
    "#dfDicoPron"
   ]
  },
  {
   "cell_type": "code",
   "execution_count": 42,
   "metadata": {},
   "outputs": [],
   "source": [
    "def BucToPron(strSampa, dfMapping):\n",
    "    ipaRes = \"\"\n",
    "    \n",
    "    for valSampa in strSampa:\n",
    "        dfRowFinded = dfMapping[dfMapping['char']==valSampa]\n",
    "\n",
    "        if len(dfRowFinded==1):\n",
    "            ipaRes+=dfRowFinded.iloc[0]['graph']\n",
    "        else:\n",
    "            ipaRes+=''\n",
    "    return ipaRes"
   ]
  },
  {
   "cell_type": "code",
   "execution_count": 43,
   "metadata": {},
   "outputs": [],
   "source": [
    "dfDicoBuch['motVedette'] = dfDicoBuch.apply(lambda x: BucToPron(x['pron'], dfDicoPron),1)"
   ]
  },
  {
   "cell_type": "code",
   "execution_count": 44,
   "metadata": {},
   "outputs": [],
   "source": [
    "#dfDicoBuch"
   ]
  },
  {
   "cell_type": "markdown",
   "metadata": {},
   "source": [
    "### Colonnes Sampa et Ipa"
   ]
  },
  {
   "cell_type": "code",
   "execution_count": 45,
   "metadata": {},
   "outputs": [],
   "source": [
    "#Importation de la base de données corrigée avec l'ensemble des données (réalisée dans le fichier Renaud_Peudecoeur_PandasTricks)\n",
    "CheminBigRich=r\"./../data/dataframe/BigiRichSample.csv\"\n",
    "BigRich = pd.read_csv(CheminBigRich, delimiter=\";\", encoding=\"utf8\")"
   ]
  },
  {
   "cell_type": "code",
   "execution_count": 46,
   "metadata": {},
   "outputs": [],
   "source": [
    "#BigRich"
   ]
  },
  {
   "cell_type": "code",
   "execution_count": 47,
   "metadata": {},
   "outputs": [],
   "source": [
    "#On merge les deux tables et supprime la colonne en hwd qui correspond au mot vedette\n",
    "Dico = dfDicoBuch.merge(BigRich, how='inner',left_on= 'motVedette', right_on='hwd')"
   ]
  },
  {
   "cell_type": "code",
   "execution_count": 48,
   "metadata": {},
   "outputs": [],
   "source": [
    "#Dico"
   ]
  },
  {
   "cell_type": "code",
   "execution_count": 49,
   "metadata": {},
   "outputs": [],
   "source": [
    "#Dico.to_csv(r\"C:/Users/renau/Desktop/Cours 2021-2022/USSI39 2022/USSI39/data/dataframe/BuchananRich.csv\")"
   ]
  },
  {
   "cell_type": "code",
   "execution_count": 50,
   "metadata": {},
   "outputs": [],
   "source": [
    "cheminBigi = r\"./../data/dataframe/BuchananRich.csv\"\n",
    "Bigi0 = pd.read_csv(cheminBigi, delimiter=\",\", encoding=\"utf8\")"
   ]
  },
  {
   "cell_type": "code",
   "execution_count": 51,
   "metadata": {},
   "outputs": [],
   "source": [
    "Bigi=Bigi0[[\"motVedette\",\"nbSyll\",\"pron\",\"Sampa\",\"ipa\"]]"
   ]
  },
  {
   "cell_type": "code",
   "execution_count": 52,
   "metadata": {},
   "outputs": [],
   "source": [
    "#Bigi[Bigi['motVedette'].isnull()]"
   ]
  },
  {
   "cell_type": "code",
   "execution_count": 53,
   "metadata": {},
   "outputs": [],
   "source": [
    "#Bigi"
   ]
  },
  {
   "cell_type": "code",
   "execution_count": 54,
   "metadata": {},
   "outputs": [],
   "source": [
    "df = Bigi\n",
    "#df"
   ]
  },
  {
   "cell_type": "markdown",
   "metadata": {},
   "source": [
    "## App"
   ]
  },
  {
   "cell_type": "code",
   "execution_count": 55,
   "metadata": {},
   "outputs": [],
   "source": [
    "#Création de widgets\n",
    "from IPython.display import display, clear_output, HTML, Markdown \n",
    "import IPython.display as ipd\n",
    "import ipywidgets as widgets"
   ]
  },
  {
   "cell_type": "code",
   "execution_count": 56,
   "metadata": {},
   "outputs": [],
   "source": [
    "#Création de la zone interface\n",
    "filtremot = widgets.Text(value=\"\",\n",
    "                         description='filtre texte',\n",
    "                         layout={'width': '200px'} )\n",
    "filtreipa = widgets.Text(value=\"\",\n",
    "                         description='filtre ipa',\n",
    "                         layout={'width': '200px'} )\n",
    "maxmots = widgets.IntSlider(min=0,\n",
    "                           max=10,\n",
    "                           step=1,\n",
    "                           description='Max de mots:',\n",
    "                           value=1)\n",
    "bouton = widgets.Button(description='Go !',\n",
    "                        icon = \"check\")"
   ]
  },
  {
   "cell_type": "code",
   "execution_count": 57,
   "metadata": {},
   "outputs": [],
   "source": [
    "def on_button_clicked(_):\n",
    "    nbLigne = maxmots.value\n",
    "    mot = filtremot.value \n",
    "    ipa = filtreipa.value\n",
    "    df = \"\"\n",
    "\n",
    "    with dataFrame:\n",
    "        clear_output()\n",
    "        \n",
    "        # Filtre en fontion des variables précédentes \n",
    "        if (mot != \"\"):\n",
    "            df = Bigi[(Bigi.motVedette.str.match(mot))]\n",
    "            if(ipa != \"\"):\n",
    "                df = df[(df.pron.str.match(ipa))]\n",
    "        elif (ipa != \"\"):\n",
    "            df = Bigi[(Bigi.pron.str.match(ipa))]\n",
    "\n",
    "        if(len(df) > nbLigne):\n",
    "            df = df.sample(n=nbLigne).copy()\n",
    "        df = df.reset_index()    \n",
    "        # On affiche\n",
    "        display(df)\n",
    "        \n",
    "    with audio :\n",
    "        clear_output()\n",
    "        \n",
    "        # Fonction Scrap du début\n",
    "        df = Scrap(df)  \n",
    "        # Fonction affichage audio du début\n",
    "        listeAudio = Audio(df) \n",
    "        display(listeAudio)\n",
    "        \n",
    "            \n",
    "bouton.on_click(on_button_clicked)"
   ]
  },
  {
   "cell_type": "code",
   "execution_count": 58,
   "metadata": {},
   "outputs": [],
   "source": [
    "# Création des widgets\n",
    "dataFrame = widgets.Output()\n",
    "audio = widgets.Output()"
   ]
  },
  {
   "cell_type": "code",
   "execution_count": 59,
   "metadata": {},
   "outputs": [
    {
     "data": {
      "application/vnd.jupyter.widget-view+json": {
       "model_id": "0c1c5257d6184d5a902d018f0ddb40ed",
       "version_major": 2,
       "version_minor": 0
      },
      "text/plain": [
       "VBox(children=(HBox(children=(Text(value='', description='filtre texte', layout=Layout(width='200px')), Text(v…"
      ]
     },
     "metadata": {},
     "output_type": "display_data"
    }
   ],
   "source": [
    "mod1 = widgets.HBox([filtremot, filtreipa, maxmots, bouton])\n",
    "mod2 = widgets.HBox([dataFrame])\n",
    "mod3 = widgets.HBox([audio])\n",
    "\n",
    "sortie = widgets.VBox([mod1, mod2, mod3])\n",
    "sortie"
   ]
  },
  {
   "cell_type": "code",
   "execution_count": null,
   "metadata": {},
   "outputs": [],
   "source": []
  }
 ],
 "metadata": {
  "kernelspec": {
   "display_name": "Python 3 (ipykernel)",
   "language": "python",
   "name": "python3"
  },
  "language_info": {
   "codemirror_mode": {
    "name": "ipython",
    "version": 3
   },
   "file_extension": ".py",
   "mimetype": "text/x-python",
   "name": "python",
   "nbconvert_exporter": "python",
   "pygments_lexer": "ipython3",
   "version": "3.9.7"
  }
 },
 "nbformat": 4,
 "nbformat_minor": 4
}
