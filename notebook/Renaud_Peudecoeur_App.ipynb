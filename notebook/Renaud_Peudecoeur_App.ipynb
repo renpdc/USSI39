{
 "cells": [
  {
   "cell_type": "markdown",
   "metadata": {},
   "source": [
    "# DicoCo\n",
    "\n",
    "*prenom NOM*"
   ]
  },
  {
   "cell_type": "code",
   "execution_count": 1,
   "metadata": {},
   "outputs": [],
   "source": [
    "#Importation des librairies\n",
    "import pandas as pd\n",
    "\n",
    "# import necessaire à la création des widgets\n",
    "from IPython.display import display, clear_output, HTML, Markdown \n",
    "import ipywidgets as widgets\n"
   ]
  },
  {
   "cell_type": "markdown",
   "metadata": {},
   "source": [
    "## Importation de la base Buchanan-J"
   ]
  },
  {
   "cell_type": "code",
   "execution_count": null,
   "metadata": {},
   "outputs": [],
   "source": [
    "# préciser le chemin du fichier à lire\n",
    "cheminDuFichierCSV = \"./../data/dictionary/1757_Buchanan-J.csv\" \n",
    "\n",
    "# demander à pandas de lire le fichier et garder ce tableau accessible dans une variable\n",
    "dfDicoBuch = pd.read_csv(cheminDuFichierCSV, delimiter=\";\", encoding=\"utf8\")\n",
    "\n",
    "# afficher à l'écran un échantillon du tableau\n",
    "dfDicoBuch.sample(n=5)"
   ]
  },
  {
   "cell_type": "markdown",
   "metadata": {},
   "source": [
    "## Importation de la base Buchanan PronChar"
   ]
  },
  {
   "cell_type": "code",
   "execution_count": null,
   "metadata": {},
   "outputs": [],
   "source": [
    "# préciser le chemin du fichier à lire\n",
    "cheminDuFichierCSV = \"./../data/dictionary/Buchanan_PronChar_counts.csv\" \n",
    "\n",
    "# demander à pandas de lire le fichier et garder ce tableau accessible dans une variable\n",
    "dfDicoPron = pd.read_csv(cheminDuFichierCSV, delimiter=\";\", encoding=\"utf8\")\n",
    "\n",
    "# afficher à l'écran un échantillon du tableau\n",
    "dfDicoPron"
   ]
  },
  {
   "cell_type": "code",
   "execution_count": null,
   "metadata": {},
   "outputs": [],
   "source": [
    "dfDicoPron = dfDicoPron.dropna()"
   ]
  },
  {
   "cell_type": "code",
   "execution_count": null,
   "metadata": {},
   "outputs": [],
   "source": [
    "def BucToPron(strSampa, dfMapping):\n",
    "    ipaRes = \"\"\n",
    "    \n",
    "    for valSampa in strSampa:\n",
    "        dfRowFinded = dfMapping[dfMapping['char']==valSampa]\n",
    "\n",
    "        if len(dfRowFinded==1):\n",
    "            ipaRes+=dfRowFinded.iloc[0]['graph']\n",
    "        else:\n",
    "            ipaRes+=''\n",
    "    return ipaRes"
   ]
  },
  {
   "cell_type": "code",
   "execution_count": null,
   "metadata": {},
   "outputs": [],
   "source": [
    "dfDicoPronRich = dfDicoBuch.sample(n=100).copy()\n",
    "\n",
    "dfDicoBuch['Headword'] = dfDicoBuch.apply(lambda x: BucToPron(x['pron'], dfDicoPron),1)"
   ]
  },
  {
   "cell_type": "code",
   "execution_count": null,
   "metadata": {},
   "outputs": [],
   "source": [
    "dfDicoBuch"
   ]
  },
  {
   "cell_type": "markdown",
   "metadata": {},
   "source": [
    "# APP"
   ]
  },
  {
   "cell_type": "code",
   "execution_count": 4,
   "metadata": {},
   "outputs": [],
   "source": [
    "# definition du widget permettant de taper un texte \n",
    "textTarget = widgets.Text(\n",
    "       value=\"love\",\n",
    "       description='filtre hwd',\n",
    "       layout={'width': '300px'} )"
   ]
  },
  {
   "cell_type": "code",
   "execution_count": 5,
   "metadata": {},
   "outputs": [],
   "source": [
    "# définition du widget button permettant de lancer l'extraction\n",
    "button = widgets.Button(description='Démarrer')\n",
    "\n",
    "# définition du widget permettant l'affichage d'une sortie\n",
    "out1 = widgets.Output()\n",
    "out2 = widgets.Output()\n",
    "\n",
    "# spécifier les actions à réaliser lors de l'appui sur le bouton\n",
    "def on_button_clicked(_):\n",
    "    \n",
    "    # récupérer le texte saisi par l'utilisateur\n",
    "    targetWord = textTarget.value\n",
    "\n",
    "    with out1:\n",
    "        clear_output()\n",
    "        \n",
    "        urlLongman = \"https://www.ldoceonline.com/dictionary/\"\n",
    "        urlTarget = urlLongman+targetWord\n",
    "        display(HTML('<a href=\"'+urlTarget+'\" target=\"_blank\" >'+'longman : '+targetWord+'</a>'))\n",
    "\n",
    "    with out2:\n",
    "        clear_output()\n",
    "        \n",
    "        targetWord = textTarget.value\n",
    "        urlLinguee = \"https://www.linguee.fr/anglais-francais/traduction/\"\n",
    "        urlTarget = urlLinguee+targetWord+'.html'\n",
    "        display(HTML('<a href=\"'+urlTarget+'\" target=\"_blank\" >'+'linguee : '+targetWord+'</a>'))\n",
    "        \n",
    "        \n",
    "button.on_click(on_button_clicked)"
   ]
  },
  {
   "cell_type": "code",
   "execution_count": 9,
   "metadata": {
    "scrolled": false
   },
   "outputs": [
    {
     "data": {
      "application/vnd.jupyter.widget-view+json": {
       "model_id": "a9ef817329bc4248b13f3c53ed93d218",
       "version_major": 2,
       "version_minor": 0
      },
      "text/plain": [
       "VBox(children=(HBox(children=(Text(value='love', description='filtre hwd', layout=Layout(width='300px')), Butt…"
      ]
     },
     "metadata": {},
     "output_type": "display_data"
    }
   ],
   "source": [
    "# les widgets de filtre input\n",
    "vbFiltres = widgets.HBox([textTarget, button])\n",
    "\n",
    "# les widgets d'output\n",
    "vbOuts = widgets.VBox([out1,out2])\n",
    "\n",
    "hbAllWidgets = widgets.VBox([vbFiltres,vbOuts])\n",
    "hbAllWidgets"
   ]
  },
  {
   "cell_type": "code",
   "execution_count": 8,
   "metadata": {},
   "outputs": [
    {
     "name": "stderr",
     "output_type": "stream",
     "text": [
      "Enabling notebook extension jupyter-js-widgets/extension...\n",
      "      - Validating: ok\n"
     ]
    }
   ],
   "source": [
    "!jupyter nbextension enable --py widgetsnbextension"
   ]
  },
  {
   "cell_type": "code",
   "execution_count": null,
   "metadata": {},
   "outputs": [],
   "source": []
  },
  {
   "cell_type": "code",
   "execution_count": null,
   "metadata": {},
   "outputs": [],
   "source": []
  },
  {
   "cell_type": "code",
   "execution_count": null,
   "metadata": {},
   "outputs": [],
   "source": []
  },
  {
   "cell_type": "code",
   "execution_count": null,
   "metadata": {},
   "outputs": [],
   "source": []
  },
  {
   "cell_type": "code",
   "execution_count": null,
   "metadata": {},
   "outputs": [],
   "source": []
  },
  {
   "cell_type": "code",
   "execution_count": null,
   "metadata": {},
   "outputs": [],
   "source": []
  },
  {
   "cell_type": "code",
   "execution_count": null,
   "metadata": {},
   "outputs": [],
   "source": []
  },
  {
   "cell_type": "code",
   "execution_count": null,
   "metadata": {},
   "outputs": [],
   "source": []
  },
  {
   "cell_type": "code",
   "execution_count": null,
   "metadata": {},
   "outputs": [],
   "source": []
  },
  {
   "cell_type": "code",
   "execution_count": null,
   "metadata": {},
   "outputs": [],
   "source": []
  },
  {
   "cell_type": "code",
   "execution_count": null,
   "metadata": {},
   "outputs": [],
   "source": []
  }
 ],
 "metadata": {
  "kernelspec": {
   "display_name": "Python 3",
   "language": "python",
   "name": "python3"
  },
  "language_info": {
   "codemirror_mode": {
    "name": "ipython",
    "version": 3
   },
   "file_extension": ".py",
   "mimetype": "text/x-python",
   "name": "python",
   "nbconvert_exporter": "python",
   "pygments_lexer": "ipython3",
   "version": "3.6.10"
  }
 },
 "nbformat": 4,
 "nbformat_minor": 4
}
