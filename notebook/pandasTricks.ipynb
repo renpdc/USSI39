{
 "cells": [
  {
   "cell_type": "markdown",
   "metadata": {},
   "source": [
    "# Pandas Tricks\n",
    "\n",
    "*Rappel et/ou découverte de manipulation de matrices de données avec pandas*"
   ]
  },
  {
   "cell_type": "markdown",
   "metadata": {},
   "source": [
    "### Lire un tableur\n",
    "\n"
   ]
  },
  {
   "cell_type": "code",
   "execution_count": 1,
   "metadata": {},
   "outputs": [
    {
     "data": {
      "text/html": [
       "<div>\n",
       "<style scoped>\n",
       "    .dataframe tbody tr th:only-of-type {\n",
       "        vertical-align: middle;\n",
       "    }\n",
       "\n",
       "    .dataframe tbody tr th {\n",
       "        vertical-align: top;\n",
       "    }\n",
       "\n",
       "    .dataframe thead th {\n",
       "        text-align: right;\n",
       "    }\n",
       "</style>\n",
       "<table border=\"1\" class=\"dataframe\">\n",
       "  <thead>\n",
       "    <tr style=\"text-align: right;\">\n",
       "      <th></th>\n",
       "      <th>nbSyll</th>\n",
       "      <th>pron</th>\n",
       "      <th>origin</th>\n",
       "      <th>warning</th>\n",
       "      <th>remarques</th>\n",
       "      <th>POS</th>\n",
       "      <th>lineId</th>\n",
       "      <th>pageId</th>\n",
       "    </tr>\n",
       "  </thead>\n",
       "  <tbody>\n",
       "    <tr>\n",
       "      <th>6793</th>\n",
       "      <td>5</td>\n",
       "      <td>incŏmbŭʹſtĭble</td>\n",
       "      <td>L.</td>\n",
       "      <td>NaN</td>\n",
       "      <td>NaN</td>\n",
       "      <td>a.</td>\n",
       "      <td>60.0</td>\n",
       "      <td>115</td>\n",
       "    </tr>\n",
       "    <tr>\n",
       "      <th>5398</th>\n",
       "      <td>2</td>\n",
       "      <td>fūʹm_o_us</td>\n",
       "      <td>L.</td>\n",
       "      <td>NaN</td>\n",
       "      <td>NaN</td>\n",
       "      <td>a.</td>\n",
       "      <td>57.0</td>\n",
       "      <td>94</td>\n",
       "    </tr>\n",
       "    <tr>\n",
       "      <th>7847</th>\n",
       "      <td>3</td>\n",
       "      <td>lĭʹgne_o_ūs</td>\n",
       "      <td>L.</td>\n",
       "      <td>NaN</td>\n",
       "      <td>NaN</td>\n",
       "      <td>a.</td>\n",
       "      <td>41.0</td>\n",
       "      <td>130</td>\n",
       "    </tr>\n",
       "    <tr>\n",
       "      <th>7899</th>\n",
       "      <td>2</td>\n",
       "      <td>lĭʹſt_e_n</td>\n",
       "      <td>NaN</td>\n",
       "      <td>NaN</td>\n",
       "      <td>NaN</td>\n",
       "      <td>v.</td>\n",
       "      <td>21.0</td>\n",
       "      <td>131</td>\n",
       "    </tr>\n",
       "    <tr>\n",
       "      <th>9237</th>\n",
       "      <td>2</td>\n",
       "      <td>oʹblong</td>\n",
       "      <td>L.</td>\n",
       "      <td>NaN</td>\n",
       "      <td>NaN</td>\n",
       "      <td>n.</td>\n",
       "      <td>39.0</td>\n",
       "      <td>149</td>\n",
       "    </tr>\n",
       "  </tbody>\n",
       "</table>\n",
       "</div>"
      ],
      "text/plain": [
       "      nbSyll            pron origin warning remarques POS  lineId  pageId\n",
       "6793       5  incŏmbŭʹſtĭble     L.     NaN       NaN  a.    60.0     115\n",
       "5398       2       fūʹm_o_us     L.     NaN       NaN  a.    57.0      94\n",
       "7847       3     lĭʹgne_o_ūs     L.     NaN       NaN  a.    41.0     130\n",
       "7899       2       lĭʹſt_e_n    NaN     NaN       NaN  v.    21.0     131\n",
       "9237       2         oʹblong     L.     NaN       NaN  n.    39.0     149"
      ]
     },
     "execution_count": 1,
     "metadata": {},
     "output_type": "execute_result"
    }
   ],
   "source": [
    "import pandas as pd\n",
    "\n",
    "# préciser le chemin du fichier à lire\n",
    "cheminDuFichierCSV = \"./../data/dictionary/1757_Buchanan-J.csv\" \n",
    "\n",
    "# demander à pandas de lire le fichier et garder ce tableau accessible dans une variable\n",
    "dfDicoBuch = pd.read_csv(cheminDuFichierCSV, delimiter=\";\", encoding=\"utf8\")\n",
    "\n",
    "# afficher à l'écran un échantillon du tableau\n",
    "dfDicoBuch.sample(n=5)"
   ]
  },
  {
   "cell_type": "markdown",
   "metadata": {},
   "source": [
    "Pour lires des tableurs aux format xls, xlsx ou odt il faut utiliser pd.read_excel(cheminDuFichier) et je conseil de bien préciser explicitement l'engine à utiliser en paramètre.\n",
    "* dfXlsx = pd.read_excel(cheminDuFichierXLSX, engine=\"openpyxl\")\n",
    "* dfOds = pd.read_excel(cheminDuFichierODS, engine=\"odf\")"
   ]
  },
  {
   "cell_type": "markdown",
   "metadata": {},
   "source": [
    "### Ajouter un nouvelle colonne contenant le resultat d'un traitement"
   ]
  },
  {
   "cell_type": "code",
   "execution_count": 2,
   "metadata": {},
   "outputs": [],
   "source": [
    "# définir une fonction qui retourne quelque chose\n",
    "def sizePron(strPron):\n",
    "    #retourner le nombre de caractère de la prononciation\n",
    "    \n",
    "    return len(strPron)\n",
    "\n"
   ]
  },
  {
   "cell_type": "code",
   "execution_count": 3,
   "metadata": {},
   "outputs": [
    {
     "data": {
      "text/html": [
       "<div>\n",
       "<style scoped>\n",
       "    .dataframe tbody tr th:only-of-type {\n",
       "        vertical-align: middle;\n",
       "    }\n",
       "\n",
       "    .dataframe tbody tr th {\n",
       "        vertical-align: top;\n",
       "    }\n",
       "\n",
       "    .dataframe thead th {\n",
       "        text-align: right;\n",
       "    }\n",
       "</style>\n",
       "<table border=\"1\" class=\"dataframe\">\n",
       "  <thead>\n",
       "    <tr style=\"text-align: right;\">\n",
       "      <th></th>\n",
       "      <th>nbSyll</th>\n",
       "      <th>pron</th>\n",
       "      <th>origin</th>\n",
       "      <th>warning</th>\n",
       "      <th>remarques</th>\n",
       "      <th>POS</th>\n",
       "      <th>lineId</th>\n",
       "      <th>pageId</th>\n",
       "      <th>sizePron</th>\n",
       "    </tr>\n",
       "  </thead>\n",
       "  <tbody>\n",
       "    <tr>\n",
       "      <th>10829</th>\n",
       "      <td>2</td>\n",
       "      <td>prȯẇeſs</td>\n",
       "      <td>F.</td>\n",
       "      <td>nbSyll&gt;1 et pas d'accent tonic</td>\n",
       "      <td>NaN</td>\n",
       "      <td>n.</td>\n",
       "      <td>12.0</td>\n",
       "      <td>172</td>\n",
       "      <td>7</td>\n",
       "    </tr>\n",
       "    <tr>\n",
       "      <th>13841</th>\n",
       "      <td>1</td>\n",
       "      <td>thrŭſt</td>\n",
       "      <td>NaN</td>\n",
       "      <td>NaN</td>\n",
       "      <td>NaN</td>\n",
       "      <td>v.</td>\n",
       "      <td>14.0</td>\n",
       "      <td>214</td>\n",
       "      <td>6</td>\n",
       "    </tr>\n",
       "    <tr>\n",
       "      <th>8212</th>\n",
       "      <td>2</td>\n",
       "      <td>măʹnhood</td>\n",
       "      <td>NaN</td>\n",
       "      <td>NaN</td>\n",
       "      <td>NaN</td>\n",
       "      <td>n.</td>\n",
       "      <td>49.0</td>\n",
       "      <td>135</td>\n",
       "      <td>8</td>\n",
       "    </tr>\n",
       "    <tr>\n",
       "      <th>4864</th>\n",
       "      <td>2</td>\n",
       "      <td>extrūʹde</td>\n",
       "      <td>L.</td>\n",
       "      <td>NaN</td>\n",
       "      <td>NaN</td>\n",
       "      <td>v.</td>\n",
       "      <td>24.0</td>\n",
       "      <td>87</td>\n",
       "      <td>8</td>\n",
       "    </tr>\n",
       "    <tr>\n",
       "      <th>1914</th>\n",
       "      <td>4</td>\n",
       "      <td>cărthūʹsĭans</td>\n",
       "      <td>NaN</td>\n",
       "      <td>NaN</td>\n",
       "      <td>NaN</td>\n",
       "      <td>n.</td>\n",
       "      <td>11.0</td>\n",
       "      <td>46</td>\n",
       "      <td>12</td>\n",
       "    </tr>\n",
       "  </tbody>\n",
       "</table>\n",
       "</div>"
      ],
      "text/plain": [
       "       nbSyll          pron origin                         warning remarques  \\\n",
       "10829       2       prȯẇeſs     F.  nbSyll>1 et pas d'accent tonic       NaN   \n",
       "13841       1        thrŭſt    NaN                             NaN       NaN   \n",
       "8212        2      măʹnhood    NaN                             NaN       NaN   \n",
       "4864        2      extrūʹde     L.                             NaN       NaN   \n",
       "1914        4  cărthūʹsĭans    NaN                             NaN       NaN   \n",
       "\n",
       "      POS  lineId  pageId  sizePron  \n",
       "10829  n.    12.0     172         7  \n",
       "13841  v.    14.0     214         6  \n",
       "8212   n.    49.0     135         8  \n",
       "4864   v.    24.0      87         8  \n",
       "1914   n.    11.0      46        12  "
      ]
     },
     "execution_count": 3,
     "metadata": {},
     "output_type": "execute_result"
    }
   ],
   "source": [
    "# appeler cette fonction sur toutes les lignes de la matrice pour remplir une nouvelle colonne grace à apply\n",
    "dfDicoBuch['sizePron'] = dfDicoBuch.apply(lambda x: sizePron(x['pron']),1)\n",
    "\n",
    "dfDicoBuch.sample(n=5)"
   ]
  },
  {
   "cell_type": "markdown",
   "metadata": {},
   "source": [
    "## Un petit calcul"
   ]
  },
  {
   "cell_type": "code",
   "execution_count": 4,
   "metadata": {},
   "outputs": [
    {
     "data": {
      "text/plain": [
       "9.0"
      ]
     },
     "execution_count": 4,
     "metadata": {},
     "output_type": "execute_result"
    }
   ],
   "source": [
    "dfDicoBuch['sizePron'].median()"
   ]
  },
  {
   "cell_type": "code",
   "execution_count": 5,
   "metadata": {},
   "outputs": [
    {
     "data": {
      "text/plain": [
       "26"
      ]
     },
     "execution_count": 5,
     "metadata": {},
     "output_type": "execute_result"
    }
   ],
   "source": [
    "dfDicoBuch['sizePron'].max()"
   ]
  },
  {
   "cell_type": "markdown",
   "metadata": {},
   "source": [
    "## Une recherche de valeur"
   ]
  },
  {
   "cell_type": "code",
   "execution_count": 6,
   "metadata": {},
   "outputs": [
    {
     "data": {
      "text/html": [
       "<div>\n",
       "<style scoped>\n",
       "    .dataframe tbody tr th:only-of-type {\n",
       "        vertical-align: middle;\n",
       "    }\n",
       "\n",
       "    .dataframe tbody tr th {\n",
       "        vertical-align: top;\n",
       "    }\n",
       "\n",
       "    .dataframe thead th {\n",
       "        text-align: right;\n",
       "    }\n",
       "</style>\n",
       "<table border=\"1\" class=\"dataframe\">\n",
       "  <thead>\n",
       "    <tr style=\"text-align: right;\">\n",
       "      <th></th>\n",
       "      <th>nbSyll</th>\n",
       "      <th>pron</th>\n",
       "      <th>origin</th>\n",
       "      <th>warning</th>\n",
       "      <th>remarques</th>\n",
       "      <th>POS</th>\n",
       "      <th>lineId</th>\n",
       "      <th>pageId</th>\n",
       "      <th>sizePron</th>\n",
       "    </tr>\n",
       "  </thead>\n",
       "  <tbody>\n",
       "    <tr>\n",
       "      <th>2813</th>\n",
       "      <td>3</td>\n",
       "      <td>contrŏʹller or comptrollĕr</td>\n",
       "      <td>NaN</td>\n",
       "      <td>NaN</td>\n",
       "      <td>NaN</td>\n",
       "      <td>n.</td>\n",
       "      <td>49.0</td>\n",
       "      <td>58</td>\n",
       "      <td>26</td>\n",
       "    </tr>\n",
       "    <tr>\n",
       "      <th>7492</th>\n",
       "      <td>3</td>\n",
       "      <td>kaʹlĕnd_a_r or caʹlĕnd_a_r</td>\n",
       "      <td>NaN</td>\n",
       "      <td>NaN</td>\n",
       "      <td>NaN</td>\n",
       "      <td>n.</td>\n",
       "      <td>2.0</td>\n",
       "      <td>125</td>\n",
       "      <td>26</td>\n",
       "    </tr>\n",
       "  </tbody>\n",
       "</table>\n",
       "</div>"
      ],
      "text/plain": [
       "      nbSyll                        pron origin warning remarques POS  lineId  \\\n",
       "2813       3  contrŏʹller or comptrollĕr    NaN     NaN       NaN  n.    49.0   \n",
       "7492       3  kaʹlĕnd_a_r or caʹlĕnd_a_r    NaN     NaN       NaN  n.     2.0   \n",
       "\n",
       "      pageId  sizePron  \n",
       "2813      58        26  \n",
       "7492     125        26  "
      ]
     },
     "execution_count": 6,
     "metadata": {},
     "output_type": "execute_result"
    }
   ],
   "source": [
    "dfDicoBuch[dfDicoBuch['sizePron']==26.0]"
   ]
  },
  {
   "cell_type": "markdown",
   "metadata": {},
   "source": [
    "## Afficher des graphiques\n",
    "Plusieurs librairie possibles :\n",
    "* matplotlib (static, bonne qualité pour publication)\n",
    "* seaborn (interactif, pour le web)\n",
    "* bokeh (interactif, pour le web)\n",
    "* plotly (interactif, pour le web)"
   ]
  },
  {
   "cell_type": "code",
   "execution_count": 7,
   "metadata": {},
   "outputs": [],
   "source": [
    "import seaborn as sns\n",
    "import matplotlib.pyplot as plt"
   ]
  },
  {
   "cell_type": "code",
   "execution_count": 9,
   "metadata": {
    "scrolled": false
   },
   "outputs": [
    {
     "data": {
      "text/plain": [
       "<matplotlib.axes._subplots.AxesSubplot at 0x199d7b75128>"
      ]
     },
     "execution_count": 9,
     "metadata": {},
     "output_type": "execute_result"
    },
    {
     "data": {
      "application/vnd.jupyter.widget-view+json": {
       "model_id": "c5028d5b02204986b778f32258f16a84",
       "version_major": 2,
       "version_minor": 0
      },
      "image/png": "[encoded data removed]",
      "text/html": [
       "\n",
       "            <div style=\"display: inline-block;\">\n",
       "                <div class=\"jupyter-widgets widget-label\" style=\"text-align: center;\">\n",
       "                    scatter plot view\n",
       "                </div>\n",
       "                <img src='data:image/png;base64,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' width=640.0/>\n",
       "            </div>\n",
       "        "
      ],
      "text/plain": [
       "Canvas(toolbar=Toolbar(toolitems=[('Home', 'Reset original view', 'home', 'home'), ('Back', 'Back to previous …"
      ]
     },
     "metadata": {},
     "output_type": "display_data"
    }
   ],
   "source": [
    "%matplotlib ipympl\n",
    "\n",
    "plt.figure(\"scatter plot view\")\n",
    "sns.scatterplot(data=dfDicoBuch, x=\"nbSyll\", y=\"sizePron\", hue=\"POS\")"
   ]
  },
  {
   "cell_type": "code",
   "execution_count": 10,
   "metadata": {
    "scrolled": false
   },
   "outputs": [
    {
     "data": {
      "text/plain": [
       "<matplotlib.axes._subplots.AxesSubplot at 0x199d8105a90>"
      ]
     },
     "execution_count": 10,
     "metadata": {},
     "output_type": "execute_result"
    },
    {
     "data": {
      "application/vnd.jupyter.widget-view+json": {
       "model_id": "a38906f633b54a8e9d716d2eb17e1948",
       "version_major": 2,
       "version_minor": 0
      },
      "image/png": "[encoded data removed]",
      "text/html": [
       "\n",
       "            <div style=\"display: inline-block;\">\n",
       "                <div class=\"jupyter-widgets widget-label\" style=\"text-align: center;\">\n",
       "                    scatter plot view\n",
       "                </div>\n",
       "                <img src='data:image/png;base64,iVBORw0KGgoAAAANSUhEUgAAAoAAAAHgCAYAAAA10dzkAAAABHNCSVQICAgIfAhkiAAAAAlwSFlzAAAPYQAAD2EBqD+naQAAADh0RVh0U29mdHdhcmUAbWF0cGxvdGxpYiB2ZXJzaW9uMy4yLjIsIGh0dHA6Ly9tYXRwbG90bGliLm9yZy+WH4yJAAAgAElEQVR4nOzdeZgU9Z0/8HdV393Tc58ww3BfwiAoCAZQhDVgYlTcZLO6P2F3n2ziGuMucRPNJlETo7k8EvMsjzGJx6qJ2aiYeCCKDIpyCcghMDAwJ3Nf3dN3V1f9/hhmYOjuGZDqrq7u9+t55o+pb0N9ii6q3/2t+n6/gqIoCoiIiIgoY4haF0BEREREycUASERERJRhGACJiIiIMgwDIBEREVGGYQAkIiIiyjAMgEREREQZhgGQiIiIKMMwABIRERFlGAZAIiIiogzDAEhERESUYRgAiYiIiDIMAyARERFRhmEAJCIiIsowDIBEREREGYYBkIiIiCjDMAASERERZRgGQCIiIqIMwwBIRERElGEYAImIiIgyDAMgERERUYZhACQiIiLKMAyARERERBmGAZCIiIgowzAAEhEREWUYBkAiIiKiDMMASERERJRhGACJiIiIMgwDIBEREVGGYQAkIiIiyjAMgEREREQZhgGQiIiIKMMwABIRERFlGAZAIiIiogzDAEhERESUYRgAiYiIiDIMAyARERFRhmEAJCIiIsowDIBEREREGYYBkIiIiCjDMAASERERZRgGQCIiIqIMwwBIRERElGEYAImIiIgyDAMgERERUYZhACQiIiLKMAyARERERBmGAZCIiIgowzAAEhEREWUYBkAiIiKiDMMASERERJRhGACJiIiIMgwDIBEREVGGYQAkIiIiyjAMgEREREQZhgGQiIiIKMMwABIRERFlGKPWBeiZLMtoaWmB0+mEIAhal0NERETnQVEU9Pf3Y8yYMRDFzOwLYwC8CC0tLaioqNC6DCIiIvoMmpqaUF5ernUZmmAAvAhOpxPAwAmUnZ2tcTVERER0PtxuNyoqKoY+xzMRA+BFGLztm52dzQBIRESkM5n8+FZm3vgmIiIiymAMgEREREQZhgGQiIiIKMPwGcAEUxQFkiQhEoloXUrKMxgMMBqNGf1MBhERUTIwACZQKBRCa2srfD6f1qXoht1uR1lZGcxms9alEBERpS0GwASRZRl1dXUwGAwYM2YMzGYze7ZGoCgKQqEQOjs7UVdXhylTpmTs5JxERESJxgCYIKFQCLIso6KiAna7XetydMFms8FkMqGhoQGhUAhWq1XrkoiIiNISu1gSjL1YF4b/XkRERInHT1siIiKiDMNbwER0QSRJhl+KICwpEEXAahRhNfNSQkSkJ+wBpChr166FIAgQBAEmkwkTJ07E3XffDa/XO/SaZ599FgsWLIDD4YDT6cTSpUvx+uuvR/1dTz75JObMmQOHw4Hc3FzMnTsXP/vZz5J5OKSiQEhCty8EXyiCsCwjKMlwBSS4fCGtSyMiogvAAEgxrVy5Eq2trTh58iQefPBB/M///A/uvvtuAMDdd9+Nr3/96/jKV76C/fv3Y9euXViyZAluuOEG/OY3vxn6O37/+99j3bp1+Na3voX9+/fjww8/xHe+8x14PB6tDosugizLcAekmG0BSUYgFLuNiIhSD+/bUEwWiwWlpaUAgFtuuQVbtmzBhg0bsGbNGjzyyCP49a9/jTvvvHPo9T/5yU8QCASwbt063HDDDaioqMDf/vY3fOUrX8G//uu/Dr3ukksuSfqxkDoCkgxllHYrp28kItIF9gDSebHZbAiHw/jjH/+IrKwsfP3rX496zbe//W2Ew2G8/PLLAIDS0lLs2LEDDQ0NyS6XEiAijxT/AFlOUiFERHTRGABpVLt27cKLL76I5cuX49ixY5g0aVLMlTrGjBmDnJwcHDt2DABw3333ITc3F+PHj8e0adOwdu1a/PnPf4bMpKBLBnHkicwNvJoQEekGL9kU0+uvv46srCxYrVYsWrQIS5cuxRNPPDHqn1MUZWjFk7KyMmzfvh0HDx7Et771LYTDYaxZswYrV65kCNQhu9mIkSKgjSOBiYh0g1dsimnZsmVYv349TCYTxowZA5PJBACYOnUqtm3bhlAoFNUL2NLSArfbjSlTpgzbPmvWLMyaNQt33HEHtm3bhiVLlmDr1q1YtmxZ0o6H1JFrN6PPF4p6FtBpNcJs5PdJIiK94BWbYnI4HJg8eTIqKyuHwh8AfPWrX4XH48GTTz4Z9Wd++ctfwmQy4eabb477986cORMAhk0pQ/phNooozrbCaTXCbjbAYTaiKMsMO3v/iIh0hVdtuiCLFi3CXXfdhf/6r/9CKBTCjTfeiHA4jOeffx6/+tWv8Pjjj6OiogIAcPvtt2PMmDG45pprUF5ejtbWVjz44IMoKirCokWLND4SuhgMfERE+sarOF2wxx9/HFVVVVi/fj1+8IMfQBAEzJs3Dxs2bMD1118/9LoVK1bgD3/4A9avX4/u7m4UFhZi0aJF2Lx5MwoKCjQ8AiIioswmKIoy8twOFJfb7UZOTg5cLheys7OHtQUCAdTV1WHChAmwWq0aVag//HcjIqJEG+nzO1PwGUAiIiKiDMMASERERJRh0jYAPvzww5g/fz6cTieKi4tx4403oqamZthr1q5dC0EQhv0sXLhQo4qJiIiIkiNtA+DWrVtxxx13YMeOHXjnnXcgSRKuvfbaqOlHVq5cidbW1qGfN998U6OKiYiIiJIjbUcBb9y4cdjvTz/9NIqLi7Fnzx4sXbp0aLvFYkFpaWmyyyMiIiLSTNr2AJ7L5XIBAPLz84dtr66uRnFxMaZOnYqvfe1r6OjoiPt3BINBuN3uYT9EREREepMRAVBRFKxbtw6LFy/GrFmzhravWrUKL7zwAt577z088sgj2L17N6655hoEg8GYf8/DDz+MnJycoZ/BCY+JiIiI9CQj5gG844478MYbb2Dbtm0oLy+P+7rW1lZUVlbiT3/6E1avXh3VHgwGh4VDt9uNiooKzgOoIv67ERFRonEewDR+BnDQnXfeib/+9a94//33Rwx/AFBWVobKykocP348ZrvFYoHFYklEmURERERJk7YBUFEU3HnnnXj11VdRXV2NCRMmjPpnuru70dTUhLKysiRUSERERKSNtH0G8I477sDzzz+PF198EU6nE21tbWhra4Pf7wcAeDwe3H333di+fTvq6+tRXV2N66+/HoWFhbjppps0rp6IiIgocdK2B3D9+vUAgKuvvnrY9qeffhpr166FwWDAwYMH8dxzz6Gvrw9lZWVYtmwZXnrpJTidTg0qji0iK9hV14OO/gCKnVYsmJAPgyhoXRYRERHpWNoGwNHGtthsNrz99ttJquaz2XioFQ/87TBaXYGhbWU5Vtx3/UysnJW429RXX301qqqqYLVa8bvf/Q5msxnf+MY3cP/99ydsn0RERJQ8aXsLWO82HmrF7c/vHRb+AKDNFcDtz+/FxkOtCd3/s88+C4fDgZ07d+LnP/85fvSjH+Gdd95J6D6JiIgoORgAU1BEVvDA3w4jVh/m4LYH/nYYETlxM/hUVVXhvvvuw5QpU3Dbbbfh8ssvx+bNmxO2PyIiIkoeBsAUtKuuJ6rn72wKgFZXALvqehJWQ1VV1bDfy8rKRlwlhYiIiPQjbZ8B1LOO/vjh77O87rMwmUzDfhcEAbIsJ2x/pB+yrCAsy5BlQBAAoyjAaOB3SSIiPWEATEHFzvNbAeN8X0ekFikiIyCd9UVAASRZgVFWYDUZtCuMiIguCL+2p6AFE/JRlmNFvMleBAyMBl4wIT+ZZQ257bbbcO+992qyb9KOoigISrF7gSVZgRRhDzERkV4wAKYggyjgvutnAkBUCBz8/b7rZ2o2H2BjYyNaWxM7CplSjyQrMQcmnd1ORET6wFvAKWrlrDKs/6d5UfMAliZhHsDq6uqobRs2bBixndKfPMrcmqM0ExFRCmEATGErZ5Xh72aWciUQSgmiIAAj9AEKPC2JiHSDATDFGUQBiyYVaF0GEUwGESFJjhsBTRwJTESkG7xiE9F5s5oMMQcnWYwie6aJiHSEPYBEdN4MogCHxYhwRIasKBAgwGQQIPD+LxGRrjAAEtEF4+1eIiJ941WciIiIKMMwABIRERFlGAZAIiIiogzDAEhERESUYRgAiYiIiDIMAyARERFRhuE0MKlOjgANHwGediCrBKi8EhANWldFREREOsYAmMoO/xXY+F3A3XJmW/YYYOXPgJlfSthur776asyaNQsA8Pzzz8NgMOD222/Hj3/8Y074S0RElAZ4CzhVHf4r8Ofbhoc/AHC3Dmw//NeE7v7ZZ5+F0WjEzp078etf/xqPPfYYfve73yV0n0RERJQc7AFMRXJkoOcPSoxGBYAAbLwHmP6FhN0OrqiowGOPPQZBEDBt2jQcPHgQjz32GL72ta8lZH9ERESUPOwBTEUNH0X3/A2jAO5TA69LkIULFw673bto0SIcP34ckUgkYfskIiKi5GAATEWednVfR0RERHQWBsBUlFWi7us+gx07dkT9PmXKFBgMHIFMRESkdwyAqajyyoHRvog34lYAsscOvC5BmpqasG7dOtTU1OCPf/wjnnjiCdx1110AgHvvvRe33XZbwvZNREREicVBIKlINAxM9fLn2zAQAs8eDHI6FK78aULnA7ztttvg9/uxYMECGAwG3Hnnnfi3f/s3AEBraysaGxsTtm8iIiJKLAbAVDXzS8BXnoszD+BPEzoPIACYTCY8/vjjWL9+fVTbM888k9B9ExERUWIxAKaymV8amOqFK4EQERGRihgAU51oACYs0boKIiIiSiMMgBSlurpa6xKIiIgogTgKmIiIiCjDMAASERERZRgGQCIiIqIMwwBIRERElGEYAImIiIgyDAMgERERUYZhACQiIiLKMAyARERERBmGE0GnuIgcwd6Ovej0daLIXoR5xfNg4FJwREREdBEYAFPYuw3v4qe7fop2X/vQthJ7Ce5ZcA9WVK5IyD6ffPJJ/OhHP0JTUxNE8UwH8Ze+9CXk5eXh2WefTch+iYiIKHl4CzhFvdvwLtZVrxsW/gCgw9eBddXr8G7DuwnZ75e//GV0dXVhy5YtQ9t6e3vx9ttv49Zbb03IPomIiCi5GABTUESO4Ke7fgoFSlTb4Laf7foZInJE9X3n5+dj5cqVePHFF4e2/d///R/y8/OxfPly1fdHREREyccAmIL2duyN6vk7mwIFbb427O3Ym5D933rrrXj55ZcRDAYBAC+88AK++tWvwmDgs4dERETpgAEwBXX6OlV93YW6/vrrIcsy3njjDTQ1NeGDDz7AP/3TPyVkX6Q/sqwgKEXgD0UQCEcgRWStSyIiogvEQSApqMhepOrrLpTNZsPq1avxwgsvoLa2FlOnTsVll12WkH2RvkgRGQHprMCnAJKswCgrsJrYQ0xEpBfsAUxB84rnocReAgFCzHYBAkrtpZhXPC9hNdx6661444038Ic//GGo9+/VV1/F9OnTE7ZPSm2KoiAoxe7tk2SFPYFERDrCAJiCDKIB9yy4BwCiQuDg799d8N2Ezgd4zTXXID8/HzU1NbjlllsAAC6XCzU1NQnbJ6U2SY41LGl4OxER6QMDYIpaUbkCj179KIrtxcO2l9hL8OjVjyZsHsBBBoMBLS0tUBQFEydOBACsXbsWisIP+Uwlj/Le89QgItIPPgOYwlZUrsCyimVcCYRSgigIwAh9gELsJxaIiCgFMQCmOINowPzS+VqXQQSTQURIkuNGQJOBNxSIiPSCV2wiOm9WkyHm0CSLUYRBZBcgEZFesAeQiM6bQRTgsBgRjsiQFQUCBJgMAgTe/yUi0hUGQCK6YLzdS0Skb7yKExEREWUYBkAiIiKiDMMASERERJRhGACJiIiIMkzaBsCHH34Y8+fPh9PpRHFxMW688caoZcwURcH999+PMWPGwGaz4eqrr8ann36qUcWULqSIjEA4An8ogqAUgZxmS6TJsoKgNHB8gXCEawATaSB81nUmJMlpt0pTRFaGji8QjiCSZtfRVJC2AXDr1q244447sGPHDrzzzjuQJAnXXnstvF7v0Gt+/vOf49FHH8VvfvMb7N69G6Wlpfi7v/s79Pf3a1g56VkgHEFAkiHJCiKKgnBEgT+NQpIUkeELRxCODByfJCsISAMfRESUeIqiwBeSEDzrOhOKyPCF0ufLZlCKDFw35TPXGX84gnCaXEdTRdpOA7Nx48Zhvz/99NMoLi7Gnj17sHTpUiiKgscffxz//d//jdWrVwMAnn32WZSUlODFF1/E17/+dS3KjqJEIvB9vAdSZyeMRUWwX34ZBAOXgktF4cjABflcCoCgJMOo86lTFEVBUIp9AZZkBVJE/8dIlOpCERmxct7gdcZm1vfnQ0Qe+OIcS1CSYRAEiJx0XhUZc7V2uVwAgPz8fABAXV0d2tracO211w69xmKx4KqrrsJHH30U8+8IBoNwu93DfhLJvWkTapevQOOaNWi5+240rlmD2uUr4N60KaH73bhxIxYvXozc3FwUFBTgi1/8Ik6cOJHQfaYDKc5FCxi4OOu9F1CSlRFWAkbM8EtE6hrpOhNRFN33Ao7WyxeW9X0dTSUZEQAVRcG6deuwePFizJo1CwDQ1tYGACgpKRn22pKSkqG2cz388MPIyckZ+qmoqEhYze5Nm3Dqrv+AdE4tUns7Tt31HwkNgV6vF+vWrcPu3buxefNmiKKIm266CTL/441o5HiEUVpTnzzKM0Zp9ggSUcpRlNGuMvq/zoyG1xn1pO0t4LN985vfxIEDB7Bt27aotnOXsFIUJe6yVvfeey/WrVs39Lvb7U5ICFQiEbQ/9HDsM11RAEFA+0MPw7l8eUJuB998883Dfv/973+P4uJiHD58eChAUzRREEYMSaLOl0sbqD/+8en88IhSniAIGPl/IaD3u6OjXUf0fh1NJWnfA3jnnXfir3/9K7Zs2YLy8vKh7aWlpQAQ1dvX0dER1Ss4yGKxIDs7e9hPIvg+3hPV8zeMokBqa4Pv4z0J2f+JEydwyy23YOLEicjOzsaECRMAAI2NjQnZX7owjnDlFYWBdXT1zGQQMdIRcHk4osQb6f+ZUdT/utwmMf7xCQBMBn0fXypJ2yu2oij45je/iVdeeQXvvffeUIgZNGHCBJSWluKdd94Z2hYKhbB161ZceeWVyS53GKmzU9XXXajrr78e3d3deOqpp7Bz507s3LkTwMC/D8VnNIgwx7g4iwJgNer7wexBVpMhZgi0GEXdB1wiPTAbxZhfNg2CAItR/x/poijAGuM4BJy+/ug84KaStL0FfMcdd+DFF1/Ea6+9BqfTOdTTl5OTA5vNBkEQ8B//8R946KGHMGXKFEyZMgUPPfQQ7HY7brnlFk1rNxYVqfq6C9Hd3Y0jR47gySefxJIlSwAg5q1zim3w4jwwYEKBQRDSamSsQRTgsBgRjsiQFQUCBJgM+u91INITq8kAWVaGBkQYxfT6AmY0iHCIAsKRgeuoKAhp0buZatI2AK5fvx4AcPXVVw/b/vTTT2Pt2rUAgO985zvw+/3493//d/T29uKKK67Apk2b4HQ6k1ztcPbLL4OxtBRSe3vs5wAFAcaSEtgvv0z1fefl5aGgoAC//e1vUVZWhsbGRtxzzz3DXrN8+XLcdNNN+OY3v6n6/tOBKAowp9HFOBbe7iXSligKsIjpcWchFkEQYDam93VUa2l7FVcUJebPYPgDBk6w+++/H62trQgEAti6dWtKDHIQDAaUfO/e07+c8x/g9O8l37s3IQNARFHEn/70J+zZswezZs3Cf/7nf+IXv/jFsNecOHECXV1dqu+biIiIkiNtewD1Lvvaa4FfPY72hx4eNiDEWFKCku/dO9CeICtWrMDhw4eHbTt7maH6+vqE7ZuIiIgSjwEwhWVfey2cy5dzJRAiIiJSFQNgihMMBjiuWKB1GURERJRGGACJVCadXhNYUQBRHJjXimtX6oeiDKxFOjiptyik30hnnqP65wtJCEkyZHlg9gG7WYQ4whx6ROdiACRSUSAcGbYmbiQCSJEILEYxraaDSVeKosAfjmD4cqoKJBmwpckcZLHO0XAkAivPUV2QZRk9vhDOXjI3HJLhCwH5djOMaTAXICUHzxQilYRP96qcSwEQlLiOsh4EJRkx3kLISnq8h1KccxQYOD6FC62mPG8oMiz8DVIAuANS0ush/WIAJFKJFIn/4alg4MOXUpeiKHHDEYDTt0z1HZBGOj5llHZKDf5QJG5bWJYhpcEXFUoOBkAilSgjLtE+8gLupL3zyXY6z3+j1i/r/QDTnCzLo15HGP/ofDEAEqlEHOX5sNHaSVuCgJjrHA+1I3pedr0ZrX6eo6lNFMURz1EA4COAdL54qhCpJNYC7YNEAWm1Vmc6EgQBRkP898iYBiOBR1rCTxilnVKD3Rx/7KbFyJHAdP54phCpxGgQYY7xASoKgNXIybv1wGI0xAzyRlGAJQ3eQ4MowBKji0gAYDXp//gyQZbVCGuM99Akisi2cmIPOn88W4hUZDaKMIrCwIABKDAIAqfW0BmryYCIrECSB56mMopiWvXemgwD52g4MnCODsxzyHNUT3LsZjgkGX5pYECIxWiAmfd+6QIxAKY4WVbQerwPXncQjmwLyqbkcsLWFCeKAsx8j3TNIAowiOnbIyYIAsxGnqN6ZjSKcDL00UVgAExhJ/Z14IOXjsPbFxza5si1YMk/TMGkucUJ2+9f/vIXPPDAA6itrYXdbsfcuXPx2muvweFwJGyfRERElDz8+pCiTuzrwMYnDw0LfwDg7Qti45OHcGJfR0L229rain/8x3/Ev/zLv+DIkSOorq7G6tWrdT//GREREZ3BHsAUJMsKPnjp+Iiv2fbn45gwp0j128Gtra2QJAmrV69GZWUlAGD27Nmq7oOIiIi0xR7AFNR6vC+q5+9cnt4gWo/3qb7vOXPmYPny5Zg9eza+/OUv46mnnkJvb6/q+yEiIiLtMACmIK975PB3oa+7EAaDAe+88w7eeustzJw5E0888QSmTZuGuro61feVrgLhEPr8XvT6POgP+iFF4i/dpEeSJKM/EEaPJ4Q+XwiBUHqtPypJEjpdATR2edDY5UGnKwBJSrNjDIUQ8Hng9/QjGPBDltLrHA35/PC0tKK39iRcdQ0IdPdoXZLqQoEgfP1eeF0eBP0ByDLXAKELwwCYghzZFlVfd6EEQcDnPvc5PPDAA9i3bx/MZjNeffXVhOwr3fT5vXAF/QhGJITkCHzhEHr9XgTCIa1LU0UgJKHbF4IvFEFYlhGUZLgCEly+9Dg+SZJQ3+VDuycAd1CCOyih3RNAfZcvbUJgwOdFIOCFJIURkSWEQwH4fG5IofR4DwPdPXAdq4W/vRNSvwehPhf6G5vhqmvQujRVyLIMT58bAV8AUlhCJBJB0B+E1+VBJM2CPCUWA2AKKpuSC0fuyOEuK29gShi17dy5Ew899BA+/vhjNDY24pVXXkFnZydmzJiBV199FdOnT1d9n+nCFw4iGIkOCTIU9AcDGlSkLlmW4Q7EDkEBSU6LnsCWvgACkeielEBERkuf/t9DKRSCJMUOesGAH0oa9CJ529pjLnoc6nPB39mlQUXqCgWCkOXo41MUBQGvX4OKSK8YAFOQKApY8g9TRnzN4q9MSch8gNnZ2Xj//fdx3XXXYerUqfj+97+PRx55BKtWrYLL5UJNTY3q+0wXwXA4bpsMRfe9gAFp5IXoA5K+w4MkSegPxg+x/UFJ972A8cIfACiQIUnxz2E9CHT3QA7FP4aAy53EahIjHIx/fJFIhL2AdN44CjhFTZpbjJVfnxU1D2BWngWLv5K4eQBnzJiBjRs3xmxbu3Yt1q5dm5D9poOR49Ho7akuEqPX4Wx67zySJIz4DimnX2PU8VVTGfU91PebOFoPpqLzAC/L8qhTcnHKLjpfOr6Upb9Jc4sxYU4RVwLRCYMgQkL8DyCjoO+VJUZbDk3vq4kZjYBBEBCJ8wFqEARdhz8AEEQRI5yiEEV9v4miZeRHZwyjtKc6URQhCMKIIU/U+39EShqdX87SnygKGDstT+sy6DxYjaaYzwACA+vJmnWeHuxmIzwBKW4vmc2s7+MzGo3Is5vR5Y09uj7PboZR5++hyWyJextYgAiTWd8ByZLthMFmQ8Qf+1k4S7YzyRWpz2w1I+iPfY4aTUbdh3hKHp4pRCqxmszIMlmjthtFETkWuwYVqS/XbkasfkCn1ZgWi9GX5tqQbYkOedkWI0pzbRpUpC6D0QiLNfpcFCDCak+PpR6zxpXDYDvnvRIEOMpKYS3I16YoFVlsVhjNpqjtBoMBVof+z1FKHn1/nSVKMQ6LBRajEUFJggwZJtEAq8msdVmqMRtFFGdb4QtJiMgKBAiwm8W06nUYV5gFT0CCJzDwsH2W1YQsa/pcKk1mC4xGE8KhEBQoEEX99/ydzWy3IX/6FAS6eyAFQxANIoxOJ8z29AlH9iw7IlIE4dNT9xhNJhhN6XOOUnLwjCFSmdFggNGg7+f9RmPX+e3e0WRZjWkV+s4liCLM1uje6nSSDr19IzEYDTAY0yfUUvKlz9f2FKX3UXXJxn8vIiKixEvfr7gaM5vNEEURLS0tKCoqgtlshiBw9G48iqIgFAqhs7MToijCbE6f26ZERESphgEwQURRxIQJE9Da2oqWlhaty9ENu92OcePGpdUzZURERKmGATCBzGYzxo0bB0kaWK+RRmYwGGA0GtlTSkRElGAMgAkmCAJMJhNMpuhh+5SeAiEJAUmGLAMmowCb0QBjGkyRMigckuAPBBEOSRBFAVarGTZ7+gwoCAaD6O/sRPD0uqoWhw3OoiJYdD6J8Nna2zvQ29cPKSLB6bAjPz8PTmeW1mWpxudyw9/ejlC/F6LRCFthPrLHjtG6LFX5QhJCp68zZqOYdqPxKfEYAIlU1OcLIXjWmrjhEOAPRZBtNcKaBiNn/b4AXC7vsG3BYBjBYBi5efqfZDcYDKL12HEE+vuHtvV3A57ePpRNnZIWIbC2th6dHV1Dv/f39aOtvRMTxleguLhIw8rU4T7Vgu6jtQPr9p3ma6nfhwIAACAASURBVOtAoLsXxVWXaFiZOmRZRo8vhMhZ4+XCIRm+EJBvN6fVl01KLJ4pRCrxhaRh4W+QAsAd0PcapMDAQvNuty9mWyAQgt8XSHJF6uuqbxwW/gYF+vvRVd+oQUXqam/vGBb+BsmSjMamVgQC+n8P3XVNw8LfIG9rO/qaTmlQkbq8ociw8DcoXa4zlDwMgEQqCYTiT2GjYODWsJ4FAqER1yANBGIvMaYXwWAQvt7euO2+3l4Eg7GX4NKL3r7ocDsoHAyhr7cvidWoz32qBWGvN267v6MzidUkhj8U/3nysCxDivEllCgWBkAilcgY+cKr98tyJFa3w1lkOX441INIKIyIEv8YI4qMSCicxIrUJ8VZq3pQMKzv4xvtHJSCej8+Oe5a3EOvSUollA4YAIlUYhzlAezR2lOdwTBy/aO1pzqDeeTltIwmIwwx1mDVE+soS75ZdD5YzWixACPMImDW+Vq5oijGXIv7bHwEkM4XTxUilVhHuPIaxIGRenrmcNhGnKJH7yOBLRYLcgrjD4LIKdT/SOD8/FwIYuz30Gy1oLSsNMkVqSuruBCW7DiDkQQBtkL9Lw830jKMFiNHAtP545lCpBKr2QhHjIuzQQRyremxsklunjNmCHRm22Gx6Lv3CACKxlfCWVAYtd1ZUIii8ZUaVKSu/PxcjK8cC4Nx+HlqtlowYXyFRlWpK3fGVJjODYFGI3KmTEyLqWCyrMaYXzZNoojsNF6/mtQnKCM91U0jcrvdyMnJgcvlQnZ2ttblUIqQJBkBSYYCBSZRSIvpX87l9foRicgQBBF2uxkGg0HrklTV39OLoHtgwIQl2wlnfp7GFakrEAigu6cXkiTBYjLpvucvFvepVoS9XggmE6z5ebDnpNc1WpJk+KWBASEWo0H3dxiSjZ/fDIAXhScQERGR/vDzm7eAiYiIiDIOAyARERFRhmEAJCIiIsowDIBEREREGSb9hidSSlMUBeGIgoisQBAAgyjApPMJhM/l7nXD7xkYJWuymeF0ZsFq1/f8cWfzuFxwt7cj5PHAYDHBlleAwjH6n15jkM/jQWtbJzweDwAgKysLZaVFsGdlaVyZeo7v+QSRunoE+72wlBYje+okjJk0UeuyVNPc2AxPYys8Xd0wWKzIrizHpJmTtS5LVe3dLvR7A5AiQI7DioJcG8zm9JhuipKDAZCSRpYV+MORM0sZKYAkKwhHZNhMhhEnGdaL9uZ29Pf7zmzwB9Dv6kdhUT6y8/Q/0qyrtQUtx45Bkc5aUqy9E0GXC2NnzNCuMJX4PB4cOnQUXb2us7Z2oLurG7NmTU+LEHj0r2+hZdsO+NzuoW1ZpcXw3/gFTLq0SsPK1HHicC3qP9gFd8+Z4xOPHEN/Uysu/fwSDStTRygUwvHGbnjPWtbO7Quio7cfk8cWwZGVPl82KbHSq+uFUlpQir2OpawAoVHWmdWD3h7X8PB3mhxR0NvVq0FF6gr4/eg4WTc8/AGAIqOrtRVdLS3aFKai2pP154S/AV29LtSerE9+QSo7vueTqPAHAJ62DrS+swWnTp3SqDL1tO89MCz8AYAclNHw6RHUfnJYo6rU097tHRb+BgUlGU2dfRpURHrFAEhJIcsKIiNMOSlF9D8dpd8dHf4GhSUZ7l533HY9cHV3Ixzwx25UZPi6u5JbkMp8Hg+6Onvitnd19sB3+rawXoWPn4wKf4P6GpvgPdmU5IrUdeJwLTo7Yp+HclBGX31jkitSX4/bG7fN4wvC6wkmsRrSMwZASorR4p2CgecD9SwckUZsHykA64Hijx9wAUAOj3z8qS4QlKDI8d8jRVYQCOr7GMP+OAEeAMIRwDvye5zqlFAIcjD+3YSAV9/hKBQKQRrhbokMIKzz6wwlDwMgJUWc9eeHCIDunwG0jvIAtt4f0BZs9hHbTTZbkipJDKvFCKM5/nrGRrMJVou+H5u2FOTHb7TbAcfI73Gqs9htMNuscdsd+TlJrEZ9ZrMZxhEGzRkEwG7hxzqdn5S7mkUiETzzzDPYvHkzOjo6IMvDv+289957GlVGF0MQBBhFAVKcHpZ0GAlsy7Kh3xO7B8VqMcGRpe+AVFJeDndTE3y+GLegDAY4CgqTX5SK7FlZKCkuwsk4twlLivU/EthaPhaOwkJ4u6Jvk5ZUVmDqkoUaVKWeiqkT0Lz/MNpqo29lm20Do4H1rjjPiabO6OdUASAny6r7L5qUPCkXAO+66y4888wz+MIXvoBZs2bpvleIzrAYRShhOepWqFEU0mIh8+y8bIQlOWrAh9ViQmFpkUZVqato0mR0nqgdFgJFownFkyYht1j/xzh9xhQEgwG0tXcicvrLikEUUFpShOkzpmhc3cUbP68KIa8PHR9sQ1/j6QEfJgNKJk9G8bLPaVucSsYvuhSKLKPzVOvQ7WBbbhbGX3ZJWkwFU1acg0A4hO4+P87uHsm2WzCuNFezukh/BCXFHrwqLCzEc889h+uuu07rUkbFxaQ/m4isQDrds2sSRYij3R/WmYAvCK/XD8gRmMymtJj+5Vztzc1Q/D4IRjNySktg1fnt33O1tnbB7R4I8tnZeSgr03fv5rlOnToF78kGwBsAHHbd9/zFcvJILaTePsBkhL2kEOXj9N/7dzavJ4ie03ccnA4bcp3xb31TNH5+p2APoNlsxuTJ+v+WRvEZRAEG0aB1GQljtVvSauLnWErK0+vD9FxlZYVpF/rONnbsWGDsWK3LSKiJM9L7c8SRZeGcf3RRUu6+27e//W386le/0v2IUCIiIqJUlXI9gNu2bcOWLVvw1ltv4ZJLLoHJNHxU3iuvvKJRZURERETpIeUCYG5uLm666SatyyAiIiJKWykXAJ9++mmtSyAiIiJKaykXAAd1dnaipqYGgiBg6tSpKCq6sCkm3n//ffziF7/Anj170NraildffRU33njjUPvatWvx7LPPDvszV1xxBXbs2KFK/RSHogCRMCBLgCAAohEwxJ98V4/8/R4EfF7IsgKTxQKb3QGTNX3m5qprbkZzfTc6evvgsFswtrQYsy+ZqHVZqjl58iRczZ1wdQysq5pTnIuc8iJMnJg+x3h08wdwd3Ug0OtCXnEpTONLMX3ePK3LUs3Rk3XoPN6F7q5uWO02lFcWYda8mVqXpaqmTjd6/EGEJaDAYcGYXAssFg4KofOXcgHQ6/XizjvvxHPPPTc0CbTBYMBtt92GJ554Anb7+c1U7/V6MWfOHPzzP/8zbr755pivWbly5bAeR06gmWCyDIR9GFoYTsFAEIyEAJN9IBDqXG9HB4L+wNDv4VAIfo8X2Xm5sDn1PYkwABw5Uo93P/gYrZ39Q9ucznp0dHVj+VXzNaxMHc3NzTi25SAOHfgECJw+T60CZlVdCrPZjPI0GP2856VXcXTjh+g+WTe0rWL+LMDrx/Ql+p8L8NDew9i5ZQ+On2wZ2ubMtqGtuQsrvrRUw8rUEQwGsa+pD32ByNC2Ll8YzX0+zBmbh2yODKbzlHKjgNetW4etW7fib3/7G/r6+tDX14fXXnsNW7duxbe//e3z/ntWrVqFBx98EKtXr477GovFgtLS0qGf/PwRlkmiiycFEHNVYEUeCIE653W7h4W/QYoiw93Xp0FF6mptacG23QeGhT8A6O/3Y9f+Ezj46UmNKlNP/a6jOLRr35nwBwABBYd27UP9rqPaFaaSo5s/iAp/ANC0+xBOvPURGhoaNKpMPYd2Hx4W/gCg3+3Hzu2fYPfOfRpVpZ767sCw8DfIG5ZxvMOtQUWkVykXAF9++WX8/ve/x6pVq5CdnY3s7Gxcd911eOqpp/CXv/xF1X1VV1ejuLgYU6dOxde+9jV0dHSM+PpgMAi32z3sh86TLANK9EVrSCScvFoSJOCNvQwcACiyDH+/J4nVqK+l042Wpu6Ybf39fjScGvn/T6praGjAqdr4IfZU7UndB6SeUy1R4W/QyUM18Nfr+/gO7T2ME/UtMdv63X6cqm1PckXqa+/3x23r8YXh9gSTWA3pWcoFQJ/Ph5KSkqjtxcXF8Pnif8BeqFWrVuGFF17Ae++9h0ceeQS7d+/GNddcg2Aw/n+ehx9+GDk5OUM/FRUVqtWT/kab11EZeD5Qx85dtzqqXRm5PdUFfWGM9NEy0v8dPZDCYfh98Xui/b4QpLC+v6hIsdZxPk1x9ULyxG/XA384iH53/IDk69f38QWDQYSk+NcRGUBQ35cZSqKUC4CLFi3Cfffdh0DgzK00v9+PBx54AIsWLVJtP//wD/8wtN7w9ddfj7feegvHjh3DG2+8EffP3HvvvXC5XEM/TU3RC45THMJop5qg+2cAjcaRVzcxmvT9jKnFboLDFv8Yc7PP7/ncVCWIIpwjHIMz2w5BTLlL5gVx5OXFbcstzocxy5HEatRnt2WhKC8nbnt+ib5Xd7FYLLCMsG66QQCy+QggnaeUGwTy+OOPY9WqVSgvL8ecOXMgCAI++eQTWK1WvP322wnbb1lZGSorK3H8+PG4r7FYOMrqMxsc8StLsdsN+g5HAGC1OxAMxO4FM5hMsNj0vVbnZXOm49CnDaipi77FVpTrQHFRsQZVqWfixInonnkKdTWNMdvHzZyi+5HA5imVKJ4+GR1Ha6PaxiycjelX6XuQxCVVU1Cz/yg6d7ii2oryclBeeWGzSaSi8lw7ajpjP05S7DTxM4rOW8oFwNmzZ+P48eN4/vnncfToUSiKgq9+9au49dZbYUvggvPd3d1oampCWVlZwvaR8YxWIOyPfhZQNAFG/QdAmzMLkhSB1z38w8dgMiE3v0CjqtR12dwZAID6upah28HjSnMx//IZmD2zUrvCVDJ/5RJ4PT4c3/cpXF0Dz/jmFGZjytxLMH/lEo2ru3iz582D6RYPav/2IU7u/hgAIOTkYcZVVSj/u2UaV6eOWUuqIIVlHD/eMHQ7eNy4Qly26NK0mApmQkk2/JKEU70BDF5JBQCFdhOmlWRrWRrpjKCk0KK74XAY06ZNw+uvv46ZMy/uP6rH40Ft7cC33Llz5+LRRx/FsmXLkJ+fj/z8fNx///24+eabUVZWhvr6enzve99DY2Mjjhw5AqfTeV77cLvdyMnJgcvlQnY2/+OdNzlypidQNAE6v612rnAghIDfD0WRYTKZ0mL6l3Pt2X8UQV8YRqOAirH5KBszRuuSVHV470EEugd6WawFWZg5b7bGFamroaEB3sONkGUPjFkO3ff8xXLkwBH0dflhtghwlOVi+sQJWpekKrcniLb+gUel8hxWFPHe7wXh53eKBUAAGDt2LN59913MmDHjov6e6upqLFsW/Y12zZo1WL9+PW688Ubs27cPfX19KCsrw7Jly/DjH//4ggZ28AQiIiLSH35+p2AA/OlPf4qjR4/id7/7HYzGlLtDPQxPICIiIv3h53cKPgO4c+dObN68GZs2bcLs2bPhcAwflfbKK69oVBkRERFReki5AJibmxt36TYiIiIiungpFwDPXpuXiIiIiNSXMgFQlmU88sgj2LBhA8LhMFasWIEf/vCHsFr1PXcaDSfLMnwhGSFJhigCZqMIuzllTkNV1DW3oLOtC5IkwZntQGlJEYoK0med6X21R9HW1IXeNjecNhtKx+Zj/vw5WpelmtraWvjqGtDf2gkAcJYVwT6hEpMnT9a4MvUc3bwZONmESL8bhvHlwPjxmD5vntZlqWbvkaNwNfShva1nYM33CQVYtPBSrctSVWdvP7z+IOSIgiyHBXlOG0wmk9ZlkY6kzCfvz372M3z/+9/H8uXLYbPZ8Oijj6Krqwu//e1vtS6NVCJJMnp8oTOLwslAUJLhC0nIt5shpsF0MLv3HkTdqbYzx9jZjebWDkyfNgkTyvU/VcqefZ/i3bd2Y/+xE0PbJpYXoKvTjVXX6X+evObmZrRs2oz9722Hv2tg3WNbYQHmXLMIVqsV5eXlGld48Y7+8U9oefVNdB07Mxl0+cLLcfRWL6Yv0f97uH3HJ9izZS+q955ZqamiIAs9Tb34wpf1P9dhOBxGXWsPAmet+eYJSOh2+TG+JA82u/7nVKXkSJlP3GeeeQZPPPEENm3ahNdeew0bNmzAc889hxQbpEwXwR2QYq4IHJEBbygSo0Vfak/UDw9/p7l9AZw8Ua9FSapqaGjAR+8fGBb+AOBkczc+/GgPdu/er1Fl6mn5cAd2/Pn1ofAHAP6ubuz48+to+XCHhpWp4+jmzVHhDwCad3yMvldfR0NDg0aVqefYx7XDwh8ANHV78O7mvfho6x6NqlJPV59vWPgbFJZktPZEr4BCFE/KBMCGhgZ88YtfHPr985//PBRFQUtL9LJTpD+SJCMsx1+l3J8GAbCjsydmwAWAbrcXdc36PpcbG1042nAsZtvJ5m40NbcnuSJ1NTQ0oP1ATdz29gM1+g9ItXVR4W9Q6/7D8Nfr+/i27/gEnxyKfQxN3R401un7HAWAvtOTP8fi8Uvw+0JJrIb0LGUCYCgUGrbUmyAIMJvNCAZjr61K+hI/+g1QMPB8oJ75Q/HPVQVAJKjvC3NA8qG3J85azgACgfhteuBva4O3pzduu7enF/62tiRWpL6I1xe3LdzdDdHTn8Rq1KcEI2jqjr1OLgB4fPo+vnA4DCky8nVS4l0zOk8p8wwgAPzgBz+A3W4f+j0UCuEnP/kJcnJyhrY9+uijWpRGF8k4ylcNAdD9M4BOuwNdrtgfPmaDCJvNHrNNL6xGOwryC9Dd0x2zPS/n/JZQTFXGggI4SgqBI7F7AR0lhTAW6HtNZ0NZcdy2rMpSyFn6fg+deWZMqyxETUNXzPaCvMIkV6Quk8kEo1FEWIodAgUAVrO+r6OUPCkTAJcuXYqamuEX3iuvvBInT54c+l0QhGSXRSoRRREWo4hgnAtXOowELiotxKmOToRifEPPy3Zi7Jj4H756sGRJFWqOH8d770cHwClTx6K41BHjT+nH5MmT4Z47G0eqP4zZPnbubP2PBJ42FWPmXYKWvZ9GNY259HLdrwk8u2o2Dk2tixkAp1UWonSCvgM8ABTk2NDW7Y3Z5nSYOBKYzlvKfOpWV1drXQIlWLbViD6fFPUsoNUoIsuaMqfiZzahfAz8Ph+O1TchGBy4HSoAKM7LwSUzdB4cTrvs8qkAgH2HDg3dDl4wZzIuu3wuLptXpWVpqph3wxfgd/Xj+Ec70XF04Fm54umTMeXKKzDvhi9oXN3Fmz5vHo6u+X8w5W5Aw3sDg1pMBQWYsHgRrDdfr3F16ph11XSElAg+2Xdy6HbwwhmlmHv1vLSYCqY4PxvBcAS97uHPAmbZjBhblBPnTxFFS7m1gAeFQiHU1dVh0qRJKbsmMNcS/GxCkoygNDDow2Y0wDja/WGd6ezuQVdPL+RIBPasrLSY/uVcH3xwAAHJB6fNjLKyAlRWVmpdkqoO7d0LpbUVACCUlWFWGs2RBwwMeAkeOgQAkLOcuu/5i2XPxwfh7QpAdIiwFzowb8Z0rUtSld8XgsvrBwA47FY4HRaNK9IXfn6nYAD0+Xy488478eyzzwIAjh07hokTJ+Jb3/oWxowZg3vuuUfjCs/gCURERKQ//PxOoVHAg+69917s378f1dXVw1YBWbFiBV566SUNKyMiIiJKDyl3b3XDhg146aWXsHDhwmGDPmbOnIkTJ06M8CeJiIiI6HykXA9gZ2cnioujR0t6vV6OAiYiIiJSQcoFwPnz5+ONN94Y+n0w9D311FNYtGiRVmURERERpY2UuwX88MMPY+XKlTh8+DAkScKvfvUrfPrpp9i+fTu2bt2qdXl0kWRZhi8kIyTJEEXAbBTTYg7Asx04Uo/GljYEgwEU5OVhXHk+JlZUaF2Wag7t3QtfSwdcrR2w5ziRXTAWs5cv0Los1dTW1kI6cADoPD2XXFEhjFVV+p8D8Cw1mzdDOHECsscLcfw4KOMnYFoajXTeXXMM3Y396GrvgMVixbjKQlyxYLbWZRGllJT75L3yyivx4Ycf4pe//CUmTZqETZs2Yd68edi+fTtmz+Z/YD2TJBk9vtCZ9XJlICjJ8IUk5NvNul8JBADe2rITew/Vwje0tnEjyssK8bm5EVTNGK9laao48sFe7H/zDRz++OjQtopp5fD0dGLRl/U/T15zczOkl15C85vvQuoeCIDGgkKUX7cCzWvWoLy8XOMKL96xP/4RnX/+P7iP1Q1tK79iHmr+eS2mLVmiYWXq2LnrILa+fwi7DjQNbSvMy0ZLcx9uWq3/4yNSS8oFQACYPXv20DQwlD7cAQmx5hyKyIA3FIHTqu8AuO9g7Tnhb0Bzaxf2Wo7qPgA2NDTg063Vw8IfADTVNAN4H1n5RbrvCfS8+Sbq//dPw7ZJ3V2o/98/YXxREfBv/6ZRZeqo2bw5KvwBQPPOvRiXm4OGceN0P6fjvn21w8IfAHT1uvH21k9RUJSNpUvmaFQZUWpJuU/ca665Bg888EDU9t7eXlxzzTUaVERqkCQ5agWQs/nPCU16dLKpOSr8DTrV0o0DR+qTW5DKehoaceLT2phtTTXN6GltTHJF6mpoaIB89GjcdvnoUTQ0NCSxIvUptSeiwt+glj37EKivT25BKtu56yA+Odwes62r143GhpYkV0SUulIuAFZXV+M3v/kNbrzxRni9Z9Y7DIVCfAZQx+JHvwEKBp4P1LN+fzBumy8UQUSSkliN+mSPH+4uV9z2kN+XxGrU529rg78v/vH5+1zwt7UlsaIE8MZeQxYApK4+GDz9SSxGfcGgjK5ed9z2Pl8oidUQpbaUC4AA8O6776KtrQ0LFy5Evc6/kdKA0VZ7EwDdPwNYmBt/HU673QKTRd+LtItZNhQVFsZtz8otSGI16jMWFMA6wntozc2BsUDfxyiWlcZtc0yuRCTLmcRq1JedI2LS2PirOpTkZeaKD0SxpOQnbllZGbZu3YqqqirMnz8f1dXVWpdEF0kURVhGSIHpMBJ43JhS2O2x1+OcNLYIs6bq+9mquUuXYNL8aTHbJk+fBMeksiRXpK7JkyfDsHhx3HbD4sW6HwmsTJuKkitij/YtqarCtKuuSnJF6rq0ajamT4k94n7S2GyMq4z/BYYo06Tcp+7gvH8WiwUvvPACHnzwQaxcuRLf/e53Na6MLla21Yg+nxT1LKDVKCLLmnKn4gWrmjEeHl8/dh84jo4eDwDAbjZgUmUZFl4WOzjpzaQVA6MoD+8+NHQ7+NLPzcHkaxahKg2mEZm+ejXQ2YWuN9+Cp2bgecesaZNReN2qgTadmzbvMtSsuQ223BzUv70FAGAszMW4pUsgfPnvNa5OHXOXToekSNhzoHXodvCcKWW4auksTgVDdBZBUZRYAzM1I4oi2trahq0G8vLLL2PNmjXw+/2IRFJnsAAXk/5sQpKMoDTwPtqMBhhHuz+sMyebmtDe4UZEkpGXk41Lpuu75y+Wfe9/ANnjhznLjuzKCt2PHD3X0b17Iba2AgDksjJMT4Nwe7aGhgaEDh2CAAWRLKfue/5i2b3nCHp7gnA6BBgLbJg/barWJVEK4ed3CgbAhoYGVFRURD0PdujQIezZswdr1qzRqLJoPIGIiIj0h5/fKRgA9YQnEBERkf7w8ztFngFcvXo1nnnmGWRnZ2P1KM/ZvPLKK0mqioiIiCg9pUQAzMnJGRr8kZMTfxoGIiIiIrp4KXcL2O/3Q5ZlOBwOAEB9fT02bNiAGTNm4POf/7zG1Q3HLmQiIiL94ed3ivQAnu2GG27A6tWr8Y1vfAN9fX1YuHAhTCYTurq68Oijj+L222/XusSEisgKwhEZigIIAmAyiDCIgtZlqSYYDKKnxwVXvxcmkwEOhw2lxUVal6WqPXsPoLapA75gCMUl2SgpceLy6emz/uine/fCf6oDvR3tsObkIDcvD7OXp88o0traWoQPHEKkqxsAYCgsgKlqlu7nADzb4c3bEGhuR9DjQtaYMhgrSzAjjUY61zQ0oa7ehY5eD2wWI6aMLcSlVeO1LosopaRcANy7dy8ee+wxAMBf/vIXlJSUYN++fXj55Zfxwx/+MK0DYEiSEYqcNUeeAkhyBCaDAIvRoF1hKvF4fDhR14hgODy0rbvXhe6uPkyeNA4WS+xJlPXk5dc2Y/NHu9Dd3Tu0bcHcmRB8Ai6bV6VhZeo4/MFH2LdxC459vGdoW9nkifC43Fi0+noNK1NHc3MzfP/3ClreehuR7i4AgKGgEGNWfR7N/+8WlJeXa1zhxdv30gYcensrmmqbhrZdctlMwBvCjCULNaxMHZ8cqMe7Ow6ipu3MsnbbDxxHXVsPbro2fUIu0cVKuQnYfD4fnM6B5Yg2bdqE1atXQxRFLFy4UPcLsY9ElpXh4e8s4YiCiJxSd+o/k+aWjmHhb5A3EEBHR48GFalr6we7osIfAOzadxg7Dx3TqCr1NDQ04NMt24eFPwBorT2JTzZvxcHN+l+r2/XW22h6/oWh8AcAke4uND3/Alxvva1hZeo4vHlbVPgDgE/3HEb9W9VpcY396OCJYeEPAPqDCj7YV4Nt+2s1qooo9aRcAJw8eTI2bNiApqYmvP3227j22msBAB0dHWl9n/7c1TGi2uOEQ73weHzoH2Gh+Z4+VxKrSYyTrV1R4W/QoU+PY8/eA0muSF2uxibUHv00Zltr7Ul0d7QnuSJ1NTQ0IFxTE7c9XFOj+4DkaWiOCn+Djh85Am9DY5IrUtcnB+pR29wRs60/qOBkXVfMNqJMlHIB8Ic//CHuvvtujB8/HldccQUWLVoEYKA3cO7cuRpXlzipNRRHfWEpgpEOUYpEEAwGk1ZPIvgD8UNsd3cvPN5AEqtRX8QbgL+7L2572OdPYjXq87e1wedyx233udzwt7UlsSL1Rfy+uG2ebi8UjzeJ1ajPo0joD8a/0nj79X18RGpKuWcA//7v/x6LFy9Ga2sr5sw58+D88uXLcdNNN2lYWWKJggCMEJEEnY8DsdvMMIgiInF6Oo0Gg+6fASzIK3BRkgAAIABJREFUiT+YZeK4IuTk2JJYjfoMDiuKigrR2Rm7FyUrLz/JFanLWFAAR04OYvfhAo6cHBgLCpJak9qshfHfozGlhRCyHEmsRn1O0YISmw3t/thfRgoLOc0Y0aCU6wEEgNLSUsydO3fYcnALFizA9OnTNawqsUwGASNlPJOYkm/VebNYLMjNccZtLx7hg0kvJlcUY+K42CFw8uSZuLRK3wvRVy1ZjMoFsXvhx02fBvv4sUmuSF2TJ0+G6cpFcdtNVy7S/Uhgy5RxmHLJ+JhtEy+fiZlLlyS3IJXNmV2BiRNj/x8ssdkwZWxhkisiSl0p1wOYqQRBgNVkQCAcfavUahQhpsFUMOVjShAOy3Cf9SygAKAoPxdlZcXaFaaSy+ZVweP1oHr7IRw+NvCweUFBHi6bU4W5l4/TuDp1TLh6MQDg0x27h24Hz1y4ADNXLEZVGkwjMnP1jZC7utGx8W34Tz8PaJs2DcUrP4+Zq2/UuLqLN3PePOAfvXC8Xo1PduwHAGQVOHDpostQuHKZxtWpY/EVEyBFFBytax66HVxZkoWrLp3IqWCIzpJyE0HrSSImklQUBZKsQFYUCBAGegb1fv/3HL19/fB4PACAvNwcZGXZNa5IXR8f3Y9QXwh9wQjG5mZjzpyZWpekugMfbEPEG4BgMyBv/ERUVlZqXZKqjuzdC6F1YFCLUpZec+QBAwNefEfrIUf8ELIcuu/5i+Xg4Ua093ngMAjIL83CtMoKrUuiFMKJoBkALwpPICIiIv3h53eKPgNIRERERInDAEhERESUYRgAiYiIiDIMAyARERFRhuE0MJRUoVAI3X1+uLwBGA2A02FFSUF6Tc66vXo3XG0tCAY8yC4thDMvF5dfcYXWZanmwN69cLf0wN3RCVuuA/k5eZizPH1GkdbW1kI6cAAYnPC6qBDGqirdzwF4ti2bD6LT44Hb50VhaQHG5SiYl0YjnUOhCPpDEoJhGQYRcJgNyLKZtS6LKKUwAFLSeD1B1J7qRFA6sxpIT38QXb0+TBlXALNZ/xfozX95De+9U42urjOrZSxaeBnCfhGLrp6vYWXqOPjBTux+9z2c+mjH0LbCadPQ6/bh6ps+r2Fl6mhubob00kvoevMtoLt7YGNBAQqvW4XmNWtQXl6ubYEqePnNndi8/RBqTp45R6+YNR5+rw2fWzJDw8rU4fGH0OEJDdvmDUXgDUVQovPVeIjUxFvAlDRNnX3Dwt8gbzCM9m79r9G5c+v7UeEPALbv2IOmQ59oVJV6GhoasL9657DwBwBdNTU4vHkz9m/+QKPK1ON58010/e/zZ8IfAHR3o+t/n4fnzTe1K0wlWzYfjAp/ALDzUD22fHIUDQ0NGlWmnm5vKOZ2bygClz92G1EmYgCkpPB6gvD4gnHbe9z6D4BtdU1R4W/Q/oOHsb16d5IrUldnYwvqD8cOsl01Nejs6I7ZphcNDQ3A0aPxX3BU/wGp1e2KCn+DDtTW4kSjJ8kVqcvjDyEywsy23kAkecUQpTgGQEqKsKIguu/vDCkiIxTS97dzny9+iO3q6oIoxF6gXi8kfwhyV/yQF/Lr+/j8bW3w9rnitnv7XPC3tSWxIvX5AoG4bd1dMnySvgPSaNVHlP/f3r1H1VUeaAN/zpXLAQ5wDtdwDSEQuSQBAoWQe0xFJ99orFOdiWaacX11fXYax9VOa51Z1Y6aabqma2bUsaZ1YpzqSseqUdtqjLmRGEO4hEhIQsIlB0gg5BCu58C57u+PFAThoCabvTlnP7+1WEv2S5LnyGU/7P3u953ppxCRsrAAkiRCg9TQzLCjnVaj9vs5gFHRcT7HMtOTERYVJWEa8WlD9AhPTPc5HhoVLWEa8WlNJhgifT+QZIg0QmsySZhIfFHGcJ9j88xRCNVqJEwjPr1m5vx6DU95RGP43UCS0Ov1MIYF+xyPjfJ9YvIXxvhEZKZPv99o5sKFyMnPkziRuIpWlCK5aPrXEJdXiPDUGIkTiWvBggVAebnvDygv9/sngZPjdcjLjp92rCA3CWtX5EicSFwheg30M/ymadD7d8ElEhOfAibJpMRHwu3pw+CEuYBqAKbIECTE+v9SMKWrl0EFOwyHjqL+TBMAwGw2o7hwMdKK8mVOJ47MVcUAgPPHPxm/HZxavg45a5ehMACWEcnetAnnr1lh/dOfgKYbn0NkZcF8553I3rRJ3nAiKC4owLAtCJHhTThafREAYDKrUZabg/KS6X958TexYcHoGR6F8wuTAaNC9FwKhmgClSAIM0yZpZlwM+mb0z80iiHbjfli0WGhMIQFyZxIXDVVVVC5PbAND8NgiEFh+VK5I4mu5uincI84AZUaCQtTkJqaKnckUZ2vq4O6qwsA4E1IQHYAlNuJLBYLmruGMDLiRahW4/dX/qYzPOKEwyNADRUMeg30vPpHE/D8zQJ4S/gFRERE5H94/uYcQCIiIiLFYQEkIiIiUhgWQCIiIiKFYQEkIiIiUpiAXQamsrISv/jFL1BbW4uuri688847uPvuu8fHBUHA008/jZ07d6Kvrw8lJSV48cUXkZMTeE/DzSWjo6Pouj6E60N26LRqRIWFIDnOLHcsUR2vq0JX52U4bDbExsfAGBqFZSUlcscSzdm6Ojg6rLhm7UZIaCQiY8ORt26N3LFE09zcjN5zl8Z3BTFEGmFalOb3awBOdPhUKzov98JudyLRHI55CyKxNCVF7lhEJKGALYA2mw2LFy/Gd77zHdx7771Txnfs2IFf/vKXePXVV7Fw4UI888wzuP3229HU1ITwcP9flHguGhiyo6HtMuxO9/ix7r5hXOkdxOL5iQgO9r1QtL94/713sK/yALp7P99vdfWSErh0QFmB/5fAs0c/Qf2HR3D50xPjx0wLszE4aMPye/5CxmTi6OzsxMUPP8G5jyvhsV4HAGjM0Vi0fiWC7w5GUlKSzAlv3Z79ddh3rBnN1r7xYyUZ0Ri53YuyvDT5ghGRpAK2AFZUVKCiomLaMUEQ8O///u948sknsenPi7vu3r0bcXFxeOONN/Dd735XyqiK0dJ1bVL5GzNgd8BybQBZyf5dAD+prJxS/gDgcH0Vgo1Bfl8ALRYLmg7UTCp/ANB74TyaAEREGPz+SmDL4Wqc2bN30jGP9TrO7NmL0MgIJG327wJ4+FTrlPIHAFUt1xGqO415EaqAW9ORiKanyDmAbW1t6O7uxoYNG8aPBQUFYdWqVTh+/LjPP+dwODA4ODjpjb6agSE7+obsPsev9vn//0vLZcuU8jem/sxZHK+rkjiRuIbaO9DaeHrasd4L53H9aq/EicRlsVjQdfGSz/Gui5dgsVikCzQLOjp6p5S/MacvdaPFOipxIiKSiyILYHd3NwAgLi5u0vG4uLjxsels374dRqNx/C05OTC2TpKCw+2Fd4Ylx91uN0ZH/fvkM2y3+Rzr7rVCGHb4HPcHbpsdXh8FFwAcI74Lvj8Y7O6Gc6Df57hzoB+DM/x88Acjo06fY9dHAcfQ1Cv0RBSYFFkAx6hUkzcNFwRhyrGJnnjiCQwMDIy/dXR0zHbEgBERooVmhq82vVbr93MATTGxPseyktNgjIySMI34tIZQRCXO8zluiI6WMI34QkwmhBgjfY8bIxFiMkmYSHwRUSE+x1KNQQgKD9hZQUT0BYosgPHx8QAw5WpfT0/PlKuCEwUFBSEiImLSG301wcHBiDH6frhmntn3iddfJCTNQ1Zy2rRj2ZkLkZufJ20gkeWuKEdcyZJpx2JzFyMkNVHiROJasGABkop8f46SivL8/kngTJMRBSnT/yKyNDMFawuzJE5ERHJR5K976enpiI+Px/79+7F06VIAgNPpxJEjR/Dzn/9c5nSBK3OeGS6PB72DdozdDdaogITocKQnxsiaTQxlBSVwD9thPH4UJ5vOAgDiTWaULC5AXs70xcnfpK0qAwBcqKwavx2csXwNFm5YhtyCAjmjiaJ043qM9A+g7WAVrl+8CACIzsxE+toSlG5cL3O6W1dYkIEBwY3wY2dx5EIPACA6GFiZm4nVhekypyMiKQVsARweHkZzc/P4+21tbaivr0d0dDRSUlLw2GOP4bnnnkNmZiYyMzPx3HPPITQ0FH/9138tY+rAFhwcjIKFqejpG0b/8I35cnGR4TCGh8qcTDwrV65BSFAoVq5aC7vLjohIE4ryC+WOJZq8/Dzk5efhzJIcuG12qKGDcdH8gHpydO2D96IuJx0u640Hk3TmCBQEQLkds7YwCxnmYKy8MgyPAwgK1/LKH5ECqQRBmGFqvv86fPgw1qyZuiTFli1b8Oqrr44vBP3yyy9PWgg6Nzf3K/8bg4ODMBqNGBgY4O1gIiIiP8HzdwAXQCnwC4iIiMj/8Pyt0IdAiIiIiJSMBZCIiIhIYVgAiYiIiBQmYJ8Cprmpv78fZ7sG0NU3giC9GvMiI7B0QbzcsUR1uOo0uvquYcThgjkyHHHBOpSU+Pc+wBM11NVh4PJ1DPVcQ0hYOEzmCOStWyl3LNE0Nzej7cogBq/e2BUkIi4S6YkRfr8G4ETWITv6bS64vYBBr4UpVI/QUJ3csYhIQiyAJJnOnuv4qLEdnb2fbxlWByvOdVlxZ14SIiP9fzHotz48gnc/qUGH9fMt01bn3YYRBGN1yWIZk4nj3NETOPXBYXR+UjN+LDwrC30DI1i56ZsyJhNHZ2cnjh47j2Mn62G1ugAAZrMO5cVLEBwcjKSkJJkT3rq2a4O4Nvz5lnCDDheuDo0gzRwKcwAtyUREM+MtYJJMVUvPpPI3pvnqIE5fnn6Den9y+NiJKeUPAA43nMXp1laZUonHYrGg/uOaSeUPAIaamnD6w0o0HKiUKZl46mpbsPdP1ePlDwCsVhf2/qkadbUtMiYTh3XIPqn8jfEC6OgdhcvlmvqHiCggsQCSJDp6rsPSO+Bz/GKX7zF/0drbN6X8jak924rDVaclTiSuXks72hoaph0bamrC1Z5+iROJy2Kx4FzLZZ/j51ouw2KxSJhIfP023wXPJXhx3c4CSKQULIAkCbvTC7fH43PcNupGf79/F4jeQd/5O6xWwDUiYRrxueweoLd3hnGbhGnEd7W7G0P9wz7Hh/qHcfUL+4f7G7d35nGnm8vCEikFCyBJIi5MiyCN3ud4uEHr93MAk2J872ecnRiLsAiDhGnEpwvVIDQlxee4ISpawjTiizaZEBHte0HYiOgIRJtMEiYSX5BONeO4XjvzOBEFDhZAkkRkZCQWxvs+uWbHR0mYZnYkRMUgOzF22rEli7JQlJ8ncSJxFaxcgZRl07+GmKVLEJbmuwD7gwULFiA/d77P8fzc+X7/JHC0IQS+Kp5erUackQ+BECkFnwImyZQuiIXd5UVLz3WM/nmqUViwBnkpZpQtSpU3nAhWlyzGkGsYptqL+OR8EwAg2WzG8sWLsGx+YCx1k7m6CABw/vCJ8dvBKatX4bZ1S1BQUCBnNFHcsb4Ytr5hVNU3ounijfmcWZlmlCzJwR3ri2VOd+uMoTqkRIei47odE+8G69VqpMeEy5aLiKTHvYBvAfcSvDkXLlvRM3hjrlWaKQJJsf596/CLqqqqMAAVXB4BkUFhWF6YI3ck0dVVHr0xJ1CtQ3xWElJT/b/AT1RdV4f+6zd+NEZGq7AsAMrtRC6XC9YhF9yCAL1WxSt/pDg8f7MA3hJ+AREREfkfnr85B5CIiIhIcVgAiYiIiBSGBZCIiIhIYVgAiYiIiBSGy8DMMR6vAJfHC0EAVCpAp1FDow6cxVktFgvOXOnHpWudCNUHY158LDYs8e/18b6o5vhB9HdY4bTbEZEYj5DIKBSWlMgdSzT1dXXovWZDT88gDBGhSArTo2Ddcrljiaa5uRnnrtjRb3UAACLNQViUGOr3awAqiVfwwu11wyN4oIIKWrUWWjVPd0QT8TtiDnG6vXB6JqzOJQBurwc6jQpBWo18wURS196MD0804E/VTePHogxAY2s7NhXmBsRSIofe3ouj+z6AdcKewEWl5RA8NhSVrZUxmTg+O1qNfcfq0FTz+b7GiVnzcdXuQsXG1fIFE0lnZyf2He/CvtMN47vemUzANxfnITg4GElJSfIGpC/l9rrh8DgmHfN4PHB73QjWBsuUimju4S3gOcLrFSaXvwlcHgEer/+v1lNzpm1S+QOAPhvw1vEG1HZYffwp/1FdeXRK+QOAmk+P4VLdOZlSicdiseBQ7dlJ5Q8ArjS14pNPa1B34BOZkonnaHUX3jjYMGnL495e4I2DDTha3SVfMPrKnB7ntMc9ggcur0viNERzFwvgHOHyzrxLu8tHOfQXVW0XUNNyyef4Z5cs0oWZJddaWqaUvzFnGz5DzfGDEicS15X2LjSfuzj9WFMrLvXbJU4kLovFgjOWTp/jZyydsFj8/+s0kLm9bgjw/cuy2+uWMA3R3MYCOEcE+nLcqr4ROGwen+P9/Ta/P7kOjYz6HLNarRDcOgnTiM/hFGCzXvc9bp/+you/uOpyYcDu+wrRgN2Fqy5eQZrLZip/AMB9D4g+xwI4R6hVMz/o8SXDc16cKRJRYQaf47ExYX4/B9Bk8r2lXdr8TIRERkqYRnxBehXMMWaf45GRvj+//iAaQLQhyPe4IQiBtWlh4FF/ySlNreIpj2gMvxvmCJ1GhZk6nk7t35+q1NRUFGWlTDsWZQAWp8yXOJH4IpPNSJufOe3YgqyFyM3376edS1d8AwsWL552LD07C6Z5/r2d0oIFC1Ccl+5zvDgvnU8Cz3EatQYz/STlk8BEn+N3wxyhUqkQrNNg1OWZchMjWKuGOgCWglmxMA12lxOffNaCFms/AOC2VBPW5i/CXaXTFwt/UlS2Fh6nCmFHDDjzWT0AwGw2Y8myEqQVLJE5nTiKli8EADTUnxq/HZxbtgylxYtQXFAgZzRR/MXafPT1O3DwVBsu/PnBpIXJZqxdmo6/WJsvczr6KoK1wRh1j065HaxX61kAiSZQCZwUcdNmYzNpQRDg9grwCgJUUN24Mujv93+/4GRDA7qGb8wHTJ4XhoKUwLqqUltVBbhdcA3bEBplQH5xudyRRPfp0RNwOAXoQtVISoz3+9v3X1Rbdw5X+288eBUXqUZhwSKZE9HX5fa64RW8UEEFjVrD2780yWycv/0NC+At4BcQERGR/+H5m3MAiYiIiBSHBZCIiIhIYVgAiYiIiBSGBZCIiIhIYfhMPEnKYrGg8XIHrF3dCA4KQtw8E1YtLZM7lqgOHahF93A/7CMumOLDkRCiRUlJidyxRFNXV4f2oVFYuwdhDA5DjMmI1eX+vcbhRE6nE9YBO4ZHb+xsEhash9kYCr1eL3MyIiLxsACSZOqb63D8+Bm8c6J6/JjZEILmlstYv6w4IJYS+f27R7H3aC16rNfGj60syIF9WIs16wplTCaOT06cwweHz6C68fM9gbPSY9E3PIh77lguYzJxOJ1OnO/shW3k820LewedsA6NIDvJxBJIRAGDt4BJMufPd04qfwBgtY1gz8FKnG1ulimVeA4dPTGl/AFAZV0jTrd3yJRKPBaLBUdqTk0qfwDQ1NaDQ8frcPhYg0zJxHPp6sCk8jfGNuLBpasDMiQiIpodLIAkieoLVai/2ORz/ELbJenCzJLWy/1Tyt+YmsZLOHSgVuJE4mpt70Fji2Xasaa2HlzptUqcSFxOpxP9ww6f4/3DDjidTgkTERHNHhZAkoRmWIfhfrvP8T6bHRbL9OXCX/SN+L5C1GO9BuhdEqYRn80LWK2+P4f2Ud/lyR+4XAK8Xt/jXu+NjyEiCgQsgCQJk8kEc3S0z/HYKKPfzwGcF232OZaZEoMwo0HCNOIzqIF4s8nnuMkYLmEa8el0KgRpfW+7GKRVQacLrG0ZiUi5WABJEqmpqcjNSp92zGwIQdqC+RInEl98WCQyU2KmHcvPzMKyfP9+UnbNimVYmjv95yknKx3zYkMkTiQuvV6P6BlKerTRwIdAiChg8ClgksyyRXlwu704Vn0KTdduzBcrzExBeX4B7iwrlzndrVuzrhBOvQOfHGvFiaZzAIBYcwxWLM7Cspw4mdOJo3zZjRJffaZx/Hbw8qJFWFGQieKCAjmjiSI1PhIOlxO9g5Pn+pki9EiNj5QpFRGR+FSCIHBSy03iZtI359RnDbD29wEAYhLDsGSB/xeHiaqqqjAsqDHiEBCpDkH5Cv++8jedQ0erYfMC4UFapCVE+/3t+y/qHxrFoG0UABBhCEZkeLDMiYhITDx/swDeEn4BERER+R+evzkHkIiIiEhxWACJiIiIFIYFkIiIiEhhWACJiIiIFIbLwJCkLBYLant60HLNitAgHTLjorAht1DuWKI6fuA4rvX1YnTUBlO8CRHhESguKZE7lmjqOjthaRlEa58NUaE6pMZFYd3iwHoKmPyb1yvA5fXC6wVUKkCrVkGr4fUOoolYAEkydWfq8M55C/63+tT4MVNIEE5ZunF/bm5ALCXyp71/xP79B3HN+vm+uKWlxXAPe1C2rkzGZOI42tiO146cQnVL//ixDFMkLl8fxENrAm+5G/I/bo8Xo+4Je/oJgNsrQOsVEKzTyBeMaI7hr0QkmePdvZPKHwD0jjjw35VVqGvvlCmVeI4ePTal/AHAp5+exPkL52VKJR6LxYL3PmmcVP4AoKW3H+9+2ooDp/17L2cKDA739Bs6u70CXJ4ZNnsmUhgWQJJE1ekq1LZe8jlec6lLujCz5Iqlc0r5G9NwphHHDxyXOJG4mvodqGnvmXaspbcf56/0SZyIaDK3x4uZFrZ1e7jsLdEYFkCShMqjQ2+/w+f4FdcoLBb/voI0bB/xOXbNaoVH799XHxxDAvp8v0SMOlzShSGaxpfVO+FLP4JIOVgASRJxJhNMZt97qSZFGPx+DqA52uxzLCMjDUajUcI04gsKVyElWu9zPMbI7dJIXmqV6pbGiZSEBZAkkZqaivKM5GnHTCFBWJqaJHEi8cVEmZCRkTbtWPaCBcjP9++HJDYsXojFaSnTji1NiUS2UZnbKdHcoVGroJ6h42lnGiRSGD4FTJJZn5aGkdtX4KO6JjT13phLVpaRjDXZt2HTsmUyp7t1ZevK4NF7EHrkUzQ0NAIAYsxmFBcuQfaSHJnTiWNj3o0Sf+xc8/jt4LUZsbhjeQaKuRQMzQHBWg1G3R54v3C3V69RcykYoglUgiBwUsRN4mbSN+dkQwOuDt9oD/PCtSjILZA5kbhOVlXBIwgYsQ0jQh+BohXFckcS3UenL8AxJECjA3Lig/3+9j0FHrfHC48gQAUVtGoV1Lz6RxPw/M0CeEv4BUREROR/eP7mHEAiIiIixWEBJCIiIlIYFkAiIiIihWEBJCIiIlIYxS4D89RTT+Hpp5+edCwuLg7d3d0yJVIGi8WC2h4r2q91IjRIj/lxcVgfYE8BHzzYgKuDV2EfdcEUH46EEB1KSkrkjiWaYZsTPcMODDlc0GuA6DA94oxhcsciIqKvQbEFEABycnLw8ccfj7+v0WhkTBP46urq8IeWC3izun78mClEi9OX2vGtvKUBsZTI7989hPcra3HN2jt+bGXRIthsoVi71r8XggaAqwPDuNhtg2fCsZ5hFwZG3FgY73unFyIimlsUXQC1Wi3i4+PljqEYVde7JpU/AOgdcePVyhNIjzT5fQE8cvT4lPIHAJU15xAabsBa+HcBdDqdaL02Mqn8jekacMAYMswrgUREfkLRcwAvXryIxMREpKen4/7770dra+uMH+9wODA4ODjpjb6aqqoqnGpp8TnecOmSdGFmSfPlgSnlb0xtQxsOHmyQOJG4rMNOOD1en+O9w04J0xAR0a1QbAEsKSnBa6+9hn379uHXv/41uru7UVZWht7e6U/gALB9+3YYjcbxt+Tk6fe2panUOh2uDzh8jl9x2GGxWCRMJL7B0X6fY9esvdDohiRMI75R98xrxrumuzRIRERzkmILYEVFBe69917k5eVh/fr1+OMf/wgA2L17t88/88QTT2BgYGD8raOjQ6q4fi/WZILJ5Hu19XkRRr+/BRwfGeNzLCstBmHGcAnTiC9YO/NWWiF6xf44ISLyO/yJ/WcGgwF5eXm4ePGiz48JCgpCRETEpDf6alJTU1GaMX/aMVOIFrlpmRInEl9cRByy0qYvgbctWITCfP+eA5gYHYZg7fQ/MtQAzGGh0gYiIqKbxgL4Zw6HA+fOnUNCQoLcUQLWmvSF+H8bViDLbBo/VpqRiP+7/nZsWlYoYzJxrF2bh/+z/hsozl44fizGbMI961eiMCdOxmTiyYwzTimBGhWQEWNAdJheplRERPR1qQRBmHliT4D6wQ9+gI0bNyIlJQU9PT145plncOTIETQ0NHzlW5HcTPrmVDc04KrNBgBI1OtRUBBY6wBWVVXBLajQPyrAqIlA+YpFckcS3ZXrwxh1C9CpVYiL0EOvZ/kjIv/B87eCl4Hp7OzEAw88AKvVipiYGHzjG9/AiRMn/H4emj9Ylufft0K/TCAt+uxLYjSXeyEi8meKLYB79uyROwIRERGRLDgHkIiIiEhhWACJiIiIFIYFkIiIiEhhFDsHkORhsVhQe20AzT2XERqkR2Z8LL6ZE1gPhbS0X8G1nutwu9yIjAhFTGwM4mKi5I5FREQ0jgWQJFNXV4d32trxv9Wnxo+ZQvQ4benEt3NuC4gnsKtqzqGt4wrGdsxt7+6FsfMashelIyMlUdZsREREY3gLmCTzaV/fpPIHAL0jTrxSeQK17Z0ypRLPhZaOSeVvzIB9FC0XuW0gERHNHSyAJImqqirUtLb5HK+95P8FsKend0r5G3N9cBgt7VckzUNEROQLCyBJQqXTobff7nP8itsFi8UiYSLxORwun2NeAB6XR7owREREM2ABJEnEmUwwmaN9jidFhPn9HEBDWIjPMb1aDUNIsIRpiIiIfGMBJEmkpqaifEHytGOmED2Wps6XOJH4YmKjoVdmI9B0AAAP1UlEQVRP/y0VHWXEvMQYiRMRERFNj08Bk2TWp6Rh9PaV2FfXiKbeXgBAWUYy1mRnY1NRvszpbl1GSiJG7Q40Nbdj1OUGcOM3rFhTFHIWpcsbjoiIaAIWQJJMamoqHk1NxbLYWHTbbswHTNLrUFBQIHMy8eRkp8NsisT1vn543W6EhBkwn8u/EBHRHMMCSJIrzgushZ+/KC4migs/ExHRnMY5gEREREQKwwJIREREpDAsgEREREQKwwJIREREpDB8CIQkZbFYcObaFXT3XEZQUAiS4mOwOqdY7liiEtxuCG43IAiARgOVVguVj/UBiYiI5MACSJI51VCHoxca8FZ19fgxU0gImiztuCNnmd/vBAIA3tFRCO4JW755vIDLBQQFQaXltxsREc0NvCxBkvmsp3NS+QOA3pERvFF5GI0dLTKlEo/gck0uf2PHBUBwOGRIREREND0WQJLEyfoqnGlt9jnedKlVwjSzQ3C7fY8JM48TERFJiQWQJKHxajHQP+hzvMc1AovFImGiWSAItzZOREQkERZAkoTZZIbJbPI5nhAR4f9zAL/sQQ8+CEJERHMEz0gkidTUVBRkLJh2zBQSgozUhRInEt9MD3mo1CqoNBoJ0xAREfnGAkiSKU69DVtv34Ask/nzYxnzsXntN3FXUamMycSh0mqh1uumHleroAoOliERERHR9LguBUkmNTUVW1JTkRubhl7bAAAgxmDA0rwCmZOJR6XXQ63VAm43BAAqtZrLvxAR0ZzDMxNJrjAvX+4Is0qlVgN6PVRyByEiIvKBt4CJiIiIFIYFkIiIiEhhWACJiIiIFIYFkIiIiEhh+BAIScrldMI6NIRBuwMajRrhIUGIi4qSOxYREZGisACSZOz2UVy82g3HhD1xr9uGYR0awsL4eOj0ehnTERERKQdvAZNkOq5fn1T+xtgcTnT3D8iQiIiISJlYAEkSdvsoBkfsPsd7h4clTENERKRsLIAkCZfXC2GGcbfHA5fTKVkeIiIiJWMBJEmE6rUzfrHptFrOASQiIpIICyBJQqfXI9IQ7nM8NsL3GBEREYmLBZAkk2qOgjEkdNIxFYCYiAgkmEzyhCIiIlIgLgNDktHp9chKSsTAsB2D9hsPhJjCwhAaGixzMiIiImVhASTJGcNCYQwL/fIPJCIiolnBW8BERERECsMCSERERKQwLIBERERECsMCSERERKQwLIBERERECsMCSERERKQwLIBERERECsMCSERERKQwLIBERERECsMCSERERKQw3AruFgiCAAAYHByUOQkRERF9VWPn7bHzuBKxAN6CoaEhAEBycrLMSYiIiOjrGhoagtFolDuGLFSCkuvvLfJ6vbhy5QrCw8OhUqlE/bsHBweRnJyMjo4OREREiPp3zwV8ff4v0F8jX5//C/TXyNd38wRBwNDQEBITE6FWK3M2HK8A3gK1Wo2kpKRZ/TciIiIC8ht7DF+f/wv018jX5/8C/TXy9d0cpV75G6PM2ktERESkYCyARERERAqjeeqpp56SOwRNT6PRYPXq1dBqA/NOPV+f/wv018jX5/8C/TXy9dHN4kMgRERERArDW8BERERECsMCSERERKQwLIBERERECsMCSERERKQwLIBz0H/9138hPT0dwcHBKCwsxNGjR+WOJJrKykps3LgRiYmJUKlU2Lt3r9yRRLV9+3YsW7YM4eHhiI2Nxd13342mpia5Y4nmpZdeQn5+/vjCrKWlpfjggw/kjjVrtm/fDpVKhccee0zuKKJ56qmnoFKpJr3Fx8fLHUtUly9fxubNm2EymRAaGoolS5agtrZW7liiSUtLm/I5VKlUePTRR+WOJgq3241/+qd/Qnp6OkJCQjB//nz87Gc/g9frlTtaQGEBnGN+97vf4bHHHsOTTz6JU6dOYcWKFaioqEB7e7vc0URhs9mwePFivPDCC3JHmRVHjhzBo48+ihMnTmD//v1wu93YsGEDbDab3NFEkZSUhH/9139FTU0NampqsHbtWvzlX/4lGhsb5Y4muurqauzcuRP5+flyRxFdTk4Ourq6xt8aGhrkjiSavr4+LF++HDqdDh988AHOnj2Lf/u3f0NkZKTc0URTXV096fO3f/9+AMB9990nczJx/PznP8evfvUrvPDCCzh37hx27NiBX/ziF3j++efljhZYBJpTiouLhUceeWTSsezsbOHHP/6xTIlmDwDhnXfekTvGrOrp6REACEeOHJE7yqyJiooSfvOb38gdQ1RDQ0NCZmamsH//fmHVqlXCtm3b5I4kmp/+9KfC4sWL5Y4xa370ox8J5eXlcseQ1LZt24SMjAzB6/XKHUUUd911l7B169ZJxzZt2iRs3rxZpkSBiVcA5xCn04na2lps2LBh0vENGzbg+PHjMqWiWzEwMAAAiI6OljmJ+DweD/bs2QObzYbS0lK544jq0UcfxV133YX169fLHWVWXLx4EYmJiUhPT8f999+P1tZWuSOJ5r333kNRURHuu+8+xMbGYunSpfj1r38td6xZ43Q68dvf/hZbt26FSqWSO44oysvLceDAAVy4cAEAcPr0aRw7dgx33nmnzMkCC5fWnkOsVis8Hg/i4uImHY+Li0N3d7dMqehmCYKAxx9/HOXl5cjNzZU7jmgaGhpQWlqK0dFRhIWF4Z133sFtt90mdyzR7NmzB7W1taipqZE7yqwoKSnBa6+9hoULF+Lq1at45plnUFZWhsbGRphMJrnj3bLW1la89NJLePzxx/GTn/wEJ0+exPe//30EBQXhoYcekjue6Pbu3Yv+/n787d/+rdxRRPOjH/0IAwMDyM7OhkajgcfjwbPPPosHHnhA7mgBhQVwDvrib3GCIATMb3ZK8r3vfQ+fffYZjh07JncUUWVlZaG+vh79/f146623sGXLFhw5ciQgSmBHRwe2bduGjz76CMHBwXLHmRUVFRXj/52Xl4fS0lJkZGRg9+7dePzxx2VMJg6v14uioiI899xzAIClS5eisbERL730UkAWwFdeeQUVFRVITEyUO4pofve73+G3v/0t3njjDeTk5KC+vh6PPfYYEhMTsWXLFrnjBQwWwDnEbDZDo9FMudrX09Mz5aogzW1///d/j/feew+VlZVISkqSO46o9Ho9FixYAAAoKipCdXU1/uM//gMvv/yyzMluXW1tLXp6elBYWDh+zOPxoLKyEi+88AIcDgc0Go2MCcVnMBiQl5eHixcvyh1FFAkJCVN+GVm0aBHeeustmRLNHovFgo8//hhvv/223FFE9cMf/hA//vGPcf/99wO48YuKxWLB9u3bWQBFxDmAc4her0dhYeH4E11j9u/fj7KyMplS0dchCAK+973v4e2338bBgweRnp4ud6RZJwgCHA6H3DFEsW7dOjQ0NKC+vn78raioCH/zN3+D+vr6gCt/AOBwOHDu3DkkJCTIHUUUy5cvn7L00oULF5CamipTotmza9cuxMbG4q677pI7iqjsdjvU6sn1RKPRcBkYkfEK4Bzz+OOP48EHH0RRURFKS0uxc+dOtLe345FHHpE7miiGh4fR3Nw8/n5bWxvq6+sRHR2NlJQUGZOJ49FHH8Ubb7yBd999F+Hh4eNXc41GI0JCQmROd+t+8pOfoKKiAsnJyRgaGsKePXtw+PBhfPjhh3JHE0V4ePiU+ZoGgwEmkylg5nH+4Ac/wMaNG5GSkoKenh4888wzGBwcDJgrK//wD/+AsrIyPPfcc/irv/ornDx5Ejt37sTOnTvljiYqr9eLXbt2YcuWLdBqA+tUvnHjRjz77LNISUlBTk4OTp06hV/+8pfYunWr3NECi7wPIdN0XnzxRSE1NVXQ6/VCQUFBQC0hcujQIQHAlLctW7bIHU0U0702AMKuXbvkjiaKrVu3jn9txsTECOvWrRM++ugjuWPNqkBbBubb3/62kJCQIOh0OiExMVHYtGmT0NjYKHcsUb3//vtCbm6uEBQUJGRnZws7d+6UO5Lo9u3bJwAQmpqa5I4iusHBQWHbtm1CSkqKEBwcLMyfP1948sknBYfDIXe0gKISBEGQp3oSERERkRw4B5CIiIhIYVgAiYiIiBSGBZCIiIhIYVgAiYiIiBSGBZCIiIhIYVgAiYiIiBSGBZCIiIhIYVgAiUgxVCoV9u7dO6v/xqVLl6BSqVBfXw8AOHz4MFQqFfr7+2f13yUi+jpYAImIJjh06BDWrFmD6OhohIaGIjMzE1u2bIHb7ZY7GhGRaFgAiYj+rLGxERUVFVi2bBkqKyvR0NCA559/HjqdjhvRE1FAYQEkooCxevVqfP/738c//uM/Ijo6GvHx8XjqqacmfUxXVxcqKioQEhKC9PR0vPnmm+Nj+/fvR0JCAnbs2IHc3FxkZGTgjjvuwG9+8xvo9XrYbDZERETg97///aS/8/3334fBYMDQ0JAUL5OI6JaxABJRQNm9ezcMBgOqqqqwY8cO/OxnP8P+/fvHx//5n/8Z9957L06fPo3NmzfjgQcewLlz5wAA8fHx6OrqQmVl5bR/t8FgwP33349du3ZNOr5r1y5861vfQnh4+Oy9MCIiEbEAElFAyc/Px09/+lNkZmbioYceQlFREQ4cODA+ft999+Hhhx/GwoUL8S//8i8oKirC888/Pz72wAMPYNWqVUhISMA999yDF154AYODg+N//uGHH8a+fftw5coVAIDVasUf/vAHbN26VdoXSkR0C1gAiSig5OfnT3o/ISEBPT094++XlpZOGi8tLR2/AqjRaLBr1y50dnZix44dSExMxLPPPoucnBx0dXUBAIqLi5GTk4PXXnsNAPA///M/SElJwcqVK2fzZRERiYoFkIgCik6nm/S+SqX60gc4VCrVpPfnzZuHBx98EC+++CLOnj2L0dFR/OpXvxoff/jhh8dvA+/atQvf+c53pvwdRERzGQsgESnKiRMnpryfnZ3t8+OjoqKQkJAAm802fmzz5s1ob2/Hf/7nf6KxsRFbtmyZtbxERLNBK3cAIiIpvfnmmygqKkJ5eTlef/11nDx5Eq+88goA4OWXX0Z9fT3uueceZGRkYHR0FK+99hoaGxvH5wkCN0rhpk2b8MMf/hAbNmxAUlKSXC+HiOim8AogESnK008/jT179iA/Px+7d+/G66+/jttuuw3Ajfl9w8PDeOSRR5CTk4NVq1bhxIkT2Lt3L1atWjXp7/m7v/s7OJ1OPvxBRH5JJQiCIHcIIiJ/8/rrr2Pbtm24cuUK9Hq93HGIiL4W3gImIvoa7HY72trasH37dnz3u99l+SMiv8RbwEREX8OOHTuwZMkSxMXF4YknnpA7DhHRTeEtYCIiIiKF4RVAIiIiIoVhASQiIiJSGBZAIiIiIoVhASQiIiJSGBZAIiIiIoVhASQiIiJSGBZAIiIiIoVhASQiIiJSGBZAIiIiIoX5/zOhCMlJU3BFAAAAAElFTkSuQmCC' width=640.0/>\n",
       "            </div>\n",
       "        "
      ],
      "text/plain": [
       "Canvas(toolbar=Toolbar(toolitems=[('Home', 'Reset original view', 'home', 'home'), ('Back', 'Back to previous …"
      ]
     },
     "metadata": {},
     "output_type": "display_data"
    }
   ],
   "source": [
    "%matplotlib ipympl\n",
    "\n",
    "plt.figure(\"scatter plot view\")\n",
    "sns.scatterplot(data=dfDicoBuch, x=\"nbSyll\", y=\"sizePron\", hue=\"POS\", alpha=0.05)"
   ]
  },
  {
   "cell_type": "markdown",
   "metadata": {},
   "source": [
    "## Manipuler des matrices de format exotique"
   ]
  },
  {
   "cell_type": "code",
   "execution_count": 15,
   "metadata": {},
   "outputs": [
    {
     "data": {
      "text/html": [
       "<div>\n",
       "<style scoped>\n",
       "    .dataframe tbody tr th:only-of-type {\n",
       "        vertical-align: middle;\n",
       "    }\n",
       "\n",
       "    .dataframe tbody tr th {\n",
       "        vertical-align: top;\n",
       "    }\n",
       "\n",
       "    .dataframe thead th {\n",
       "        text-align: right;\n",
       "    }\n",
       "</style>\n",
       "<table border=\"1\" class=\"dataframe\">\n",
       "  <thead>\n",
       "    <tr style=\"text-align: right;\">\n",
       "      <th></th>\n",
       "      <th>hwd</th>\n",
       "      <th>pronSampa</th>\n",
       "    </tr>\n",
       "  </thead>\n",
       "  <tbody>\n",
       "    <tr>\n",
       "      <th>0</th>\n",
       "      <td>a</td>\n",
       "      <td>@</td>\n",
       "    </tr>\n",
       "    <tr>\n",
       "      <th>1</th>\n",
       "      <td>a(2)</td>\n",
       "      <td>eI</td>\n",
       "    </tr>\n",
       "    <tr>\n",
       "      <th>2</th>\n",
       "      <td>a'ready</td>\n",
       "      <td>@ r\\ E d i:</td>\n",
       "    </tr>\n",
       "    <tr>\n",
       "      <th>3</th>\n",
       "      <td>a's</td>\n",
       "      <td>eI z</td>\n",
       "    </tr>\n",
       "    <tr>\n",
       "      <th>4</th>\n",
       "      <td>a.</td>\n",
       "      <td>eI</td>\n",
       "    </tr>\n",
       "  </tbody>\n",
       "</table>\n",
       "</div>"
      ],
      "text/plain": [
       "       hwd    pronSampa\n",
       "0        a            @\n",
       "1     a(2)           eI\n",
       "2  a'ready  @ r\\ E d i:\n",
       "3      a's         eI z\n",
       "4       a.           eI"
      ]
     },
     "execution_count": 15,
     "metadata": {},
     "output_type": "execute_result"
    }
   ],
   "source": [
    "cheminDuDicoBigi = \"./../data/dictionary/2015_Bigi-B.dict\" \n",
    "\n",
    "# ouvrir une matric exotique\n",
    "#dfDicoBigi = pd.read_csv(cheminDuDicoBigi, delimiter=\" [] \", encoding=\"utf8\")\n",
    "\n",
    "dfDicoBigi = pd.read_csv(cheminDuDicoBigi, delimiter=\" \\[\\] \", encoding=\"utf8\", engine='python', names=['hwd','pronSampa'], skiprows=8 )\n",
    "\n",
    "# afficher à l'écran un échantillon du tableau\n",
    "dfDicoBigi.head(n=5)"
   ]
  },
  {
   "cell_type": "markdown",
   "metadata": {},
   "source": [
    "Intro/rappel Regex : https://gitlab.huma-num.fr/mnauge/cnam-athon-transcrire/-/blob/master/codes/regexBasics.ipynb"
   ]
  },
  {
   "cell_type": "markdown",
   "metadata": {},
   "source": [
    "## Jouer avec deux matrices à la fois"
   ]
  },
  {
   "cell_type": "code",
   "execution_count": 32,
   "metadata": {},
   "outputs": [
    {
     "data": {
      "text/html": [
       "<div>\n",
       "<style scoped>\n",
       "    .dataframe tbody tr th:only-of-type {\n",
       "        vertical-align: middle;\n",
       "    }\n",
       "\n",
       "    .dataframe tbody tr th {\n",
       "        vertical-align: top;\n",
       "    }\n",
       "\n",
       "    .dataframe thead th {\n",
       "        text-align: right;\n",
       "    }\n",
       "</style>\n",
       "<table border=\"1\" class=\"dataframe\">\n",
       "  <thead>\n",
       "    <tr style=\"text-align: right;\">\n",
       "      <th></th>\n",
       "      <th>sampa</th>\n",
       "      <th>ipa</th>\n",
       "    </tr>\n",
       "  </thead>\n",
       "  <tbody>\n",
       "    <tr>\n",
       "      <th>151</th>\n",
       "      <td>p</td>\n",
       "      <td>p</td>\n",
       "    </tr>\n",
       "    <tr>\n",
       "      <th>180</th>\n",
       "      <td>||</td>\n",
       "      <td>‖</td>\n",
       "    </tr>\n",
       "    <tr>\n",
       "      <th>88</th>\n",
       "      <td>_F</td>\n",
       "      <td>̂</td>\n",
       "    </tr>\n",
       "  </tbody>\n",
       "</table>\n",
       "</div>"
      ],
      "text/plain": [
       "    sampa ipa\n",
       "151     p   p\n",
       "180    ||   ‖\n",
       "88     _F   ̂"
      ]
     },
     "execution_count": 32,
     "metadata": {},
     "output_type": "execute_result"
    }
   ],
   "source": [
    "cheminDuMappingSampaIpa = \"./../data/dictionary/sampa-ipa.txt\" \n",
    "dfMappingSampaIpa = pd.read_csv(cheminDuMappingSampaIpa, delimiter=\" +\", encoding=\"utf8\", engine='python', names=['sampa','ipa'])\n",
    "dfMappingSampaIpa.sample(n=3)"
   ]
  },
  {
   "cell_type": "code",
   "execution_count": 17,
   "metadata": {},
   "outputs": [
    {
     "data": {
      "text/plain": [
       "r      3\n",
       "U~/    2\n",
       "@      2\n",
       "g      2\n",
       "h      2\n",
       "      ..\n",
       "X      1\n",
       "s      1\n",
       "J      1\n",
       "Z      1\n",
       "t      1\n",
       "Name: sampa, Length: 177, dtype: int64"
      ]
     },
     "execution_count": 17,
     "metadata": {},
     "output_type": "execute_result"
    }
   ],
   "source": [
    "dfMappingSampaIpa['sampa'].value_counts()"
   ]
  },
  {
   "cell_type": "code",
   "execution_count": 18,
   "metadata": {},
   "outputs": [
    {
     "data": {
      "text/html": [
       "<div>\n",
       "<style scoped>\n",
       "    .dataframe tbody tr th:only-of-type {\n",
       "        vertical-align: middle;\n",
       "    }\n",
       "\n",
       "    .dataframe tbody tr th {\n",
       "        vertical-align: top;\n",
       "    }\n",
       "\n",
       "    .dataframe thead th {\n",
       "        text-align: right;\n",
       "    }\n",
       "</style>\n",
       "<table border=\"1\" class=\"dataframe\">\n",
       "  <thead>\n",
       "    <tr style=\"text-align: right;\">\n",
       "      <th></th>\n",
       "      <th>sampa</th>\n",
       "      <th>ipa</th>\n",
       "    </tr>\n",
       "  </thead>\n",
       "  <tbody>\n",
       "    <tr>\n",
       "      <th>28</th>\n",
       "      <td>@</td>\n",
       "      <td>ə</td>\n",
       "    </tr>\n",
       "    <tr>\n",
       "      <th>29</th>\n",
       "      <td>@</td>\n",
       "      <td>ɛ</td>\n",
       "    </tr>\n",
       "  </tbody>\n",
       "</table>\n",
       "</div>"
      ],
      "text/plain": [
       "   sampa ipa\n",
       "28     @   ə\n",
       "29     @   ɛ"
      ]
     },
     "execution_count": 18,
     "metadata": {},
     "output_type": "execute_result"
    }
   ],
   "source": [
    "dfMappingSampaIpa[dfMappingSampaIpa['sampa']=='@']"
   ]
  },
  {
   "cell_type": "code",
   "execution_count": 19,
   "metadata": {},
   "outputs": [],
   "source": [
    "# ne garder que la première occurence pour éviter une indécision mais ce n'est pas terrible. A discuter avec les linguistes.\n",
    "dfMappingSampaIpa.drop_duplicates(subset=['sampa'], keep='first', inplace=True)"
   ]
  },
  {
   "cell_type": "code",
   "execution_count": 20,
   "metadata": {},
   "outputs": [
    {
     "data": {
      "text/html": [
       "<div>\n",
       "<style scoped>\n",
       "    .dataframe tbody tr th:only-of-type {\n",
       "        vertical-align: middle;\n",
       "    }\n",
       "\n",
       "    .dataframe tbody tr th {\n",
       "        vertical-align: top;\n",
       "    }\n",
       "\n",
       "    .dataframe thead th {\n",
       "        text-align: right;\n",
       "    }\n",
       "</style>\n",
       "<table border=\"1\" class=\"dataframe\">\n",
       "  <thead>\n",
       "    <tr style=\"text-align: right;\">\n",
       "      <th></th>\n",
       "      <th>sampa</th>\n",
       "      <th>ipa</th>\n",
       "    </tr>\n",
       "  </thead>\n",
       "  <tbody>\n",
       "    <tr>\n",
       "      <th>28</th>\n",
       "      <td>@</td>\n",
       "      <td>ə</td>\n",
       "    </tr>\n",
       "  </tbody>\n",
       "</table>\n",
       "</div>"
      ],
      "text/plain": [
       "   sampa ipa\n",
       "28     @   ə"
      ]
     },
     "execution_count": 20,
     "metadata": {},
     "output_type": "execute_result"
    }
   ],
   "source": [
    "dfMappingSampaIpa[dfMappingSampaIpa['sampa']=='@']"
   ]
  },
  {
   "cell_type": "code",
   "execution_count": 21,
   "metadata": {},
   "outputs": [],
   "source": [
    "def sampa2ipa(strSampa, dfMapping):\n",
    "    ipaRes = \"\"\n",
    "    \n",
    "    listValSampa = strSampa.split(\" \")\n",
    "    #print(listValSampa)\n",
    "    for valSampa in listValSampa:\n",
    "        dfRowFinded = dfMapping[dfMapping['sampa']==valSampa]\n",
    "\n",
    "        if len(dfRowFinded==1):\n",
    "            ipaRes+=dfRowFinded.iloc[0]['ipa']\n",
    "        else:\n",
    "            ipaRes+='?'\n",
    "    return ipaRes"
   ]
  },
  {
   "cell_type": "code",
   "execution_count": 22,
   "metadata": {},
   "outputs": [
    {
     "data": {
      "text/plain": [
       "'ɑɹti'"
      ]
     },
     "execution_count": 22,
     "metadata": {},
     "output_type": "execute_result"
    }
   ],
   "source": [
    "sampa2ipa(\"A r\\ t i\",dfMappingSampaIpa)"
   ]
  },
  {
   "cell_type": "code",
   "execution_count": 23,
   "metadata": {},
   "outputs": [],
   "source": [
    "dfDicoBigiRich = dfDicoBigi.sample(n=1000).copy()\n",
    "\n",
    "dfDicoBigiRich['ipa'] = dfDicoBigiRich.apply(lambda x: sampa2ipa(x['pronSampa'], dfMappingSampaIpa),1)\n"
   ]
  },
  {
   "cell_type": "code",
   "execution_count": 24,
   "metadata": {},
   "outputs": [
    {
     "data": {
      "text/html": [
       "<div>\n",
       "<style scoped>\n",
       "    .dataframe tbody tr th:only-of-type {\n",
       "        vertical-align: middle;\n",
       "    }\n",
       "\n",
       "    .dataframe tbody tr th {\n",
       "        vertical-align: top;\n",
       "    }\n",
       "\n",
       "    .dataframe thead th {\n",
       "        text-align: right;\n",
       "    }\n",
       "</style>\n",
       "<table border=\"1\" class=\"dataframe\">\n",
       "  <thead>\n",
       "    <tr style=\"text-align: right;\">\n",
       "      <th></th>\n",
       "      <th>hwd</th>\n",
       "      <th>pronSampa</th>\n",
       "      <th>ipa</th>\n",
       "    </tr>\n",
       "  </thead>\n",
       "  <tbody>\n",
       "    <tr>\n",
       "      <th>68578</th>\n",
       "      <td>limited</td>\n",
       "      <td>l I m @ 4 @ d</td>\n",
       "      <td>lɪməɾəd</td>\n",
       "    </tr>\n",
       "    <tr>\n",
       "      <th>6197</th>\n",
       "      <td>attested</td>\n",
       "      <td>@ t E s t i d</td>\n",
       "      <td>ətɛstid</td>\n",
       "    </tr>\n",
       "    <tr>\n",
       "      <th>14545</th>\n",
       "      <td>brockman</td>\n",
       "      <td>b r\\ A k m @ n</td>\n",
       "      <td>bɹɑkmən</td>\n",
       "    </tr>\n",
       "    <tr>\n",
       "      <th>58203</th>\n",
       "      <td>instinet</td>\n",
       "      <td>I n s t i n E t</td>\n",
       "      <td>ɪnstinɛt</td>\n",
       "    </tr>\n",
       "    <tr>\n",
       "      <th>34627</th>\n",
       "      <td>eastes</td>\n",
       "      <td>i: s t s</td>\n",
       "      <td>iːsts</td>\n",
       "    </tr>\n",
       "  </tbody>\n",
       "</table>\n",
       "</div>"
      ],
      "text/plain": [
       "            hwd        pronSampa       ipa\n",
       "68578   limited    l I m @ 4 @ d   lɪməɾəd\n",
       "6197   attested    @ t E s t i d   ətɛstid\n",
       "14545  brockman   b r\\ A k m @ n   bɹɑkmən\n",
       "58203  instinet  I n s t i n E t  ɪnstinɛt\n",
       "34627    eastes         i: s t s     iːsts"
      ]
     },
     "execution_count": 24,
     "metadata": {},
     "output_type": "execute_result"
    }
   ],
   "source": [
    "dfDicoBigiRich.sample(n=5)"
   ]
  },
  {
   "cell_type": "markdown",
   "metadata": {},
   "source": [
    "### Sauvegarder la nouvelle matrice\n"
   ]
  },
  {
   "cell_type": "code",
   "execution_count": 25,
   "metadata": {},
   "outputs": [],
   "source": [
    "pathDicoBigiRich = \"./../data/dataframe/BigiRichSample.csv\"\n",
    "dfDicoBigiRich.to_csv(pathDicoBigiRich, sep=\";\",encoding=\"utf8\",index=False)"
   ]
  }
 ],
 "metadata": {
  "kernelspec": {
   "display_name": "Python 3",
   "language": "python",
   "name": "python3"
  },
  "language_info": {
   "codemirror_mode": {
    "name": "ipython",
    "version": 3
   },
   "file_extension": ".py",
   "mimetype": "text/x-python",
   "name": "python",
   "nbconvert_exporter": "python",
   "pygments_lexer": "ipython3",
   "version": "3.6.10"
  }
 },
 "nbformat": 4,
 "nbformat_minor": 4
}
